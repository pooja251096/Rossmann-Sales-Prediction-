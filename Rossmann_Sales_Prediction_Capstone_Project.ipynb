{
  "nbformat": 4,
  "nbformat_minor": 0,
  "metadata": {
    "colab": {
      "name": "Rossmann Sales Prediction - Capstone Project.ipynb",
      "provenance": [],
      "collapsed_sections": [],
      "include_colab_link": true
    },
    "kernelspec": {
      "display_name": "Python 3",
      "language": "python",
      "name": "python3"
    },
    "language_info": {
      "codemirror_mode": {
        "name": "ipython",
        "version": 3
      },
      "file_extension": ".py",
      "mimetype": "text/x-python",
      "name": "python",
      "nbconvert_exporter": "python",
      "pygments_lexer": "ipython3",
      "version": "3.6.6"
    }
  },
  "cells": [
    {
      "cell_type": "markdown",
      "metadata": {
        "id": "view-in-github",
        "colab_type": "text"
      },
      "source": [
        "<a href=\"https://colab.research.google.com/github/pooja251096/Rossmann-Sales-Prediction-/blob/main/Rossmann_Sales_Prediction_Capstone_Project.ipynb\" target=\"_parent\"><img src=\"https://colab.research.google.com/assets/colab-badge.svg\" alt=\"Open In Colab\"/></a>"
      ]
    },
    {
      "cell_type": "markdown",
      "metadata": {
        "id": "tOGC-qoyhJeX"
      },
      "source": [
        "# <b><u> Project Title : Sales Prediction : Predicting sales of a major store chain Rossmann</u></b>"
      ]
    },
    {
      "cell_type": "markdown",
      "metadata": {
        "id": "Y06xIdG26kRF"
      },
      "source": [
        "## <b> Problem Description </b>\n",
        "\n",
        "### Rossmann operates over 3,000 drug stores in 7 European countries. Currently, Rossmann store managers are tasked with predicting their daily sales for up to six weeks in advance. Store sales are influenced by many factors, including promotions, competition, school and state holidays, seasonality, and locality. With thousands of individual managers predicting sales based on their unique circumstances, the accuracy of results can be quite varied.\n",
        "\n",
        "### You are provided with historical sales data for 1,115 Rossmann stores. The task is to forecast the \"Sales\" column for the test set. Note that some stores in the dataset were temporarily closed for refurbishment."
      ]
    },
    {
      "cell_type": "markdown",
      "metadata": {
        "id": "WWeU1f9bwqQq"
      },
      "source": [
        "## <b> Data Description </b>\n",
        "\n",
        "### <b>Rossmann Stores Data.csv </b> - historical data including Sales\n",
        "### <b>store.csv </b> - supplemental information about the stores\n",
        "\n",
        "\n",
        "### <b><u>Data fields</u></b>\n",
        "### Most of the fields are self-explanatory. The following are descriptions for those that aren't.\n",
        "\n",
        "* #### Id - an Id that represents a (Store, Date) duple within the test set\n",
        "* #### Store - a unique Id for each store\n",
        "* #### Sales - the turnover for any given day (this is what you are predicting)\n",
        "* #### Customers - the number of customers on a given day\n",
        "* #### Open - an indicator for whether the store was open: 0 = closed, 1 = open\n",
        "* #### StateHoliday - indicates a state holiday. Normally all stores, with few exceptions, are closed on state holidays. Note that all schools are closed on public holidays and weekends. a = public holiday, b = Easter holiday, c = Christmas, 0 = None\n",
        "* #### SchoolHoliday - indicates if the (Store, Date) was affected by the closure of public schools\n",
        "* #### StoreType - differentiates between 4 different store models: a, b, c, d\n",
        "* #### Assortment - describes an assortment level: a = basic, b = extra, c = extended\n",
        "* #### CompetitionDistance - distance in meters to the nearest competitor store\n",
        "* #### CompetitionOpenSince[Month/Year] - gives the approximate year and month of the time the nearest competitor was opened\n",
        "* #### Promo - indicates whether a store is running a promo on that day\n",
        "* #### Promo2 - Promo2 is a continuing and consecutive promotion for some stores: 0 = store is not participating, 1 = store is participating\n",
        "* #### Promo2Since[Year/Week] - describes the year and calendar week when the store started participating in Promo2\n",
        "* #### PromoInterval - describes the consecutive intervals Promo2 is started, naming the months the promotion is started anew. E.g. \"Feb,May,Aug,Nov\" means each round starts in February, May, August, November of any given year for that store"
      ]
    },
    {
      "cell_type": "code",
      "metadata": {
        "id": "6pqVQ3xCY9mD"
      },
      "source": [
        "# Importing the libraries\n",
        "import numpy as np\n",
        "import pandas as pd\n",
        "from numpy import math\n",
        "\n",
        "from sklearn.preprocessing import StandardScaler\n",
        "from sklearn.model_selection import train_test_split\n",
        "from sklearn.linear_model import LinearRegression\n",
        "from sklearn.metrics import r2_score\n",
        "from sklearn.metrics import mean_squared_error\n",
        "from sklearn import neighbors\n",
        "from math import sqrt\n",
        "import matplotlib.pyplot as plt\n",
        "%matplotlib inline\n",
        "\n",
        "import matplotlib.pyplot as plt\n",
        "import seaborn as sns\n",
        "import calendar\n",
        "import datetime"
      ],
      "execution_count": 1,
      "outputs": []
    },
    {
      "cell_type": "code",
      "metadata": {
        "colab": {
          "base_uri": "https://localhost:8080/"
        },
        "id": "Ibdsklv3Y9Uh",
        "outputId": "29173b4e-7473-4100-a6b2-b54fc3356f2a"
      },
      "source": [
        "from google.colab import drive\n",
        "drive.mount('/content/drive')"
      ],
      "execution_count": 2,
      "outputs": [
        {
          "output_type": "stream",
          "name": "stdout",
          "text": [
            "Mounted at /content/drive\n"
          ]
        }
      ]
    },
    {
      "cell_type": "code",
      "metadata": {
        "colab": {
          "base_uri": "https://localhost:8080/"
        },
        "id": "Tdpq8h9AY9RI",
        "outputId": "67736a62-b80a-4d37-f832-4eca614aea99"
      },
      "source": [
        "store_data = pd.read_csv('/content/drive/MyDrive/Almabetter learning/Retail sales prediction/Rossmann Stores Data.csv')\n",
        "stores = pd.read_csv('/content/drive/MyDrive/Almabetter learning/Retail sales prediction/store.csv')"
      ],
      "execution_count": 3,
      "outputs": [
        {
          "output_type": "stream",
          "name": "stderr",
          "text": [
            "/usr/local/lib/python3.7/dist-packages/IPython/core/interactiveshell.py:2718: DtypeWarning: Columns (7) have mixed types.Specify dtype option on import or set low_memory=False.\n",
            "  interactivity=interactivity, compiler=compiler, result=result)\n"
          ]
        }
      ]
    },
    {
      "cell_type": "code",
      "metadata": {
        "colab": {
          "base_uri": "https://localhost:8080/"
        },
        "id": "Kh4zxQYeHmcy",
        "outputId": "a8f60f39-a9f1-41a6-ff7d-62c88473e115"
      },
      "source": [
        "store_data.info"
      ],
      "execution_count": 5,
      "outputs": [
        {
          "output_type": "execute_result",
          "data": {
            "text/plain": [
              "<bound method DataFrame.info of          Store  DayOfWeek        Date  ...  Promo  StateHoliday  SchoolHoliday\n",
              "0            1          5  2015-07-31  ...      1             0              1\n",
              "1            2          5  2015-07-31  ...      1             0              1\n",
              "2            3          5  2015-07-31  ...      1             0              1\n",
              "3            4          5  2015-07-31  ...      1             0              1\n",
              "4            5          5  2015-07-31  ...      1             0              1\n",
              "...        ...        ...         ...  ...    ...           ...            ...\n",
              "1017204   1111          2  2013-01-01  ...      0             a              1\n",
              "1017205   1112          2  2013-01-01  ...      0             a              1\n",
              "1017206   1113          2  2013-01-01  ...      0             a              1\n",
              "1017207   1114          2  2013-01-01  ...      0             a              1\n",
              "1017208   1115          2  2013-01-01  ...      0             a              1\n",
              "\n",
              "[1017209 rows x 9 columns]>"
            ]
          },
          "metadata": {},
          "execution_count": 5
        }
      ]
    },
    {
      "cell_type": "code",
      "metadata": {
        "colab": {
          "base_uri": "https://localhost:8080/"
        },
        "id": "kcQHzNSdH760",
        "outputId": "ea22031f-9909-4aa5-9e45-024573296259"
      },
      "source": [
        "stores.columns"
      ],
      "execution_count": 6,
      "outputs": [
        {
          "output_type": "execute_result",
          "data": {
            "text/plain": [
              "Index(['Store', 'StoreType', 'Assortment', 'CompetitionDistance',\n",
              "       'CompetitionOpenSinceMonth', 'CompetitionOpenSinceYear', 'Promo2',\n",
              "       'Promo2SinceWeek', 'Promo2SinceYear', 'PromoInterval'],\n",
              "      dtype='object')"
            ]
          },
          "metadata": {},
          "execution_count": 6
        }
      ]
    },
    {
      "cell_type": "code",
      "metadata": {
        "colab": {
          "base_uri": "https://localhost:8080/",
          "height": 203
        },
        "id": "mIQHKzRpexbH",
        "outputId": "d6c8d76d-9fb9-4a4c-de26-270e0a9c25e7"
      },
      "source": [
        "store_data.head()"
      ],
      "execution_count": 7,
      "outputs": [
        {
          "output_type": "execute_result",
          "data": {
            "text/html": [
              "<div>\n",
              "<style scoped>\n",
              "    .dataframe tbody tr th:only-of-type {\n",
              "        vertical-align: middle;\n",
              "    }\n",
              "\n",
              "    .dataframe tbody tr th {\n",
              "        vertical-align: top;\n",
              "    }\n",
              "\n",
              "    .dataframe thead th {\n",
              "        text-align: right;\n",
              "    }\n",
              "</style>\n",
              "<table border=\"1\" class=\"dataframe\">\n",
              "  <thead>\n",
              "    <tr style=\"text-align: right;\">\n",
              "      <th></th>\n",
              "      <th>Store</th>\n",
              "      <th>DayOfWeek</th>\n",
              "      <th>Date</th>\n",
              "      <th>Sales</th>\n",
              "      <th>Customers</th>\n",
              "      <th>Open</th>\n",
              "      <th>Promo</th>\n",
              "      <th>StateHoliday</th>\n",
              "      <th>SchoolHoliday</th>\n",
              "    </tr>\n",
              "  </thead>\n",
              "  <tbody>\n",
              "    <tr>\n",
              "      <th>0</th>\n",
              "      <td>1</td>\n",
              "      <td>5</td>\n",
              "      <td>2015-07-31</td>\n",
              "      <td>5263</td>\n",
              "      <td>555</td>\n",
              "      <td>1</td>\n",
              "      <td>1</td>\n",
              "      <td>0</td>\n",
              "      <td>1</td>\n",
              "    </tr>\n",
              "    <tr>\n",
              "      <th>1</th>\n",
              "      <td>2</td>\n",
              "      <td>5</td>\n",
              "      <td>2015-07-31</td>\n",
              "      <td>6064</td>\n",
              "      <td>625</td>\n",
              "      <td>1</td>\n",
              "      <td>1</td>\n",
              "      <td>0</td>\n",
              "      <td>1</td>\n",
              "    </tr>\n",
              "    <tr>\n",
              "      <th>2</th>\n",
              "      <td>3</td>\n",
              "      <td>5</td>\n",
              "      <td>2015-07-31</td>\n",
              "      <td>8314</td>\n",
              "      <td>821</td>\n",
              "      <td>1</td>\n",
              "      <td>1</td>\n",
              "      <td>0</td>\n",
              "      <td>1</td>\n",
              "    </tr>\n",
              "    <tr>\n",
              "      <th>3</th>\n",
              "      <td>4</td>\n",
              "      <td>5</td>\n",
              "      <td>2015-07-31</td>\n",
              "      <td>13995</td>\n",
              "      <td>1498</td>\n",
              "      <td>1</td>\n",
              "      <td>1</td>\n",
              "      <td>0</td>\n",
              "      <td>1</td>\n",
              "    </tr>\n",
              "    <tr>\n",
              "      <th>4</th>\n",
              "      <td>5</td>\n",
              "      <td>5</td>\n",
              "      <td>2015-07-31</td>\n",
              "      <td>4822</td>\n",
              "      <td>559</td>\n",
              "      <td>1</td>\n",
              "      <td>1</td>\n",
              "      <td>0</td>\n",
              "      <td>1</td>\n",
              "    </tr>\n",
              "  </tbody>\n",
              "</table>\n",
              "</div>"
            ],
            "text/plain": [
              "   Store  DayOfWeek        Date  Sales  ...  Open  Promo  StateHoliday SchoolHoliday\n",
              "0      1          5  2015-07-31   5263  ...     1      1             0             1\n",
              "1      2          5  2015-07-31   6064  ...     1      1             0             1\n",
              "2      3          5  2015-07-31   8314  ...     1      1             0             1\n",
              "3      4          5  2015-07-31  13995  ...     1      1             0             1\n",
              "4      5          5  2015-07-31   4822  ...     1      1             0             1\n",
              "\n",
              "[5 rows x 9 columns]"
            ]
          },
          "metadata": {},
          "execution_count": 7
        }
      ]
    },
    {
      "cell_type": "code",
      "metadata": {
        "id": "mt1TujaKUCKA"
      },
      "source": [
        "## Convert date column from object to date\n",
        "store_data['Date']= pd.to_datetime(store_data['Date'])"
      ],
      "execution_count": 8,
      "outputs": []
    },
    {
      "cell_type": "code",
      "metadata": {
        "id": "VLp0PCTQPvxQ"
      },
      "source": [
        "store_data['Year'] = pd.DatetimeIndex(store_data['Date']).year\n",
        "store_data['Month'] = pd.DatetimeIndex(store_data['Date']).month"
      ],
      "execution_count": 9,
      "outputs": []
    },
    {
      "cell_type": "code",
      "metadata": {
        "colab": {
          "base_uri": "https://localhost:8080/",
          "height": 203
        },
        "id": "TZ3voz33moDX",
        "outputId": "7be39e6d-8d76-4385-86bd-e0429a707b5c"
      },
      "source": [
        "store_data.head()"
      ],
      "execution_count": 10,
      "outputs": [
        {
          "output_type": "execute_result",
          "data": {
            "text/html": [
              "<div>\n",
              "<style scoped>\n",
              "    .dataframe tbody tr th:only-of-type {\n",
              "        vertical-align: middle;\n",
              "    }\n",
              "\n",
              "    .dataframe tbody tr th {\n",
              "        vertical-align: top;\n",
              "    }\n",
              "\n",
              "    .dataframe thead th {\n",
              "        text-align: right;\n",
              "    }\n",
              "</style>\n",
              "<table border=\"1\" class=\"dataframe\">\n",
              "  <thead>\n",
              "    <tr style=\"text-align: right;\">\n",
              "      <th></th>\n",
              "      <th>Store</th>\n",
              "      <th>DayOfWeek</th>\n",
              "      <th>Date</th>\n",
              "      <th>Sales</th>\n",
              "      <th>Customers</th>\n",
              "      <th>Open</th>\n",
              "      <th>Promo</th>\n",
              "      <th>StateHoliday</th>\n",
              "      <th>SchoolHoliday</th>\n",
              "      <th>Year</th>\n",
              "      <th>Month</th>\n",
              "    </tr>\n",
              "  </thead>\n",
              "  <tbody>\n",
              "    <tr>\n",
              "      <th>0</th>\n",
              "      <td>1</td>\n",
              "      <td>5</td>\n",
              "      <td>2015-07-31</td>\n",
              "      <td>5263</td>\n",
              "      <td>555</td>\n",
              "      <td>1</td>\n",
              "      <td>1</td>\n",
              "      <td>0</td>\n",
              "      <td>1</td>\n",
              "      <td>2015</td>\n",
              "      <td>7</td>\n",
              "    </tr>\n",
              "    <tr>\n",
              "      <th>1</th>\n",
              "      <td>2</td>\n",
              "      <td>5</td>\n",
              "      <td>2015-07-31</td>\n",
              "      <td>6064</td>\n",
              "      <td>625</td>\n",
              "      <td>1</td>\n",
              "      <td>1</td>\n",
              "      <td>0</td>\n",
              "      <td>1</td>\n",
              "      <td>2015</td>\n",
              "      <td>7</td>\n",
              "    </tr>\n",
              "    <tr>\n",
              "      <th>2</th>\n",
              "      <td>3</td>\n",
              "      <td>5</td>\n",
              "      <td>2015-07-31</td>\n",
              "      <td>8314</td>\n",
              "      <td>821</td>\n",
              "      <td>1</td>\n",
              "      <td>1</td>\n",
              "      <td>0</td>\n",
              "      <td>1</td>\n",
              "      <td>2015</td>\n",
              "      <td>7</td>\n",
              "    </tr>\n",
              "    <tr>\n",
              "      <th>3</th>\n",
              "      <td>4</td>\n",
              "      <td>5</td>\n",
              "      <td>2015-07-31</td>\n",
              "      <td>13995</td>\n",
              "      <td>1498</td>\n",
              "      <td>1</td>\n",
              "      <td>1</td>\n",
              "      <td>0</td>\n",
              "      <td>1</td>\n",
              "      <td>2015</td>\n",
              "      <td>7</td>\n",
              "    </tr>\n",
              "    <tr>\n",
              "      <th>4</th>\n",
              "      <td>5</td>\n",
              "      <td>5</td>\n",
              "      <td>2015-07-31</td>\n",
              "      <td>4822</td>\n",
              "      <td>559</td>\n",
              "      <td>1</td>\n",
              "      <td>1</td>\n",
              "      <td>0</td>\n",
              "      <td>1</td>\n",
              "      <td>2015</td>\n",
              "      <td>7</td>\n",
              "    </tr>\n",
              "  </tbody>\n",
              "</table>\n",
              "</div>"
            ],
            "text/plain": [
              "   Store  DayOfWeek       Date  Sales  ...  StateHoliday  SchoolHoliday  Year Month\n",
              "0      1          5 2015-07-31   5263  ...             0              1  2015     7\n",
              "1      2          5 2015-07-31   6064  ...             0              1  2015     7\n",
              "2      3          5 2015-07-31   8314  ...             0              1  2015     7\n",
              "3      4          5 2015-07-31  13995  ...             0              1  2015     7\n",
              "4      5          5 2015-07-31   4822  ...             0              1  2015     7\n",
              "\n",
              "[5 rows x 11 columns]"
            ]
          },
          "metadata": {},
          "execution_count": 10
        }
      ]
    },
    {
      "cell_type": "code",
      "metadata": {
        "colab": {
          "base_uri": "https://localhost:8080/"
        },
        "id": "rqHZrvtK1hzb",
        "outputId": "61ce29e7-9b5c-4126-e664-2a4ced6c569f"
      },
      "source": [
        "stores.isna().sum()"
      ],
      "execution_count": 11,
      "outputs": [
        {
          "output_type": "execute_result",
          "data": {
            "text/plain": [
              "Store                          0\n",
              "StoreType                      0\n",
              "Assortment                     0\n",
              "CompetitionDistance            3\n",
              "CompetitionOpenSinceMonth    354\n",
              "CompetitionOpenSinceYear     354\n",
              "Promo2                         0\n",
              "Promo2SinceWeek              544\n",
              "Promo2SinceYear              544\n",
              "PromoInterval                544\n",
              "dtype: int64"
            ]
          },
          "metadata": {},
          "execution_count": 11
        }
      ]
    },
    {
      "cell_type": "code",
      "metadata": {
        "id": "UuazJsYzEYLt"
      },
      "source": [
        "## Wherever Promo2 ie continuing and consecutive promotion is zero, implies store didn't participate,\n",
        "# hence Promo2SinceWeek and Promo2SinceYear should be zero, also there won't be PromoInterval\n",
        "stores.loc[(stores['Promo2']==0) & (stores['Promo2SinceWeek'].isna()),['Promo2SinceWeek']]=0\n",
        "stores.loc[(stores['Promo2']==0) & (stores['Promo2SinceYear'].isna()),['Promo2SinceYear','PromoInterval']]=0"
      ],
      "execution_count": 12,
      "outputs": []
    },
    {
      "cell_type": "code",
      "metadata": {
        "id": "YnyJx_pPAA5O"
      },
      "source": [
        "stores.loc[stores['CompetitionDistance'].isna()]=stores['CompetitionDistance'].max()#CompetitionDistance"
      ],
      "execution_count": 13,
      "outputs": []
    },
    {
      "cell_type": "code",
      "metadata": {
        "colab": {
          "base_uri": "https://localhost:8080/"
        },
        "id": "9wyUxGq36Nmu",
        "outputId": "c9886299-9ea1-4e60-9908-9f0a32a13311"
      },
      "source": [
        "stores.isna().sum()"
      ],
      "execution_count": 14,
      "outputs": [
        {
          "output_type": "execute_result",
          "data": {
            "text/plain": [
              "Store                          0\n",
              "StoreType                      0\n",
              "Assortment                     0\n",
              "CompetitionDistance            0\n",
              "CompetitionOpenSinceMonth    351\n",
              "CompetitionOpenSinceYear     351\n",
              "Promo2                         0\n",
              "Promo2SinceWeek                0\n",
              "Promo2SinceYear                0\n",
              "PromoInterval                  0\n",
              "dtype: int64"
            ]
          },
          "metadata": {},
          "execution_count": 14
        }
      ]
    },
    {
      "cell_type": "code",
      "metadata": {
        "id": "UcCC0zhcDnms"
      },
      "source": [
        "## CompetitionOpenSinceMonth and CompetitionOpenSinceYear have been combined, \n",
        "## so no changes in individual columns, \n",
        "## in the final data set both have been dropped"
      ],
      "execution_count": 15,
      "outputs": []
    },
    {
      "cell_type": "code",
      "metadata": {
        "colab": {
          "base_uri": "https://localhost:8080/"
        },
        "id": "y8n-QPqj2wba",
        "outputId": "73fde6ea-dda4-455e-82fc-2e9abbc23a39"
      },
      "source": [
        "store_data['Date'].min()"
      ],
      "execution_count": 16,
      "outputs": [
        {
          "output_type": "execute_result",
          "data": {
            "text/plain": [
              "Timestamp('2013-01-01 00:00:00')"
            ]
          },
          "metadata": {},
          "execution_count": 16
        }
      ]
    },
    {
      "cell_type": "code",
      "metadata": {
        "colab": {
          "base_uri": "https://localhost:8080/"
        },
        "id": "rJjHmouO3pxk",
        "outputId": "1df0f613-e359-4aa5-8f3e-c5d9f0ba811a"
      },
      "source": [
        "stores[stores['Promo2SinceYear']!=0]['Promo2SinceYear'].min()"
      ],
      "execution_count": 17,
      "outputs": [
        {
          "output_type": "execute_result",
          "data": {
            "text/plain": [
              "2009.0"
            ]
          },
          "metadata": {},
          "execution_count": 17
        }
      ]
    },
    {
      "cell_type": "code",
      "metadata": {
        "id": "ynVyT73yLgkt"
      },
      "source": [
        "### Code Ref https://www.kaggle.com/shivam017arora/rossmann-sales-prediction-top-1-solution\n",
        "## Modified accordingly\n",
        "\n",
        "competition_open = []\n",
        "for index, value in stores[['CompetitionOpenSinceMonth', 'CompetitionOpenSinceYear']].iterrows():\n",
        "    try:\n",
        "        year, month = int(value['CompetitionOpenSinceYear']), int(value['CompetitionOpenSinceMonth'])\n",
        "        date = pd.to_datetime(\"{}-{}-01\".format(year, month), format='%Y-%m')\n",
        "        competition_open.append(date)\n",
        "    except:\n",
        "        competition_open.append('1813-01-01') # Added a dummy date, 200 yrs less than min sales date\n",
        "stores['CompetitionOpen'] = pd.Series(competition_open)\n",
        "stores['CompetitionOpen'] = stores['CompetitionOpen'].dt.strftime('%Y-%m-%d')\n",
        "stores['CompetitionOpen']= pd.to_datetime(stores['CompetitionOpen'])\n",
        "\n",
        "\n",
        "\n",
        "\n",
        "\n",
        "promo = []\n",
        "for index, value in stores[['Promo2SinceWeek', 'Promo2SinceYear']].iterrows():\n",
        "    try:\n",
        "        year, week = int(value['Promo2SinceYear']), int(value['Promo2SinceWeek'])\n",
        "        date = pd.to_datetime(\"{}{}0\".format(year, week), format='%Y%W%w')\n",
        "        promo.append(date)\n",
        "    except:\n",
        "        promo.append('1909-01-01')   ## dummy date\n",
        "stores['promoYearWeek'] = pd.to_datetime(pd.Series(promo))\n",
        "stores['promoYearWeek'] = stores['promoYearWeek'].dt.strftime('%Y%m%d')\n",
        "stores['promoYearWeek']= pd.to_datetime(stores['promoYearWeek'])\n"
      ],
      "execution_count": 18,
      "outputs": []
    },
    {
      "cell_type": "code",
      "metadata": {
        "colab": {
          "base_uri": "https://localhost:8080/"
        },
        "id": "9Dj2WtMlcMi9",
        "outputId": "a4704fe6-0f21-4788-bb02-b4a157d91160"
      },
      "source": [
        "stores.info()"
      ],
      "execution_count": 19,
      "outputs": [
        {
          "output_type": "stream",
          "name": "stdout",
          "text": [
            "<class 'pandas.core.frame.DataFrame'>\n",
            "RangeIndex: 1115 entries, 0 to 1114\n",
            "Data columns (total 12 columns):\n",
            " #   Column                     Non-Null Count  Dtype         \n",
            "---  ------                     --------------  -----         \n",
            " 0   Store                      1115 non-null   int64         \n",
            " 1   StoreType                  1115 non-null   object        \n",
            " 2   Assortment                 1115 non-null   object        \n",
            " 3   CompetitionDistance        1115 non-null   float64       \n",
            " 4   CompetitionOpenSinceMonth  764 non-null    float64       \n",
            " 5   CompetitionOpenSinceYear   764 non-null    float64       \n",
            " 6   Promo2                     1115 non-null   int64         \n",
            " 7   Promo2SinceWeek            1115 non-null   float64       \n",
            " 8   Promo2SinceYear            1115 non-null   float64       \n",
            " 9   PromoInterval              1115 non-null   object        \n",
            " 10  CompetitionOpen            1115 non-null   datetime64[ns]\n",
            " 11  promoYearWeek              1115 non-null   datetime64[ns]\n",
            "dtypes: datetime64[ns](2), float64(5), int64(2), object(3)\n",
            "memory usage: 104.7+ KB\n"
          ]
        }
      ]
    },
    {
      "cell_type": "code",
      "metadata": {
        "colab": {
          "base_uri": "https://localhost:8080/",
          "height": 223
        },
        "id": "PST_x7vjLgTK",
        "outputId": "8c0c1fad-33c0-445c-bf61-e192b7f539fd"
      },
      "source": [
        "stores.head()"
      ],
      "execution_count": 20,
      "outputs": [
        {
          "output_type": "execute_result",
          "data": {
            "text/html": [
              "<div>\n",
              "<style scoped>\n",
              "    .dataframe tbody tr th:only-of-type {\n",
              "        vertical-align: middle;\n",
              "    }\n",
              "\n",
              "    .dataframe tbody tr th {\n",
              "        vertical-align: top;\n",
              "    }\n",
              "\n",
              "    .dataframe thead th {\n",
              "        text-align: right;\n",
              "    }\n",
              "</style>\n",
              "<table border=\"1\" class=\"dataframe\">\n",
              "  <thead>\n",
              "    <tr style=\"text-align: right;\">\n",
              "      <th></th>\n",
              "      <th>Store</th>\n",
              "      <th>StoreType</th>\n",
              "      <th>Assortment</th>\n",
              "      <th>CompetitionDistance</th>\n",
              "      <th>CompetitionOpenSinceMonth</th>\n",
              "      <th>CompetitionOpenSinceYear</th>\n",
              "      <th>Promo2</th>\n",
              "      <th>Promo2SinceWeek</th>\n",
              "      <th>Promo2SinceYear</th>\n",
              "      <th>PromoInterval</th>\n",
              "      <th>CompetitionOpen</th>\n",
              "      <th>promoYearWeek</th>\n",
              "    </tr>\n",
              "  </thead>\n",
              "  <tbody>\n",
              "    <tr>\n",
              "      <th>0</th>\n",
              "      <td>1</td>\n",
              "      <td>c</td>\n",
              "      <td>a</td>\n",
              "      <td>1270.0</td>\n",
              "      <td>9.0</td>\n",
              "      <td>2008.0</td>\n",
              "      <td>0</td>\n",
              "      <td>0.0</td>\n",
              "      <td>0.0</td>\n",
              "      <td>0</td>\n",
              "      <td>2008-09-01</td>\n",
              "      <td>1909-01-01</td>\n",
              "    </tr>\n",
              "    <tr>\n",
              "      <th>1</th>\n",
              "      <td>2</td>\n",
              "      <td>a</td>\n",
              "      <td>a</td>\n",
              "      <td>570.0</td>\n",
              "      <td>11.0</td>\n",
              "      <td>2007.0</td>\n",
              "      <td>1</td>\n",
              "      <td>13.0</td>\n",
              "      <td>2010.0</td>\n",
              "      <td>Jan,Apr,Jul,Oct</td>\n",
              "      <td>2007-11-01</td>\n",
              "      <td>2010-04-04</td>\n",
              "    </tr>\n",
              "    <tr>\n",
              "      <th>2</th>\n",
              "      <td>3</td>\n",
              "      <td>a</td>\n",
              "      <td>a</td>\n",
              "      <td>14130.0</td>\n",
              "      <td>12.0</td>\n",
              "      <td>2006.0</td>\n",
              "      <td>1</td>\n",
              "      <td>14.0</td>\n",
              "      <td>2011.0</td>\n",
              "      <td>Jan,Apr,Jul,Oct</td>\n",
              "      <td>2006-12-01</td>\n",
              "      <td>2011-04-10</td>\n",
              "    </tr>\n",
              "    <tr>\n",
              "      <th>3</th>\n",
              "      <td>4</td>\n",
              "      <td>c</td>\n",
              "      <td>c</td>\n",
              "      <td>620.0</td>\n",
              "      <td>9.0</td>\n",
              "      <td>2009.0</td>\n",
              "      <td>0</td>\n",
              "      <td>0.0</td>\n",
              "      <td>0.0</td>\n",
              "      <td>0</td>\n",
              "      <td>2009-09-01</td>\n",
              "      <td>1909-01-01</td>\n",
              "    </tr>\n",
              "    <tr>\n",
              "      <th>4</th>\n",
              "      <td>5</td>\n",
              "      <td>a</td>\n",
              "      <td>a</td>\n",
              "      <td>29910.0</td>\n",
              "      <td>4.0</td>\n",
              "      <td>2015.0</td>\n",
              "      <td>0</td>\n",
              "      <td>0.0</td>\n",
              "      <td>0.0</td>\n",
              "      <td>0</td>\n",
              "      <td>2015-04-01</td>\n",
              "      <td>1909-01-01</td>\n",
              "    </tr>\n",
              "  </tbody>\n",
              "</table>\n",
              "</div>"
            ],
            "text/plain": [
              "   Store StoreType Assortment  ...    PromoInterval  CompetitionOpen  promoYearWeek\n",
              "0      1         c          a  ...                0       2008-09-01     1909-01-01\n",
              "1      2         a          a  ...  Jan,Apr,Jul,Oct       2007-11-01     2010-04-04\n",
              "2      3         a          a  ...  Jan,Apr,Jul,Oct       2006-12-01     2011-04-10\n",
              "3      4         c          c  ...                0       2009-09-01     1909-01-01\n",
              "4      5         a          a  ...                0       2015-04-01     1909-01-01\n",
              "\n",
              "[5 rows x 12 columns]"
            ]
          },
          "metadata": {},
          "execution_count": 20
        }
      ]
    },
    {
      "cell_type": "code",
      "metadata": {
        "colab": {
          "base_uri": "https://localhost:8080/"
        },
        "id": "7BvdzCTgpsDp",
        "outputId": "569d8c8f-08f7-43d2-dd86-ae063876b1e8"
      },
      "source": [
        "store_data.info()"
      ],
      "execution_count": 21,
      "outputs": [
        {
          "output_type": "stream",
          "name": "stdout",
          "text": [
            "<class 'pandas.core.frame.DataFrame'>\n",
            "RangeIndex: 1017209 entries, 0 to 1017208\n",
            "Data columns (total 11 columns):\n",
            " #   Column         Non-Null Count    Dtype         \n",
            "---  ------         --------------    -----         \n",
            " 0   Store          1017209 non-null  int64         \n",
            " 1   DayOfWeek      1017209 non-null  int64         \n",
            " 2   Date           1017209 non-null  datetime64[ns]\n",
            " 3   Sales          1017209 non-null  int64         \n",
            " 4   Customers      1017209 non-null  int64         \n",
            " 5   Open           1017209 non-null  int64         \n",
            " 6   Promo          1017209 non-null  int64         \n",
            " 7   StateHoliday   1017209 non-null  object        \n",
            " 8   SchoolHoliday  1017209 non-null  int64         \n",
            " 9   Year           1017209 non-null  int64         \n",
            " 10  Month          1017209 non-null  int64         \n",
            "dtypes: datetime64[ns](1), int64(9), object(1)\n",
            "memory usage: 85.4+ MB\n"
          ]
        }
      ]
    },
    {
      "cell_type": "code",
      "metadata": {
        "id": "_y0s7hFI3Z68"
      },
      "source": [
        "store_data_merged=pd.merge(store_data,stores,on='Store')"
      ],
      "execution_count": 22,
      "outputs": []
    },
    {
      "cell_type": "code",
      "metadata": {
        "id": "kqbhjKGg_U2l"
      },
      "source": [
        "store_data_merged['day_diff_comp']=(store_data_merged['Date']-store_data_merged['CompetitionOpen']).dt.days\n",
        "store_data_merged['day_diff_promo']=(store_data_merged['Date']-store_data_merged['promoYearWeek']).dt.days\n",
        "store_data_merged.loc[store_data_merged['day_diff_comp']>=73000,'day_diff_comp']=0\n",
        "store_data_merged.loc[store_data_merged['day_diff_promo']>=36500,'day_diff_promo']=0"
      ],
      "execution_count": 23,
      "outputs": []
    },
    {
      "cell_type": "code",
      "metadata": {
        "id": "5hDdDMnX_aZV"
      },
      "source": [
        "store_data_merged.drop(columns=['CompetitionOpenSinceYear','CompetitionOpenSinceMonth','Promo2SinceWeek','Promo2SinceYear','PromoInterval','CompetitionOpen','promoYearWeek'],inplace=True)"
      ],
      "execution_count": 24,
      "outputs": []
    },
    {
      "cell_type": "code",
      "metadata": {
        "colab": {
          "base_uri": "https://localhost:8080/",
          "height": 287
        },
        "id": "6YRZJ8gz_aWE",
        "outputId": "85c08385-7f0e-4472-98a1-532546c86a8f"
      },
      "source": [
        "#store_data.drop(columns='Date',inplace=True)\n",
        "store_data_merged.head()"
      ],
      "execution_count": 25,
      "outputs": [
        {
          "output_type": "execute_result",
          "data": {
            "text/html": [
              "<div>\n",
              "<style scoped>\n",
              "    .dataframe tbody tr th:only-of-type {\n",
              "        vertical-align: middle;\n",
              "    }\n",
              "\n",
              "    .dataframe tbody tr th {\n",
              "        vertical-align: top;\n",
              "    }\n",
              "\n",
              "    .dataframe thead th {\n",
              "        text-align: right;\n",
              "    }\n",
              "</style>\n",
              "<table border=\"1\" class=\"dataframe\">\n",
              "  <thead>\n",
              "    <tr style=\"text-align: right;\">\n",
              "      <th></th>\n",
              "      <th>Store</th>\n",
              "      <th>DayOfWeek</th>\n",
              "      <th>Date</th>\n",
              "      <th>Sales</th>\n",
              "      <th>Customers</th>\n",
              "      <th>Open</th>\n",
              "      <th>Promo</th>\n",
              "      <th>StateHoliday</th>\n",
              "      <th>SchoolHoliday</th>\n",
              "      <th>Year</th>\n",
              "      <th>Month</th>\n",
              "      <th>StoreType</th>\n",
              "      <th>Assortment</th>\n",
              "      <th>CompetitionDistance</th>\n",
              "      <th>Promo2</th>\n",
              "      <th>day_diff_comp</th>\n",
              "      <th>day_diff_promo</th>\n",
              "    </tr>\n",
              "  </thead>\n",
              "  <tbody>\n",
              "    <tr>\n",
              "      <th>0</th>\n",
              "      <td>1</td>\n",
              "      <td>5</td>\n",
              "      <td>2015-07-31</td>\n",
              "      <td>5263</td>\n",
              "      <td>555</td>\n",
              "      <td>1</td>\n",
              "      <td>1</td>\n",
              "      <td>0</td>\n",
              "      <td>1</td>\n",
              "      <td>2015</td>\n",
              "      <td>7</td>\n",
              "      <td>c</td>\n",
              "      <td>a</td>\n",
              "      <td>1270.0</td>\n",
              "      <td>0</td>\n",
              "      <td>2524</td>\n",
              "      <td>0</td>\n",
              "    </tr>\n",
              "    <tr>\n",
              "      <th>1</th>\n",
              "      <td>1</td>\n",
              "      <td>4</td>\n",
              "      <td>2015-07-30</td>\n",
              "      <td>5020</td>\n",
              "      <td>546</td>\n",
              "      <td>1</td>\n",
              "      <td>1</td>\n",
              "      <td>0</td>\n",
              "      <td>1</td>\n",
              "      <td>2015</td>\n",
              "      <td>7</td>\n",
              "      <td>c</td>\n",
              "      <td>a</td>\n",
              "      <td>1270.0</td>\n",
              "      <td>0</td>\n",
              "      <td>2523</td>\n",
              "      <td>0</td>\n",
              "    </tr>\n",
              "    <tr>\n",
              "      <th>2</th>\n",
              "      <td>1</td>\n",
              "      <td>3</td>\n",
              "      <td>2015-07-29</td>\n",
              "      <td>4782</td>\n",
              "      <td>523</td>\n",
              "      <td>1</td>\n",
              "      <td>1</td>\n",
              "      <td>0</td>\n",
              "      <td>1</td>\n",
              "      <td>2015</td>\n",
              "      <td>7</td>\n",
              "      <td>c</td>\n",
              "      <td>a</td>\n",
              "      <td>1270.0</td>\n",
              "      <td>0</td>\n",
              "      <td>2522</td>\n",
              "      <td>0</td>\n",
              "    </tr>\n",
              "    <tr>\n",
              "      <th>3</th>\n",
              "      <td>1</td>\n",
              "      <td>2</td>\n",
              "      <td>2015-07-28</td>\n",
              "      <td>5011</td>\n",
              "      <td>560</td>\n",
              "      <td>1</td>\n",
              "      <td>1</td>\n",
              "      <td>0</td>\n",
              "      <td>1</td>\n",
              "      <td>2015</td>\n",
              "      <td>7</td>\n",
              "      <td>c</td>\n",
              "      <td>a</td>\n",
              "      <td>1270.0</td>\n",
              "      <td>0</td>\n",
              "      <td>2521</td>\n",
              "      <td>0</td>\n",
              "    </tr>\n",
              "    <tr>\n",
              "      <th>4</th>\n",
              "      <td>1</td>\n",
              "      <td>1</td>\n",
              "      <td>2015-07-27</td>\n",
              "      <td>6102</td>\n",
              "      <td>612</td>\n",
              "      <td>1</td>\n",
              "      <td>1</td>\n",
              "      <td>0</td>\n",
              "      <td>1</td>\n",
              "      <td>2015</td>\n",
              "      <td>7</td>\n",
              "      <td>c</td>\n",
              "      <td>a</td>\n",
              "      <td>1270.0</td>\n",
              "      <td>0</td>\n",
              "      <td>2520</td>\n",
              "      <td>0</td>\n",
              "    </tr>\n",
              "  </tbody>\n",
              "</table>\n",
              "</div>"
            ],
            "text/plain": [
              "   Store  DayOfWeek       Date  ...  Promo2  day_diff_comp  day_diff_promo\n",
              "0      1          5 2015-07-31  ...       0           2524               0\n",
              "1      1          4 2015-07-30  ...       0           2523               0\n",
              "2      1          3 2015-07-29  ...       0           2522               0\n",
              "3      1          2 2015-07-28  ...       0           2521               0\n",
              "4      1          1 2015-07-27  ...       0           2520               0\n",
              "\n",
              "[5 rows x 17 columns]"
            ]
          },
          "metadata": {},
          "execution_count": 25
        }
      ]
    },
    {
      "cell_type": "code",
      "metadata": {
        "colab": {
          "base_uri": "https://localhost:8080/"
        },
        "id": "2EutY3SO_aTN",
        "outputId": "90eb1a7e-eabf-48b5-d4e8-b6f722975b70"
      },
      "source": [
        "store_data_merged.info()"
      ],
      "execution_count": 26,
      "outputs": [
        {
          "output_type": "stream",
          "name": "stdout",
          "text": [
            "<class 'pandas.core.frame.DataFrame'>\n",
            "Int64Index: 1014567 entries, 0 to 1014566\n",
            "Data columns (total 17 columns):\n",
            " #   Column               Non-Null Count    Dtype         \n",
            "---  ------               --------------    -----         \n",
            " 0   Store                1014567 non-null  int64         \n",
            " 1   DayOfWeek            1014567 non-null  int64         \n",
            " 2   Date                 1014567 non-null  datetime64[ns]\n",
            " 3   Sales                1014567 non-null  int64         \n",
            " 4   Customers            1014567 non-null  int64         \n",
            " 5   Open                 1014567 non-null  int64         \n",
            " 6   Promo                1014567 non-null  int64         \n",
            " 7   StateHoliday         1014567 non-null  object        \n",
            " 8   SchoolHoliday        1014567 non-null  int64         \n",
            " 9   Year                 1014567 non-null  int64         \n",
            " 10  Month                1014567 non-null  int64         \n",
            " 11  StoreType            1014567 non-null  object        \n",
            " 12  Assortment           1014567 non-null  object        \n",
            " 13  CompetitionDistance  1014567 non-null  float64       \n",
            " 14  Promo2               1014567 non-null  int64         \n",
            " 15  day_diff_comp        1014567 non-null  int64         \n",
            " 16  day_diff_promo       1014567 non-null  int64         \n",
            "dtypes: datetime64[ns](1), float64(1), int64(12), object(3)\n",
            "memory usage: 139.3+ MB\n"
          ]
        }
      ]
    },
    {
      "cell_type": "code",
      "metadata": {
        "id": "DjZr7By-CddJ"
      },
      "source": [
        "store_data_merged['CompetitionDistance']=store_data_merged['CompetitionDistance'].astype(int)"
      ],
      "execution_count": 27,
      "outputs": []
    },
    {
      "cell_type": "code",
      "metadata": {
        "id": "dXN7o86qp5Yx"
      },
      "source": [
        "store_data_merged['Assortment']=store_data_merged['Assortment'].apply(lambda x: 1 if x=='a' else (2 if x=='b' else 3))"
      ],
      "execution_count": 28,
      "outputs": []
    },
    {
      "cell_type": "code",
      "metadata": {
        "id": "27ks5IG-p5VV"
      },
      "source": [
        "store_data_final=pd.get_dummies(store_data_merged,drop_first=True)"
      ],
      "execution_count": 29,
      "outputs": []
    },
    {
      "cell_type": "code",
      "metadata": {
        "colab": {
          "base_uri": "https://localhost:8080/"
        },
        "id": "-_BLHL5Xp5S2",
        "outputId": "103da63a-81cb-4d72-8784-eea615f757eb"
      },
      "source": [
        "store_data_final.isna().sum()\n"
      ],
      "execution_count": 30,
      "outputs": [
        {
          "output_type": "execute_result",
          "data": {
            "text/plain": [
              "Store                  0\n",
              "DayOfWeek              0\n",
              "Date                   0\n",
              "Sales                  0\n",
              "Customers              0\n",
              "Open                   0\n",
              "Promo                  0\n",
              "SchoolHoliday          0\n",
              "Year                   0\n",
              "Month                  0\n",
              "Assortment             0\n",
              "CompetitionDistance    0\n",
              "Promo2                 0\n",
              "day_diff_comp          0\n",
              "day_diff_promo         0\n",
              "StateHoliday_0         0\n",
              "StateHoliday_a         0\n",
              "StateHoliday_b         0\n",
              "StateHoliday_c         0\n",
              "StoreType_b            0\n",
              "StoreType_c            0\n",
              "StoreType_d            0\n",
              "dtype: int64"
            ]
          },
          "metadata": {},
          "execution_count": 30
        }
      ]
    },
    {
      "cell_type": "code",
      "metadata": {
        "id": "o6jlgpfnEjDY"
      },
      "source": [
        "store_data_final.drop(columns=['Date'],inplace=True) ## Dropping Date column as month and year have been extracted"
      ],
      "execution_count": 31,
      "outputs": []
    },
    {
      "cell_type": "code",
      "metadata": {
        "id": "Y5YSrPvsrf6j"
      },
      "source": [
        "############ Final Data"
      ],
      "execution_count": 32,
      "outputs": []
    },
    {
      "cell_type": "code",
      "metadata": {
        "colab": {
          "base_uri": "https://localhost:8080/",
          "height": 437
        },
        "id": "dBOclgl-CI2f",
        "outputId": "867a9173-754c-47fa-ebc9-d6abf1bac7e9"
      },
      "source": [
        "store_data_final"
      ],
      "execution_count": 33,
      "outputs": [
        {
          "output_type": "execute_result",
          "data": {
            "text/html": [
              "<div>\n",
              "<style scoped>\n",
              "    .dataframe tbody tr th:only-of-type {\n",
              "        vertical-align: middle;\n",
              "    }\n",
              "\n",
              "    .dataframe tbody tr th {\n",
              "        vertical-align: top;\n",
              "    }\n",
              "\n",
              "    .dataframe thead th {\n",
              "        text-align: right;\n",
              "    }\n",
              "</style>\n",
              "<table border=\"1\" class=\"dataframe\">\n",
              "  <thead>\n",
              "    <tr style=\"text-align: right;\">\n",
              "      <th></th>\n",
              "      <th>Store</th>\n",
              "      <th>DayOfWeek</th>\n",
              "      <th>Sales</th>\n",
              "      <th>Customers</th>\n",
              "      <th>Open</th>\n",
              "      <th>Promo</th>\n",
              "      <th>SchoolHoliday</th>\n",
              "      <th>Year</th>\n",
              "      <th>Month</th>\n",
              "      <th>Assortment</th>\n",
              "      <th>CompetitionDistance</th>\n",
              "      <th>Promo2</th>\n",
              "      <th>day_diff_comp</th>\n",
              "      <th>day_diff_promo</th>\n",
              "      <th>StateHoliday_0</th>\n",
              "      <th>StateHoliday_a</th>\n",
              "      <th>StateHoliday_b</th>\n",
              "      <th>StateHoliday_c</th>\n",
              "      <th>StoreType_b</th>\n",
              "      <th>StoreType_c</th>\n",
              "      <th>StoreType_d</th>\n",
              "    </tr>\n",
              "  </thead>\n",
              "  <tbody>\n",
              "    <tr>\n",
              "      <th>0</th>\n",
              "      <td>1</td>\n",
              "      <td>5</td>\n",
              "      <td>5263</td>\n",
              "      <td>555</td>\n",
              "      <td>1</td>\n",
              "      <td>1</td>\n",
              "      <td>1</td>\n",
              "      <td>2015</td>\n",
              "      <td>7</td>\n",
              "      <td>1</td>\n",
              "      <td>1270</td>\n",
              "      <td>0</td>\n",
              "      <td>2524</td>\n",
              "      <td>0</td>\n",
              "      <td>1</td>\n",
              "      <td>0</td>\n",
              "      <td>0</td>\n",
              "      <td>0</td>\n",
              "      <td>0</td>\n",
              "      <td>1</td>\n",
              "      <td>0</td>\n",
              "    </tr>\n",
              "    <tr>\n",
              "      <th>1</th>\n",
              "      <td>1</td>\n",
              "      <td>4</td>\n",
              "      <td>5020</td>\n",
              "      <td>546</td>\n",
              "      <td>1</td>\n",
              "      <td>1</td>\n",
              "      <td>1</td>\n",
              "      <td>2015</td>\n",
              "      <td>7</td>\n",
              "      <td>1</td>\n",
              "      <td>1270</td>\n",
              "      <td>0</td>\n",
              "      <td>2523</td>\n",
              "      <td>0</td>\n",
              "      <td>1</td>\n",
              "      <td>0</td>\n",
              "      <td>0</td>\n",
              "      <td>0</td>\n",
              "      <td>0</td>\n",
              "      <td>1</td>\n",
              "      <td>0</td>\n",
              "    </tr>\n",
              "    <tr>\n",
              "      <th>2</th>\n",
              "      <td>1</td>\n",
              "      <td>3</td>\n",
              "      <td>4782</td>\n",
              "      <td>523</td>\n",
              "      <td>1</td>\n",
              "      <td>1</td>\n",
              "      <td>1</td>\n",
              "      <td>2015</td>\n",
              "      <td>7</td>\n",
              "      <td>1</td>\n",
              "      <td>1270</td>\n",
              "      <td>0</td>\n",
              "      <td>2522</td>\n",
              "      <td>0</td>\n",
              "      <td>1</td>\n",
              "      <td>0</td>\n",
              "      <td>0</td>\n",
              "      <td>0</td>\n",
              "      <td>0</td>\n",
              "      <td>1</td>\n",
              "      <td>0</td>\n",
              "    </tr>\n",
              "    <tr>\n",
              "      <th>3</th>\n",
              "      <td>1</td>\n",
              "      <td>2</td>\n",
              "      <td>5011</td>\n",
              "      <td>560</td>\n",
              "      <td>1</td>\n",
              "      <td>1</td>\n",
              "      <td>1</td>\n",
              "      <td>2015</td>\n",
              "      <td>7</td>\n",
              "      <td>1</td>\n",
              "      <td>1270</td>\n",
              "      <td>0</td>\n",
              "      <td>2521</td>\n",
              "      <td>0</td>\n",
              "      <td>1</td>\n",
              "      <td>0</td>\n",
              "      <td>0</td>\n",
              "      <td>0</td>\n",
              "      <td>0</td>\n",
              "      <td>1</td>\n",
              "      <td>0</td>\n",
              "    </tr>\n",
              "    <tr>\n",
              "      <th>4</th>\n",
              "      <td>1</td>\n",
              "      <td>1</td>\n",
              "      <td>6102</td>\n",
              "      <td>612</td>\n",
              "      <td>1</td>\n",
              "      <td>1</td>\n",
              "      <td>1</td>\n",
              "      <td>2015</td>\n",
              "      <td>7</td>\n",
              "      <td>1</td>\n",
              "      <td>1270</td>\n",
              "      <td>0</td>\n",
              "      <td>2520</td>\n",
              "      <td>0</td>\n",
              "      <td>1</td>\n",
              "      <td>0</td>\n",
              "      <td>0</td>\n",
              "      <td>0</td>\n",
              "      <td>0</td>\n",
              "      <td>1</td>\n",
              "      <td>0</td>\n",
              "    </tr>\n",
              "    <tr>\n",
              "      <th>...</th>\n",
              "      <td>...</td>\n",
              "      <td>...</td>\n",
              "      <td>...</td>\n",
              "      <td>...</td>\n",
              "      <td>...</td>\n",
              "      <td>...</td>\n",
              "      <td>...</td>\n",
              "      <td>...</td>\n",
              "      <td>...</td>\n",
              "      <td>...</td>\n",
              "      <td>...</td>\n",
              "      <td>...</td>\n",
              "      <td>...</td>\n",
              "      <td>...</td>\n",
              "      <td>...</td>\n",
              "      <td>...</td>\n",
              "      <td>...</td>\n",
              "      <td>...</td>\n",
              "      <td>...</td>\n",
              "      <td>...</td>\n",
              "      <td>...</td>\n",
              "    </tr>\n",
              "    <tr>\n",
              "      <th>1014562</th>\n",
              "      <td>1115</td>\n",
              "      <td>6</td>\n",
              "      <td>4771</td>\n",
              "      <td>339</td>\n",
              "      <td>1</td>\n",
              "      <td>0</td>\n",
              "      <td>1</td>\n",
              "      <td>2013</td>\n",
              "      <td>1</td>\n",
              "      <td>3</td>\n",
              "      <td>5350</td>\n",
              "      <td>1</td>\n",
              "      <td>0</td>\n",
              "      <td>216</td>\n",
              "      <td>1</td>\n",
              "      <td>0</td>\n",
              "      <td>0</td>\n",
              "      <td>0</td>\n",
              "      <td>0</td>\n",
              "      <td>0</td>\n",
              "      <td>1</td>\n",
              "    </tr>\n",
              "    <tr>\n",
              "      <th>1014563</th>\n",
              "      <td>1115</td>\n",
              "      <td>5</td>\n",
              "      <td>4540</td>\n",
              "      <td>326</td>\n",
              "      <td>1</td>\n",
              "      <td>0</td>\n",
              "      <td>1</td>\n",
              "      <td>2013</td>\n",
              "      <td>1</td>\n",
              "      <td>3</td>\n",
              "      <td>5350</td>\n",
              "      <td>1</td>\n",
              "      <td>0</td>\n",
              "      <td>215</td>\n",
              "      <td>1</td>\n",
              "      <td>0</td>\n",
              "      <td>0</td>\n",
              "      <td>0</td>\n",
              "      <td>0</td>\n",
              "      <td>0</td>\n",
              "      <td>1</td>\n",
              "    </tr>\n",
              "    <tr>\n",
              "      <th>1014564</th>\n",
              "      <td>1115</td>\n",
              "      <td>4</td>\n",
              "      <td>4297</td>\n",
              "      <td>300</td>\n",
              "      <td>1</td>\n",
              "      <td>0</td>\n",
              "      <td>1</td>\n",
              "      <td>2013</td>\n",
              "      <td>1</td>\n",
              "      <td>3</td>\n",
              "      <td>5350</td>\n",
              "      <td>1</td>\n",
              "      <td>0</td>\n",
              "      <td>214</td>\n",
              "      <td>1</td>\n",
              "      <td>0</td>\n",
              "      <td>0</td>\n",
              "      <td>0</td>\n",
              "      <td>0</td>\n",
              "      <td>0</td>\n",
              "      <td>1</td>\n",
              "    </tr>\n",
              "    <tr>\n",
              "      <th>1014565</th>\n",
              "      <td>1115</td>\n",
              "      <td>3</td>\n",
              "      <td>3697</td>\n",
              "      <td>305</td>\n",
              "      <td>1</td>\n",
              "      <td>0</td>\n",
              "      <td>1</td>\n",
              "      <td>2013</td>\n",
              "      <td>1</td>\n",
              "      <td>3</td>\n",
              "      <td>5350</td>\n",
              "      <td>1</td>\n",
              "      <td>0</td>\n",
              "      <td>213</td>\n",
              "      <td>1</td>\n",
              "      <td>0</td>\n",
              "      <td>0</td>\n",
              "      <td>0</td>\n",
              "      <td>0</td>\n",
              "      <td>0</td>\n",
              "      <td>1</td>\n",
              "    </tr>\n",
              "    <tr>\n",
              "      <th>1014566</th>\n",
              "      <td>1115</td>\n",
              "      <td>2</td>\n",
              "      <td>0</td>\n",
              "      <td>0</td>\n",
              "      <td>0</td>\n",
              "      <td>0</td>\n",
              "      <td>1</td>\n",
              "      <td>2013</td>\n",
              "      <td>1</td>\n",
              "      <td>3</td>\n",
              "      <td>5350</td>\n",
              "      <td>1</td>\n",
              "      <td>0</td>\n",
              "      <td>212</td>\n",
              "      <td>0</td>\n",
              "      <td>1</td>\n",
              "      <td>0</td>\n",
              "      <td>0</td>\n",
              "      <td>0</td>\n",
              "      <td>0</td>\n",
              "      <td>1</td>\n",
              "    </tr>\n",
              "  </tbody>\n",
              "</table>\n",
              "<p>1014567 rows × 21 columns</p>\n",
              "</div>"
            ],
            "text/plain": [
              "         Store  DayOfWeek  Sales  ...  StoreType_b  StoreType_c  StoreType_d\n",
              "0            1          5   5263  ...            0            1            0\n",
              "1            1          4   5020  ...            0            1            0\n",
              "2            1          3   4782  ...            0            1            0\n",
              "3            1          2   5011  ...            0            1            0\n",
              "4            1          1   6102  ...            0            1            0\n",
              "...        ...        ...    ...  ...          ...          ...          ...\n",
              "1014562   1115          6   4771  ...            0            0            1\n",
              "1014563   1115          5   4540  ...            0            0            1\n",
              "1014564   1115          4   4297  ...            0            0            1\n",
              "1014565   1115          3   3697  ...            0            0            1\n",
              "1014566   1115          2      0  ...            0            0            1\n",
              "\n",
              "[1014567 rows x 21 columns]"
            ]
          },
          "metadata": {},
          "execution_count": 33
        }
      ]
    },
    {
      "cell_type": "code",
      "metadata": {
        "colab": {
          "base_uri": "https://localhost:8080/"
        },
        "id": "eLf_DEt_bfNZ",
        "outputId": "9dbdc8f1-bfd2-45e5-eb31-33a47495c172"
      },
      "source": [
        "np.all(np.isfinite(store_data_final))"
      ],
      "execution_count": 34,
      "outputs": [
        {
          "output_type": "execute_result",
          "data": {
            "text/plain": [
              "True"
            ]
          },
          "metadata": {},
          "execution_count": 34
        }
      ]
    },
    {
      "cell_type": "code",
      "metadata": {
        "colab": {
          "base_uri": "https://localhost:8080/"
        },
        "id": "ELQBqadTdT2w",
        "outputId": "c8b325b9-d329-493e-c92e-3958a6a7b10a"
      },
      "source": [
        "np.any(np.isnan(store_data_final))"
      ],
      "execution_count": 35,
      "outputs": [
        {
          "output_type": "execute_result",
          "data": {
            "text/plain": [
              "False"
            ]
          },
          "metadata": {},
          "execution_count": 35
        }
      ]
    },
    {
      "cell_type": "code",
      "metadata": {
        "id": "5hSA1wC3rfwm"
      },
      "source": [
        "store_data_final.to_csv('sample.csv')\n",
        "#from google.colab import files\n",
        "#files.download(\"sample4.csv\")"
      ],
      "execution_count": 36,
      "outputs": []
    },
    {
      "cell_type": "code",
      "metadata": {
        "id": "01jXWWj1gfJX"
      },
      "source": [
        "dataset = pd.read_csv('sample.csv')\n"
      ],
      "execution_count": 37,
      "outputs": []
    },
    {
      "cell_type": "code",
      "metadata": {
        "colab": {
          "base_uri": "https://localhost:8080/",
          "height": 763
        },
        "id": "BfRDRhZe3cT9",
        "outputId": "5e44a4f4-abd1-4845-8f43-13ddeff7eb79"
      },
      "source": [
        "dataset.corr()"
      ],
      "execution_count": 38,
      "outputs": [
        {
          "output_type": "execute_result",
          "data": {
            "text/html": [
              "<div>\n",
              "<style scoped>\n",
              "    .dataframe tbody tr th:only-of-type {\n",
              "        vertical-align: middle;\n",
              "    }\n",
              "\n",
              "    .dataframe tbody tr th {\n",
              "        vertical-align: top;\n",
              "    }\n",
              "\n",
              "    .dataframe thead th {\n",
              "        text-align: right;\n",
              "    }\n",
              "</style>\n",
              "<table border=\"1\" class=\"dataframe\">\n",
              "  <thead>\n",
              "    <tr style=\"text-align: right;\">\n",
              "      <th></th>\n",
              "      <th>Unnamed: 0</th>\n",
              "      <th>Store</th>\n",
              "      <th>DayOfWeek</th>\n",
              "      <th>Sales</th>\n",
              "      <th>Customers</th>\n",
              "      <th>Open</th>\n",
              "      <th>Promo</th>\n",
              "      <th>SchoolHoliday</th>\n",
              "      <th>Year</th>\n",
              "      <th>Month</th>\n",
              "      <th>Assortment</th>\n",
              "      <th>CompetitionDistance</th>\n",
              "      <th>Promo2</th>\n",
              "      <th>day_diff_comp</th>\n",
              "      <th>day_diff_promo</th>\n",
              "      <th>StateHoliday_0</th>\n",
              "      <th>StateHoliday_a</th>\n",
              "      <th>StateHoliday_b</th>\n",
              "      <th>StateHoliday_c</th>\n",
              "      <th>StoreType_b</th>\n",
              "      <th>StoreType_c</th>\n",
              "      <th>StoreType_d</th>\n",
              "    </tr>\n",
              "  </thead>\n",
              "  <tbody>\n",
              "    <tr>\n",
              "      <th>Unnamed: 0</th>\n",
              "      <td>1.000000</td>\n",
              "      <td>0.999998</td>\n",
              "      <td>-0.000010</td>\n",
              "      <td>0.005922</td>\n",
              "      <td>0.025154</td>\n",
              "      <td>-0.000030</td>\n",
              "      <td>0.000050</td>\n",
              "      <td>0.000682</td>\n",
              "      <td>-0.000512</td>\n",
              "      <td>0.001568</td>\n",
              "      <td>0.004270</td>\n",
              "      <td>-0.026505</td>\n",
              "      <td>0.007236</td>\n",
              "      <td>0.001234</td>\n",
              "      <td>-0.015828</td>\n",
              "      <td>-0.000684</td>\n",
              "      <td>0.000644</td>\n",
              "      <td>-0.000122</td>\n",
              "      <td>0.000149</td>\n",
              "      <td>0.001458</td>\n",
              "      <td>0.061206</td>\n",
              "      <td>-0.051542</td>\n",
              "    </tr>\n",
              "    <tr>\n",
              "      <th>Store</th>\n",
              "      <td>0.999998</td>\n",
              "      <td>1.000000</td>\n",
              "      <td>-0.000010</td>\n",
              "      <td>0.005932</td>\n",
              "      <td>0.025131</td>\n",
              "      <td>-0.000033</td>\n",
              "      <td>0.000065</td>\n",
              "      <td>0.000684</td>\n",
              "      <td>0.000327</td>\n",
              "      <td>0.001657</td>\n",
              "      <td>0.004206</td>\n",
              "      <td>-0.026413</td>\n",
              "      <td>0.007174</td>\n",
              "      <td>0.001382</td>\n",
              "      <td>-0.015723</td>\n",
              "      <td>-0.000737</td>\n",
              "      <td>0.000645</td>\n",
              "      <td>-0.000123</td>\n",
              "      <td>0.000163</td>\n",
              "      <td>0.001433</td>\n",
              "      <td>0.061104</td>\n",
              "      <td>-0.051473</td>\n",
              "    </tr>\n",
              "    <tr>\n",
              "      <th>DayOfWeek</th>\n",
              "      <td>-0.000010</td>\n",
              "      <td>-0.000010</td>\n",
              "      <td>1.000000</td>\n",
              "      <td>-0.462078</td>\n",
              "      <td>-0.386365</td>\n",
              "      <td>-0.528942</td>\n",
              "      <td>-0.392925</td>\n",
              "      <td>-0.205361</td>\n",
              "      <td>0.001937</td>\n",
              "      <td>-0.005362</td>\n",
              "      <td>-0.000051</td>\n",
              "      <td>-0.000025</td>\n",
              "      <td>0.000167</td>\n",
              "      <td>0.000039</td>\n",
              "      <td>0.000139</td>\n",
              "      <td>0.029050</td>\n",
              "      <td>-0.040965</td>\n",
              "      <td>-0.040666</td>\n",
              "      <td>-0.001341</td>\n",
              "      <td>-0.000019</td>\n",
              "      <td>-0.000039</td>\n",
              "      <td>0.000069</td>\n",
              "    </tr>\n",
              "    <tr>\n",
              "      <th>Sales</th>\n",
              "      <td>0.005922</td>\n",
              "      <td>0.005932</td>\n",
              "      <td>-0.462078</td>\n",
              "      <td>1.000000</td>\n",
              "      <td>0.894572</td>\n",
              "      <td>0.678637</td>\n",
              "      <td>0.452315</td>\n",
              "      <td>0.085071</td>\n",
              "      <td>0.023537</td>\n",
              "      <td>0.048628</td>\n",
              "      <td>0.075382</td>\n",
              "      <td>-0.019229</td>\n",
              "      <td>-0.091047</td>\n",
              "      <td>-0.004694</td>\n",
              "      <td>-0.042433</td>\n",
              "      <td>0.123241</td>\n",
              "      <td>-0.203092</td>\n",
              "      <td>-0.117513</td>\n",
              "      <td>-0.092645</td>\n",
              "      <td>0.139979</td>\n",
              "      <td>-0.005476</td>\n",
              "      <td>-0.022806</td>\n",
              "    </tr>\n",
              "    <tr>\n",
              "      <th>Customers</th>\n",
              "      <td>0.025154</td>\n",
              "      <td>0.025131</td>\n",
              "      <td>-0.386365</td>\n",
              "      <td>0.894572</td>\n",
              "      <td>1.000000</td>\n",
              "      <td>0.616884</td>\n",
              "      <td>0.316087</td>\n",
              "      <td>0.071503</td>\n",
              "      <td>-0.001209</td>\n",
              "      <td>0.038076</td>\n",
              "      <td>0.007239</td>\n",
              "      <td>-0.102861</td>\n",
              "      <td>-0.150341</td>\n",
              "      <td>-0.005329</td>\n",
              "      <td>-0.107895</td>\n",
              "      <td>0.099714</td>\n",
              "      <td>-0.180938</td>\n",
              "      <td>-0.104527</td>\n",
              "      <td>-0.083025</td>\n",
              "      <td>0.366900</td>\n",
              "      <td>0.033704</td>\n",
              "      <td>-0.189298</td>\n",
              "    </tr>\n",
              "    <tr>\n",
              "      <th>Open</th>\n",
              "      <td>-0.000030</td>\n",
              "      <td>-0.000033</td>\n",
              "      <td>-0.528942</td>\n",
              "      <td>0.678637</td>\n",
              "      <td>0.616884</td>\n",
              "      <td>1.000000</td>\n",
              "      <td>0.295023</td>\n",
              "      <td>0.086163</td>\n",
              "      <td>-0.001008</td>\n",
              "      <td>-0.000669</td>\n",
              "      <td>0.002951</td>\n",
              "      <td>0.007992</td>\n",
              "      <td>-0.008312</td>\n",
              "      <td>-0.002622</td>\n",
              "      <td>-0.006383</td>\n",
              "      <td>0.153949</td>\n",
              "      <td>-0.302109</td>\n",
              "      <td>-0.175141</td>\n",
              "      <td>-0.137692</td>\n",
              "      <td>0.051300</td>\n",
              "      <td>-0.004724</td>\n",
              "      <td>-0.005517</td>\n",
              "    </tr>\n",
              "    <tr>\n",
              "      <th>Promo</th>\n",
              "      <td>0.000050</td>\n",
              "      <td>0.000065</td>\n",
              "      <td>-0.392925</td>\n",
              "      <td>0.452315</td>\n",
              "      <td>0.316087</td>\n",
              "      <td>0.295023</td>\n",
              "      <td>1.000000</td>\n",
              "      <td>0.067504</td>\n",
              "      <td>0.024299</td>\n",
              "      <td>-0.011742</td>\n",
              "      <td>0.000289</td>\n",
              "      <td>0.000138</td>\n",
              "      <td>-0.000976</td>\n",
              "      <td>0.001478</td>\n",
              "      <td>0.003578</td>\n",
              "      <td>0.007930</td>\n",
              "      <td>-0.004040</td>\n",
              "      <td>0.019845</td>\n",
              "      <td>-0.049968</td>\n",
              "      <td>0.000108</td>\n",
              "      <td>0.000222</td>\n",
              "      <td>-0.000407</td>\n",
              "    </tr>\n",
              "    <tr>\n",
              "      <th>SchoolHoliday</th>\n",
              "      <td>0.000682</td>\n",
              "      <td>0.000684</td>\n",
              "      <td>-0.205361</td>\n",
              "      <td>0.085071</td>\n",
              "      <td>0.071503</td>\n",
              "      <td>0.086163</td>\n",
              "      <td>0.067504</td>\n",
              "      <td>1.000000</td>\n",
              "      <td>-0.036515</td>\n",
              "      <td>0.103334</td>\n",
              "      <td>-0.002530</td>\n",
              "      <td>-0.003689</td>\n",
              "      <td>-0.006911</td>\n",
              "      <td>-0.001955</td>\n",
              "      <td>-0.002861</td>\n",
              "      <td>-0.116601</td>\n",
              "      <td>0.029068</td>\n",
              "      <td>0.159039</td>\n",
              "      <td>0.136408</td>\n",
              "      <td>0.001822</td>\n",
              "      <td>0.001542</td>\n",
              "      <td>-0.000888</td>\n",
              "    </tr>\n",
              "    <tr>\n",
              "      <th>Year</th>\n",
              "      <td>-0.000512</td>\n",
              "      <td>0.000327</td>\n",
              "      <td>0.001937</td>\n",
              "      <td>0.023537</td>\n",
              "      <td>-0.001209</td>\n",
              "      <td>-0.001008</td>\n",
              "      <td>0.024299</td>\n",
              "      <td>-0.036515</td>\n",
              "      <td>1.000000</td>\n",
              "      <td>-0.269341</td>\n",
              "      <td>0.001467</td>\n",
              "      <td>0.000703</td>\n",
              "      <td>-0.004950</td>\n",
              "      <td>0.086467</td>\n",
              "      <td>0.217435</td>\n",
              "      <td>-0.078808</td>\n",
              "      <td>0.011291</td>\n",
              "      <td>0.017551</td>\n",
              "      <td>-0.030779</td>\n",
              "      <td>0.000548</td>\n",
              "      <td>0.001125</td>\n",
              "      <td>-0.002063</td>\n",
              "    </tr>\n",
              "    <tr>\n",
              "      <th>Month</th>\n",
              "      <td>0.001568</td>\n",
              "      <td>0.001657</td>\n",
              "      <td>-0.005362</td>\n",
              "      <td>0.048628</td>\n",
              "      <td>0.038076</td>\n",
              "      <td>-0.000669</td>\n",
              "      <td>-0.011742</td>\n",
              "      <td>0.103334</td>\n",
              "      <td>-0.269341</td>\n",
              "      <td>1.000000</td>\n",
              "      <td>0.007459</td>\n",
              "      <td>0.003578</td>\n",
              "      <td>-0.025158</td>\n",
              "      <td>0.005037</td>\n",
              "      <td>0.007024</td>\n",
              "      <td>0.077844</td>\n",
              "      <td>-0.025867</td>\n",
              "      <td>-0.049259</td>\n",
              "      <td>0.117688</td>\n",
              "      <td>0.002786</td>\n",
              "      <td>0.005719</td>\n",
              "      <td>-0.010483</td>\n",
              "    </tr>\n",
              "    <tr>\n",
              "      <th>Assortment</th>\n",
              "      <td>0.004270</td>\n",
              "      <td>0.004206</td>\n",
              "      <td>-0.000051</td>\n",
              "      <td>0.075382</td>\n",
              "      <td>0.007239</td>\n",
              "      <td>0.002951</td>\n",
              "      <td>0.000289</td>\n",
              "      <td>-0.002530</td>\n",
              "      <td>0.001467</td>\n",
              "      <td>0.007459</td>\n",
              "      <td>1.000000</td>\n",
              "      <td>0.146566</td>\n",
              "      <td>0.009064</td>\n",
              "      <td>-0.097673</td>\n",
              "      <td>-0.015051</td>\n",
              "      <td>-0.003475</td>\n",
              "      <td>-0.003324</td>\n",
              "      <td>-0.000554</td>\n",
              "      <td>0.000734</td>\n",
              "      <td>-0.037087</td>\n",
              "      <td>0.011266</td>\n",
              "      <td>0.231087</td>\n",
              "    </tr>\n",
              "    <tr>\n",
              "      <th>CompetitionDistance</th>\n",
              "      <td>-0.026505</td>\n",
              "      <td>-0.026413</td>\n",
              "      <td>-0.000025</td>\n",
              "      <td>-0.019229</td>\n",
              "      <td>-0.102861</td>\n",
              "      <td>0.007992</td>\n",
              "      <td>0.000138</td>\n",
              "      <td>-0.003689</td>\n",
              "      <td>0.000703</td>\n",
              "      <td>0.003578</td>\n",
              "      <td>0.146566</td>\n",
              "      <td>1.000000</td>\n",
              "      <td>-0.139886</td>\n",
              "      <td>-0.018209</td>\n",
              "      <td>-0.045242</td>\n",
              "      <td>-0.001947</td>\n",
              "      <td>-0.000973</td>\n",
              "      <td>-0.000266</td>\n",
              "      <td>0.000352</td>\n",
              "      <td>-0.071211</td>\n",
              "      <td>-0.097921</td>\n",
              "      <td>0.131892</td>\n",
              "    </tr>\n",
              "    <tr>\n",
              "      <th>Promo2</th>\n",
              "      <td>0.007236</td>\n",
              "      <td>0.007174</td>\n",
              "      <td>0.000167</td>\n",
              "      <td>-0.091047</td>\n",
              "      <td>-0.150341</td>\n",
              "      <td>-0.008312</td>\n",
              "      <td>-0.000976</td>\n",
              "      <td>-0.006911</td>\n",
              "      <td>-0.004950</td>\n",
              "      <td>-0.025158</td>\n",
              "      <td>0.009064</td>\n",
              "      <td>-0.139886</td>\n",
              "      <td>1.000000</td>\n",
              "      <td>0.013899</td>\n",
              "      <td>0.629787</td>\n",
              "      <td>0.011612</td>\n",
              "      <td>0.011011</td>\n",
              "      <td>0.001866</td>\n",
              "      <td>-0.002476</td>\n",
              "      <td>-0.054188</td>\n",
              "      <td>-0.001819</td>\n",
              "      <td>0.093171</td>\n",
              "    </tr>\n",
              "    <tr>\n",
              "      <th>day_diff_comp</th>\n",
              "      <td>0.001234</td>\n",
              "      <td>0.001382</td>\n",
              "      <td>0.000039</td>\n",
              "      <td>-0.004694</td>\n",
              "      <td>-0.005329</td>\n",
              "      <td>-0.002622</td>\n",
              "      <td>0.001478</td>\n",
              "      <td>-0.001955</td>\n",
              "      <td>0.086467</td>\n",
              "      <td>0.005037</td>\n",
              "      <td>-0.097673</td>\n",
              "      <td>-0.018209</td>\n",
              "      <td>0.013899</td>\n",
              "      <td>1.000000</td>\n",
              "      <td>0.013211</td>\n",
              "      <td>-0.003765</td>\n",
              "      <td>0.002588</td>\n",
              "      <td>0.000162</td>\n",
              "      <td>0.000959</td>\n",
              "      <td>-0.005238</td>\n",
              "      <td>0.024833</td>\n",
              "      <td>-0.058148</td>\n",
              "    </tr>\n",
              "    <tr>\n",
              "      <th>day_diff_promo</th>\n",
              "      <td>-0.015828</td>\n",
              "      <td>-0.015723</td>\n",
              "      <td>0.000139</td>\n",
              "      <td>-0.042433</td>\n",
              "      <td>-0.107895</td>\n",
              "      <td>-0.006383</td>\n",
              "      <td>0.003578</td>\n",
              "      <td>-0.002861</td>\n",
              "      <td>0.217435</td>\n",
              "      <td>0.007024</td>\n",
              "      <td>-0.015051</td>\n",
              "      <td>-0.045242</td>\n",
              "      <td>0.629787</td>\n",
              "      <td>0.013211</td>\n",
              "      <td>1.000000</td>\n",
              "      <td>-0.006584</td>\n",
              "      <td>0.005311</td>\n",
              "      <td>0.000794</td>\n",
              "      <td>0.001637</td>\n",
              "      <td>-0.056555</td>\n",
              "      <td>0.029742</td>\n",
              "      <td>0.081534</td>\n",
              "    </tr>\n",
              "    <tr>\n",
              "      <th>StateHoliday_0</th>\n",
              "      <td>-0.000684</td>\n",
              "      <td>-0.000737</td>\n",
              "      <td>0.029050</td>\n",
              "      <td>0.123241</td>\n",
              "      <td>0.099714</td>\n",
              "      <td>0.153949</td>\n",
              "      <td>0.007930</td>\n",
              "      <td>-0.116601</td>\n",
              "      <td>-0.078808</td>\n",
              "      <td>0.077844</td>\n",
              "      <td>-0.003475</td>\n",
              "      <td>-0.001947</td>\n",
              "      <td>0.011612</td>\n",
              "      <td>-0.003765</td>\n",
              "      <td>-0.006584</td>\n",
              "      <td>1.000000</td>\n",
              "      <td>-0.327338</td>\n",
              "      <td>-0.186840</td>\n",
              "      <td>-0.146100</td>\n",
              "      <td>-0.001275</td>\n",
              "      <td>-0.002780</td>\n",
              "      <td>0.004964</td>\n",
              "    </tr>\n",
              "    <tr>\n",
              "      <th>StateHoliday_a</th>\n",
              "      <td>0.000644</td>\n",
              "      <td>0.000645</td>\n",
              "      <td>-0.040965</td>\n",
              "      <td>-0.203092</td>\n",
              "      <td>-0.180938</td>\n",
              "      <td>-0.302109</td>\n",
              "      <td>-0.004040</td>\n",
              "      <td>0.029068</td>\n",
              "      <td>0.011291</td>\n",
              "      <td>-0.025867</td>\n",
              "      <td>-0.003324</td>\n",
              "      <td>-0.000973</td>\n",
              "      <td>0.011011</td>\n",
              "      <td>0.002588</td>\n",
              "      <td>0.005311</td>\n",
              "      <td>-0.327338</td>\n",
              "      <td>1.000000</td>\n",
              "      <td>-0.011598</td>\n",
              "      <td>-0.009069</td>\n",
              "      <td>-0.001437</td>\n",
              "      <td>-0.001963</td>\n",
              "      <td>0.004093</td>\n",
              "    </tr>\n",
              "    <tr>\n",
              "      <th>StateHoliday_b</th>\n",
              "      <td>-0.000122</td>\n",
              "      <td>-0.000123</td>\n",
              "      <td>-0.040666</td>\n",
              "      <td>-0.117513</td>\n",
              "      <td>-0.104527</td>\n",
              "      <td>-0.175141</td>\n",
              "      <td>0.019845</td>\n",
              "      <td>0.159039</td>\n",
              "      <td>0.017551</td>\n",
              "      <td>-0.049259</td>\n",
              "      <td>-0.000554</td>\n",
              "      <td>-0.000266</td>\n",
              "      <td>0.001866</td>\n",
              "      <td>0.000162</td>\n",
              "      <td>0.000794</td>\n",
              "      <td>-0.186840</td>\n",
              "      <td>-0.011598</td>\n",
              "      <td>1.000000</td>\n",
              "      <td>-0.005176</td>\n",
              "      <td>-0.000207</td>\n",
              "      <td>-0.000424</td>\n",
              "      <td>0.000778</td>\n",
              "    </tr>\n",
              "    <tr>\n",
              "      <th>StateHoliday_c</th>\n",
              "      <td>0.000149</td>\n",
              "      <td>0.000163</td>\n",
              "      <td>-0.001341</td>\n",
              "      <td>-0.092645</td>\n",
              "      <td>-0.083025</td>\n",
              "      <td>-0.137692</td>\n",
              "      <td>-0.049968</td>\n",
              "      <td>0.136408</td>\n",
              "      <td>-0.030779</td>\n",
              "      <td>0.117688</td>\n",
              "      <td>0.000734</td>\n",
              "      <td>0.000352</td>\n",
              "      <td>-0.002476</td>\n",
              "      <td>0.000959</td>\n",
              "      <td>0.001637</td>\n",
              "      <td>-0.146100</td>\n",
              "      <td>-0.009069</td>\n",
              "      <td>-0.005176</td>\n",
              "      <td>1.000000</td>\n",
              "      <td>0.000274</td>\n",
              "      <td>0.000563</td>\n",
              "      <td>-0.001032</td>\n",
              "    </tr>\n",
              "    <tr>\n",
              "      <th>StoreType_b</th>\n",
              "      <td>0.001458</td>\n",
              "      <td>0.001433</td>\n",
              "      <td>-0.000019</td>\n",
              "      <td>0.139979</td>\n",
              "      <td>0.366900</td>\n",
              "      <td>0.051300</td>\n",
              "      <td>0.000108</td>\n",
              "      <td>0.001822</td>\n",
              "      <td>0.000548</td>\n",
              "      <td>0.002786</td>\n",
              "      <td>-0.037087</td>\n",
              "      <td>-0.071211</td>\n",
              "      <td>-0.054188</td>\n",
              "      <td>-0.005238</td>\n",
              "      <td>-0.056555</td>\n",
              "      <td>-0.001275</td>\n",
              "      <td>-0.001437</td>\n",
              "      <td>-0.000207</td>\n",
              "      <td>0.000274</td>\n",
              "      <td>1.000000</td>\n",
              "      <td>-0.049710</td>\n",
              "      <td>-0.083744</td>\n",
              "    </tr>\n",
              "    <tr>\n",
              "      <th>StoreType_c</th>\n",
              "      <td>0.061206</td>\n",
              "      <td>0.061104</td>\n",
              "      <td>-0.000039</td>\n",
              "      <td>-0.005476</td>\n",
              "      <td>0.033704</td>\n",
              "      <td>-0.004724</td>\n",
              "      <td>0.000222</td>\n",
              "      <td>0.001542</td>\n",
              "      <td>0.001125</td>\n",
              "      <td>0.005719</td>\n",
              "      <td>0.011266</td>\n",
              "      <td>-0.097921</td>\n",
              "      <td>-0.001819</td>\n",
              "      <td>0.024833</td>\n",
              "      <td>0.029742</td>\n",
              "      <td>-0.002780</td>\n",
              "      <td>-0.001963</td>\n",
              "      <td>-0.000424</td>\n",
              "      <td>0.000563</td>\n",
              "      <td>-0.049710</td>\n",
              "      <td>1.000000</td>\n",
              "      <td>-0.262644</td>\n",
              "    </tr>\n",
              "    <tr>\n",
              "      <th>StoreType_d</th>\n",
              "      <td>-0.051542</td>\n",
              "      <td>-0.051473</td>\n",
              "      <td>0.000069</td>\n",
              "      <td>-0.022806</td>\n",
              "      <td>-0.189298</td>\n",
              "      <td>-0.005517</td>\n",
              "      <td>-0.000407</td>\n",
              "      <td>-0.000888</td>\n",
              "      <td>-0.002063</td>\n",
              "      <td>-0.010483</td>\n",
              "      <td>0.231087</td>\n",
              "      <td>0.131892</td>\n",
              "      <td>0.093171</td>\n",
              "      <td>-0.058148</td>\n",
              "      <td>0.081534</td>\n",
              "      <td>0.004964</td>\n",
              "      <td>0.004093</td>\n",
              "      <td>0.000778</td>\n",
              "      <td>-0.001032</td>\n",
              "      <td>-0.083744</td>\n",
              "      <td>-0.262644</td>\n",
              "      <td>1.000000</td>\n",
              "    </tr>\n",
              "  </tbody>\n",
              "</table>\n",
              "</div>"
            ],
            "text/plain": [
              "                     Unnamed: 0     Store  ...  StoreType_c  StoreType_d\n",
              "Unnamed: 0             1.000000  0.999998  ...     0.061206    -0.051542\n",
              "Store                  0.999998  1.000000  ...     0.061104    -0.051473\n",
              "DayOfWeek             -0.000010 -0.000010  ...    -0.000039     0.000069\n",
              "Sales                  0.005922  0.005932  ...    -0.005476    -0.022806\n",
              "Customers              0.025154  0.025131  ...     0.033704    -0.189298\n",
              "Open                  -0.000030 -0.000033  ...    -0.004724    -0.005517\n",
              "Promo                  0.000050  0.000065  ...     0.000222    -0.000407\n",
              "SchoolHoliday          0.000682  0.000684  ...     0.001542    -0.000888\n",
              "Year                  -0.000512  0.000327  ...     0.001125    -0.002063\n",
              "Month                  0.001568  0.001657  ...     0.005719    -0.010483\n",
              "Assortment             0.004270  0.004206  ...     0.011266     0.231087\n",
              "CompetitionDistance   -0.026505 -0.026413  ...    -0.097921     0.131892\n",
              "Promo2                 0.007236  0.007174  ...    -0.001819     0.093171\n",
              "day_diff_comp          0.001234  0.001382  ...     0.024833    -0.058148\n",
              "day_diff_promo        -0.015828 -0.015723  ...     0.029742     0.081534\n",
              "StateHoliday_0        -0.000684 -0.000737  ...    -0.002780     0.004964\n",
              "StateHoliday_a         0.000644  0.000645  ...    -0.001963     0.004093\n",
              "StateHoliday_b        -0.000122 -0.000123  ...    -0.000424     0.000778\n",
              "StateHoliday_c         0.000149  0.000163  ...     0.000563    -0.001032\n",
              "StoreType_b            0.001458  0.001433  ...    -0.049710    -0.083744\n",
              "StoreType_c            0.061206  0.061104  ...     1.000000    -0.262644\n",
              "StoreType_d           -0.051542 -0.051473  ...    -0.262644     1.000000\n",
              "\n",
              "[22 rows x 22 columns]"
            ]
          },
          "metadata": {},
          "execution_count": 38
        }
      ]
    },
    {
      "cell_type": "code",
      "metadata": {
        "colab": {
          "base_uri": "https://localhost:8080/",
          "height": 1000
        },
        "id": "D2r8rmRj3ZtY",
        "outputId": "61fa067a-8023-4e0c-c7dd-e765e9b9289b"
      },
      "source": [
        "corrmat = dataset.corr()\n",
        "top_corr_features=corrmat.index\n",
        "plt.figure(figsize=(20,20))\n",
        "g=sns.heatmap(dataset[top_corr_features].corr(),annot=True,cmap=\"RdYlGn\")"
      ],
      "execution_count": 39,
      "outputs": [
        {
          "output_type": "display_data",
          "data": {
            "image/png": "[encoded data removed]",
            "text/plain": [
              "<Figure size 1440x1440 with 2 Axes>"
            ]
          },
          "metadata": {
            "needs_background": "light"
          }
        }
      ]
    },
    {
      "cell_type": "markdown",
      "metadata": {
        "id": "64akOAJUdTd5"
      },
      "source": [
        ""
      ]
    },
    {
      "cell_type": "code",
      "metadata": {
        "colab": {
          "base_uri": "https://localhost:8080/"
        },
        "id": "4qVTWxVDefLC",
        "outputId": "ab52c180-2ccb-4e16-a6bc-8d5ae0a564a9"
      },
      "source": [
        "dataset.columns"
      ],
      "execution_count": 40,
      "outputs": [
        {
          "output_type": "execute_result",
          "data": {
            "text/plain": [
              "Index(['Unnamed: 0', 'Store', 'DayOfWeek', 'Sales', 'Customers', 'Open',\n",
              "       'Promo', 'SchoolHoliday', 'Year', 'Month', 'Assortment',\n",
              "       'CompetitionDistance', 'Promo2', 'day_diff_comp', 'day_diff_promo',\n",
              "       'StateHoliday_0', 'StateHoliday_a', 'StateHoliday_b', 'StateHoliday_c',\n",
              "       'StoreType_b', 'StoreType_c', 'StoreType_d'],\n",
              "      dtype='object')"
            ]
          },
          "metadata": {},
          "execution_count": 40
        }
      ]
    },
    {
      "cell_type": "code",
      "metadata": {
        "id": "7VhyArslelVd"
      },
      "source": [
        "dataset = dataset[['Store', 'DayOfWeek', 'Customers', 'Open',\n",
        "       'Promo', 'SchoolHoliday', 'Year', 'Month', 'Assortment',\n",
        "       'CompetitionDistance', 'Promo2', 'day_diff_comp', 'day_diff_promo',\n",
        "       'StateHoliday_0', 'StateHoliday_a', 'StateHoliday_b', 'StateHoliday_c',\n",
        "       'StoreType_b', 'StoreType_c', 'StoreType_d', 'Sales']]"
      ],
      "execution_count": 41,
      "outputs": []
    },
    {
      "cell_type": "markdown",
      "metadata": {
        "id": "1rakYqY7NMh7"
      },
      "source": [
        "**EDA**\n",
        "\n",
        "\n",
        "Sales vs DayOfWeek"
      ]
    },
    {
      "cell_type": "code",
      "metadata": {
        "colab": {
          "base_uri": "https://localhost:8080/",
          "height": 296
        },
        "id": "1klKQYKR5gUB",
        "outputId": "3dbcd370-d64f-499f-e206-36be01830e5a"
      },
      "source": [
        "sales_per_day = sns.barplot(x='DayOfWeek', y='Sales', data= dataset, palette='Reds')\n",
        "sales_per_day"
      ],
      "execution_count": 84,
      "outputs": [
        {
          "output_type": "execute_result",
          "data": {
            "text/plain": [
              "<matplotlib.axes._subplots.AxesSubplot at 0x7fb4dc8df8d0>"
            ]
          },
          "metadata": {},
          "execution_count": 84
        },
        {
          "output_type": "display_data",
          "data": {
            "image/png": "[encoded data removed]",
            "text/plain": [
              "<Figure size 432x288 with 1 Axes>"
            ]
          },
          "metadata": {
            "needs_background": "light"
          }
        }
      ]
    },
    {
      "cell_type": "markdown",
      "metadata": {
        "id": "kPrHRZyb8cA8"
      },
      "source": [
        "Sales of day 7 of the week (Sunday) is extremely low compared to other dates.\n"
      ]
    },
    {
      "cell_type": "markdown",
      "metadata": {
        "id": "I_cd4XKTU1j_"
      },
      "source": [
        "Let's take a closer look at Day 7"
      ]
    },
    {
      "cell_type": "code",
      "metadata": {
        "id": "qBM0237J9s20"
      },
      "source": [
        "day7 = dataset[(dataset[\"DayOfWeek\"]==7) & (dataset[\"Open\"]==1)]"
      ],
      "execution_count": 85,
      "outputs": []
    },
    {
      "cell_type": "markdown",
      "metadata": {
        "id": "yUZ5cISeVzd1"
      },
      "source": [
        "Now we will check if the stores that were open on Day 7 had sales or not."
      ]
    },
    {
      "cell_type": "code",
      "metadata": {
        "colab": {
          "base_uri": "https://localhost:8080/"
        },
        "id": "GMW2yvqfKUYk",
        "outputId": "2aacf262-7d27-46e7-dc1c-0a9e9199ff25"
      },
      "source": [
        "day7.Sales.describe()"
      ],
      "execution_count": 86,
      "outputs": [
        {
          "output_type": "execute_result",
          "data": {
            "text/plain": [
              "count     3593.000000\n",
              "mean      8224.723908\n",
              "std       6235.152960\n",
              "min        286.000000\n",
              "25%       3314.000000\n",
              "50%       6876.000000\n",
              "75%      11418.000000\n",
              "max      37376.000000\n",
              "Name: Sales, dtype: float64"
            ]
          },
          "metadata": {},
          "execution_count": 86
        }
      ]
    },
    {
      "cell_type": "markdown",
      "metadata": {
        "id": "tQyjNYckVLhs"
      },
      "source": [
        "All stores that were opened on Day 7 had sales."
      ]
    },
    {
      "cell_type": "code",
      "metadata": {
        "colab": {
          "base_uri": "https://localhost:8080/",
          "height": 296
        },
        "id": "6WdOOjvyYH5u",
        "outputId": "ea719721-0012-410e-cc96-458b31dbfbd3"
      },
      "source": [
        "sales_per_day = sns.boxplot(x='DayOfWeek', y='Sales', data= dataset[dataset.Sales!=0], palette='Reds')\n",
        "sales_per_day"
      ],
      "execution_count": 87,
      "outputs": [
        {
          "output_type": "execute_result",
          "data": {
            "text/plain": [
              "<matplotlib.axes._subplots.AxesSubplot at 0x7fb4dc48c510>"
            ]
          },
          "metadata": {},
          "execution_count": 87
        },
        {
          "output_type": "display_data",
          "data": {
            "image/png": "[encoded data removed]",
            "text/plain": [
              "<Figure size 432x288 with 1 Axes>"
            ]
          },
          "metadata": {
            "needs_background": "light"
          }
        }
      ]
    },
    {
      "cell_type": "markdown",
      "metadata": {
        "id": "2dfAH2hhbfnT"
      },
      "source": [
        "above plot shows that Sales of stores that were opened on Sunday are higher than weekdays."
      ]
    },
    {
      "cell_type": "markdown",
      "metadata": {
        "id": "7z7Ss0ABgQfw"
      },
      "source": [
        "Sales vs SchoolHoliday"
      ]
    },
    {
      "cell_type": "code",
      "metadata": {
        "colab": {
          "base_uri": "https://localhost:8080/",
          "height": 296
        },
        "id": "3lr3jhc4_xVx",
        "outputId": "0be0abce-8841-4b48-e96f-251eca967fd5"
      },
      "source": [
        "sales_on_schoolholiday = sns.barplot(x='SchoolHoliday', y='Sales', data= dataset, palette='Reds')\n",
        "sales_on_schoolholiday "
      ],
      "execution_count": 88,
      "outputs": [
        {
          "output_type": "execute_result",
          "data": {
            "text/plain": [
              "<matplotlib.axes._subplots.AxesSubplot at 0x7fb4dc3780d0>"
            ]
          },
          "metadata": {},
          "execution_count": 88
        },
        {
          "output_type": "display_data",
          "data": {
            "image/png": "[encoded data removed]",
            "text/plain": [
              "<Figure size 432x288 with 1 Axes>"
            ]
          },
          "metadata": {
            "needs_background": "light"
          }
        }
      ]
    },
    {
      "cell_type": "markdown",
      "metadata": {
        "id": "8FIjB5a7EYtF"
      },
      "source": [
        "Sales on School Holiday are just slightly higher than that of non-School Holiday. "
      ]
    },
    {
      "cell_type": "code",
      "metadata": {
        "colab": {
          "base_uri": "https://localhost:8080/",
          "height": 296
        },
        "id": "x2sCTUb1Cl6N",
        "outputId": "0b77ec4f-ac36-4fed-902d-54730c78abe5"
      },
      "source": [
        "assortment_sales = sns.barplot(x='Assortment', y='Sales', data= dataset[dataset.Sales!=0], palette='Reds')\n",
        "assortment_sales"
      ],
      "execution_count": 89,
      "outputs": [
        {
          "output_type": "execute_result",
          "data": {
            "text/plain": [
              "<matplotlib.axes._subplots.AxesSubplot at 0x7fb4dc363f50>"
            ]
          },
          "metadata": {},
          "execution_count": 89
        },
        {
          "output_type": "display_data",
          "data": {
            "image/png": "[encoded data removed]",
            "text/plain": [
              "<Figure size 432x288 with 1 Axes>"
            ]
          },
          "metadata": {
            "needs_background": "light"
          }
        }
      ]
    },
    {
      "cell_type": "markdown",
      "metadata": {
        "id": "sm1fgmreFJqa"
      },
      "source": [
        "We can see that assortment 2 has the best sales among three assortments. "
      ]
    },
    {
      "cell_type": "code",
      "metadata": {
        "id": "yEqIcOIrkvv8"
      },
      "source": [
        "X = dataset.iloc[:, :-1].values\n",
        "y = dataset.iloc[:, -1].values"
      ],
      "execution_count": 90,
      "outputs": []
    },
    {
      "cell_type": "code",
      "metadata": {
        "id": "xCX0842Bkvkn"
      },
      "source": [
        "#Splitting the data into train and test\n",
        "from sklearn.model_selection import train_test_split\n",
        "X_train, X_test, y_train, y_test = train_test_split(X, y, test_size = 0.25, random_state = 42 )"
      ],
      "execution_count": 91,
      "outputs": []
    },
    {
      "cell_type": "code",
      "metadata": {
        "colab": {
          "base_uri": "https://localhost:8080/"
        },
        "id": "2zk8UGYrkvYj",
        "outputId": "4c6b6be8-6ba6-417d-84b8-f661836118dc"
      },
      "source": [
        "print(X_train)"
      ],
      "execution_count": 92,
      "outputs": [
        {
          "output_type": "stream",
          "name": "stdout",
          "text": [
            "[[ 574    4  565 ...    0    0    1]\n",
            " [1084    3  690 ...    0    0    0]\n",
            " [ 239    1  267 ...    0    0    1]\n",
            " ...\n",
            " [ 146    3  578 ...    0    0    1]\n",
            " [ 740    4  527 ...    0    0    1]\n",
            " [ 134    6  287 ...    0    0    0]]\n"
          ]
        }
      ]
    },
    {
      "cell_type": "code",
      "metadata": {
        "colab": {
          "base_uri": "https://localhost:8080/"
        },
        "id": "wLNhPcUlkvH2",
        "outputId": "467f308a-c977-4974-8462-c6edc3c60cc1"
      },
      "source": [
        "print(y_train)"
      ],
      "execution_count": 93,
      "outputs": [
        {
          "output_type": "stream",
          "name": "stdout",
          "text": [
            "[6935 4849 2935 ... 5349 7441 2963]\n"
          ]
        }
      ]
    },
    {
      "cell_type": "code",
      "metadata": {
        "colab": {
          "base_uri": "https://localhost:8080/"
        },
        "id": "Ejk72KU-fKck",
        "outputId": "c7446b3e-0645-495b-86f0-d09f10bb00de"
      },
      "source": [
        "print(X_test)"
      ],
      "execution_count": 94,
      "outputs": [
        {
          "output_type": "stream",
          "name": "stdout",
          "text": [
            "[[ 851    6  494 ...    0    0    1]\n",
            " [ 412    2  454 ...    0    0    1]\n",
            " [ 281    1  410 ...    0    0    1]\n",
            " ...\n",
            " [ 821    3  909 ...    0    0    0]\n",
            " [ 363    5  884 ...    0    0    0]\n",
            " [1020    3 1108 ...    0    0    0]]\n"
          ]
        }
      ]
    },
    {
      "cell_type": "code",
      "metadata": {
        "colab": {
          "base_uri": "https://localhost:8080/"
        },
        "id": "uh-dxZ-JfPUR",
        "outputId": "e357c9ee-12f4-4456-f220-f5880a5dc04c"
      },
      "source": [
        "print(y_test)"
      ],
      "execution_count": 95,
      "outputs": [
        {
          "output_type": "stream",
          "name": "stdout",
          "text": [
            "[5337 5451 3968 ... 7876 6887 9505]\n"
          ]
        }
      ]
    },
    {
      "cell_type": "code",
      "metadata": {
        "id": "CjFrSlTeQ08l"
      },
      "source": [
        "#Preprocessing – Scaling the features\n",
        "\n",
        "from sklearn.preprocessing import MinMaxScaler\n",
        "scaler = MinMaxScaler(feature_range=(0, 1))\n",
        "\n",
        "x_train_scaled = scaler.fit_transform(X_train)\n",
        "x_train = pd.DataFrame(x_train_scaled)\n",
        "\n",
        "x_test_scaled = scaler.fit_transform(X_test)\n",
        "x_test = pd.DataFrame(x_test_scaled)"
      ],
      "execution_count": 96,
      "outputs": []
    },
    {
      "cell_type": "markdown",
      "metadata": {
        "id": "her_IzYN0Dkm"
      },
      "source": [
        "**Let us have a look at the error rate for different k values**"
      ]
    },
    {
      "cell_type": "code",
      "metadata": {
        "colab": {
          "base_uri": "https://localhost:8080/"
        },
        "id": "TNMajUPRdJT4",
        "outputId": "82472d5c-2f36-4273-c929-fdb3fce2861b"
      },
      "source": [
        "#to store rmse values for different k\n",
        "rmse_val = [] \n",
        "for K in range(20):\n",
        "    K = K+1\n",
        "    model = neighbors.KNeighborsRegressor(n_neighbors = K, weights='uniform', algorithm='auto', leaf_size=30, p=2, metric='minkowski', metric_params=None, n_jobs=-1)\n",
        "    #fit the model\n",
        "    model.fit(X_train, y_train)\n",
        "    #make prediction on test set  \n",
        "    pred=model.predict(X_test) \n",
        "    #calculate rmse\n",
        "    error = sqrt(mean_squared_error(y_test,pred)) \n",
        "    #store rmse values\n",
        "    rmse_val.append(error) \n",
        "    print('RMSE value for k= ' , K , 'is:', error)"
      ],
      "execution_count": 97,
      "outputs": [
        {
          "output_type": "stream",
          "name": "stdout",
          "text": [
            "RMSE value for k=  1 is: 722.3204128024856\n",
            "RMSE value for k=  2 is: 638.8299059562694\n",
            "RMSE value for k=  3 is: 610.0893266708924\n",
            "RMSE value for k=  4 is: 600.5323106043336\n",
            "RMSE value for k=  5 is: 596.1574180252185\n",
            "RMSE value for k=  6 is: 595.9854484569124\n",
            "RMSE value for k=  7 is: 596.7304269362072\n",
            "RMSE value for k=  8 is: 598.7650556897136\n",
            "RMSE value for k=  9 is: 601.8024985201066\n",
            "RMSE value for k=  10 is: 605.3970913501978\n",
            "RMSE value for k=  11 is: 609.3175446184162\n",
            "RMSE value for k=  12 is: 613.0699691186246\n",
            "RMSE value for k=  13 is: 617.3448850478823\n",
            "RMSE value for k=  14 is: 621.3488247189009\n",
            "RMSE value for k=  15 is: 625.724315189358\n",
            "RMSE value for k=  16 is: 630.5080195148753\n",
            "RMSE value for k=  17 is: 634.9791636267462\n",
            "RMSE value for k=  18 is: 639.6340847369975\n",
            "RMSE value for k=  19 is: 644.1819777503248\n",
            "RMSE value for k=  20 is: 648.9972770651098\n"
          ]
        }
      ]
    },
    {
      "cell_type": "code",
      "metadata": {
        "colab": {
          "base_uri": "https://localhost:8080/"
        },
        "id": "7aupe2ErgiG2",
        "outputId": "2a4edaf3-f7b8-4074-853b-135b06a87b6f"
      },
      "source": [
        "#checking R2 Score\n",
        "from sklearn.metrics import r2_score\n",
        "r2_score(y_test,pred)"
      ],
      "execution_count": 98,
      "outputs": [
        {
          "output_type": "execute_result",
          "data": {
            "text/plain": [
              "0.9716410443871248"
            ]
          },
          "metadata": {},
          "execution_count": 98
        }
      ]
    },
    {
      "cell_type": "code",
      "metadata": {
        "colab": {
          "base_uri": "https://localhost:8080/",
          "height": 282
        },
        "id": "I7WZ1-LSdUel",
        "outputId": "9eaec192-ffe0-47ca-c607-e247b0bac35e"
      },
      "source": [
        "#plotting the rmse values against k values\n",
        "curve = pd.DataFrame(rmse_val) #elbow curve \n",
        "curve.plot()"
      ],
      "execution_count": 99,
      "outputs": [
        {
          "output_type": "execute_result",
          "data": {
            "text/plain": [
              "<matplotlib.axes._subplots.AxesSubplot at 0x7fb4da9f7190>"
            ]
          },
          "metadata": {},
          "execution_count": 99
        },
        {
          "output_type": "display_data",
          "data": {
            "image/png": "[encoded data removed]",
            "text/plain": [
              "<Figure size 432x288 with 1 Axes>"
            ]
          },
          "metadata": {
            "needs_background": "light"
          }
        }
      ]
    },
    {
      "cell_type": "code",
      "metadata": {
        "colab": {
          "base_uri": "https://localhost:8080/"
        },
        "id": "tLHzqnc5kEG2",
        "outputId": "80235a99-d2c7-4ac5-ed03-bd0f2cb52a08"
      },
      "source": [
        "#For deciding the value of k, plotting the elbow curve every time is be a tedious process. we can simply use gridsearch to find the best value.\n",
        "\n",
        "from sklearn.model_selection import GridSearchCV\n",
        "params = {'n_neighbors':[2,3,4,5,6,7,8,9]}\n",
        "\n",
        "knn = neighbors.KNeighborsRegressor()\n",
        "\n",
        "model = GridSearchCV(knn, params, cv=5)\n",
        "model.fit(X_train,y_train)\n",
        "model.best_params_"
      ],
      "execution_count": 101,
      "outputs": [
        {
          "output_type": "execute_result",
          "data": {
            "text/plain": [
              "{'n_neighbors': 5}"
            ]
          },
          "metadata": {},
          "execution_count": 101
        }
      ]
    },
    {
      "cell_type": "code",
      "metadata": {
        "colab": {
          "base_uri": "https://localhost:8080/"
        },
        "id": "TcdNJMw5fxFb",
        "outputId": "2b78cb30-66b2-4646-b3f9-d53ca0d0fcab"
      },
      "source": [
        "#checking R2 Score\n",
        "from sklearn.metrics import r2_score\n",
        "r2_score(y_test,pred)"
      ],
      "execution_count": 102,
      "outputs": [
        {
          "output_type": "execute_result",
          "data": {
            "text/plain": [
              "0.9716410443871248"
            ]
          },
          "metadata": {},
          "execution_count": 102
        }
      ]
    },
    {
      "cell_type": "markdown",
      "metadata": {
        "id": "VTCb30-a7OJp"
      },
      "source": [
        "from below plot we can  see the difference between actual and predicted value. since it is minimal so we are getting closed minimal gaussian distribution graph. "
      ]
    },
    {
      "cell_type": "code",
      "metadata": {
        "colab": {
          "base_uri": "https://localhost:8080/",
          "height": 335
        },
        "id": "P3wVhH3P7P9h",
        "outputId": "cf8a770e-abd0-489b-8ea0-be5d200ac4fe"
      },
      "source": [
        "sns.distplot(y_test-pred)"
      ],
      "execution_count": 103,
      "outputs": [
        {
          "output_type": "stream",
          "name": "stderr",
          "text": [
            "/usr/local/lib/python3.7/dist-packages/seaborn/distributions.py:2619: FutureWarning: `distplot` is a deprecated function and will be removed in a future version. Please adapt your code to use either `displot` (a figure-level function with similar flexibility) or `histplot` (an axes-level function for histograms).\n",
            "  warnings.warn(msg, FutureWarning)\n"
          ]
        },
        {
          "output_type": "execute_result",
          "data": {
            "text/plain": [
              "<matplotlib.axes._subplots.AxesSubplot at 0x7fb4da86cd90>"
            ]
          },
          "metadata": {},
          "execution_count": 103
        },
        {
          "output_type": "display_data",
          "data": {
            "image/png": "[encoded data removed]",
            "text/plain": [
              "<Figure size 432x288 with 1 Axes>"
            ]
          },
          "metadata": {
            "needs_background": "light"
          }
        }
      ]
    },
    {
      "cell_type": "code",
      "metadata": {
        "colab": {
          "base_uri": "https://localhost:8080/",
          "height": 286
        },
        "id": "59ErnnND7Qbe",
        "outputId": "90b2d22d-7e70-4940-fe25-93654283d076"
      },
      "source": [
        "plt.scatter(y_test,pred)"
      ],
      "execution_count": 104,
      "outputs": [
        {
          "output_type": "execute_result",
          "data": {
            "text/plain": [
              "<matplotlib.collections.PathCollection at 0x7fb4da78ff90>"
            ]
          },
          "metadata": {},
          "execution_count": 104
        },
        {
          "output_type": "display_data",
          "data": {
            "image/png": "[encoded data removed]",
            "text/plain": [
              "<Figure size 432x288 with 1 Axes>"
            ]
          },
          "metadata": {
            "needs_background": "light"
          }
        }
      ]
    },
    {
      "cell_type": "markdown",
      "metadata": {
        "id": "FJHLcYMtkA2l"
      },
      "source": [
        "From above plot we can see that the values of actual and prediction are almost  align in a line itself. so that's why we can say this model is good."
      ]
    },
    {
      "cell_type": "code",
      "metadata": {
        "id": "R1gA6uqBwfan"
      },
      "source": [
        ""
      ],
      "execution_count": null,
      "outputs": []
    }
  ]
}
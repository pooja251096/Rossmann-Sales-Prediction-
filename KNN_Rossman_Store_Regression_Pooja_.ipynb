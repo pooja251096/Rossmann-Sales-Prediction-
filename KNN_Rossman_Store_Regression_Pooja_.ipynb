{
  "nbformat": 4,
  "nbformat_minor": 0,
  "metadata": {
    "colab": {
      "name": "KNN_Rossman_Store_Regression_Pooja_.ipynb",
      "provenance": [],
      "collapsed_sections": [
        "YvxIPVyMhmKp",
        "QHTKNlRJIh-3",
        "-3zyUqzeJbSA",
        "bb6jCOCQiAmP",
        "IdtNj1ZLJbSC",
        "X5REIBRiJbSD"
      ],
      "include_colab_link": true
    },
    "kernelspec": {
      "name": "python3",
      "display_name": "Python 3"
    },
    "language_info": {
      "name": "python"
    }
  },
  "cells": [
    {
      "cell_type": "markdown",
      "metadata": {
        "id": "view-in-github",
        "colab_type": "text"
      },
      "source": [
        "<a href=\"https://colab.research.google.com/github/pooja251096/Rossmann-Sales-Prediction-/blob/main/KNN_Rossman_Store_Regression_Pooja_.ipynb\" target=\"_parent\"><img src=\"https://colab.research.google.com/assets/colab-badge.svg\" alt=\"Open In Colab\"/></a>"
      ]
    },
    {
      "cell_type": "markdown",
      "metadata": {
        "id": "tOGC-qoyhJeX"
      },
      "source": [
        "# <b><u> Project Title : Sales Prediction : Predicting sales of a major store chain Rossmann</u></b>"
      ]
    },
    {
      "cell_type": "markdown",
      "metadata": {
        "id": "Y06xIdG26kRF"
      },
      "source": [
        "## <b> Problem Description </b>\n",
        "\n",
        "### Rossmann operates over 3,000 drug stores in 7 European countries. Currently, Rossmann store managers are tasked with predicting their daily sales for up to six weeks in advance. Store sales are influenced by many factors, including promotions, competition, school and state holidays, seasonality, and locality. With thousands of individual managers predicting sales based on their unique circumstances, the accuracy of results can be quite varied.\n",
        "\n",
        "### You are provided with historical sales data for 1,115 Rossmann stores. The task is to forecast the \"Sales\" column for the test set. Note that some stores in the dataset were temporarily closed for refurbishment."
      ]
    },
    {
      "cell_type": "markdown",
      "metadata": {
        "id": "WWeU1f9bwqQq"
      },
      "source": [
        "## <b> Data Description </b>\n",
        "\n",
        "### <b>Rossmann Stores Data.csv </b> - historical data including Sales\n",
        "### <b>store.csv </b> - supplemental information about the stores\n",
        "\n",
        "\n",
        "### <b><u>Data fields</u></b>\n",
        "### Most of the fields are self-explanatory. The following are descriptions for those that aren't.\n",
        "\n",
        "* #### Id - an Id that represents a (Store, Date) duple within the test set\n",
        "* #### Store - a unique Id for each store\n",
        "* #### Sales - the turnover for any given day (this is what you are predicting)\n",
        "* #### Customers - the number of customers on a given day\n",
        "* #### Open - an indicator for whether the store was open: 0 = closed, 1 = open\n",
        "* #### StateHoliday - indicates a state holiday. Normally all stores, with few exceptions, are closed on state holidays. Note that all schools are closed on public holidays and weekends. a = public holiday, b = Easter holiday, c = Christmas, 0 = None\n",
        "* #### SchoolHoliday - indicates if the (Store, Date) was affected by the closure of public schools\n",
        "* #### StoreType - differentiates between 4 different store models: a, b, c, d\n",
        "* #### Assortment - describes an assortment level: a = basic, b = extra, c = extended\n",
        "* #### CompetitionDistance - distance in meters to the nearest competitor store\n",
        "* #### CompetitionOpenSince[Month/Year] - gives the approximate year and month of the time the nearest competitor was opened\n",
        "* #### Promo - indicates whether a store is running a promo on that day\n",
        "* #### Promo2 - Promo2 is a continuing and consecutive promotion for some stores: 0 = store is not participating, 1 = store is participating\n",
        "* #### Promo2Since[Year/Week] - describes the year and calendar week when the store started participating in Promo2\n",
        "* #### PromoInterval - describes the consecutive intervals Promo2 is started, naming the months the promotion is started anew. E.g. \"Feb,May,Aug,Nov\" means each round starts in February, May, August, November of any given year for that store"
      ]
    },
    {
      "cell_type": "markdown",
      "metadata": {
        "id": "2vmaORXmGCfl"
      },
      "source": [
        "## Creating dataset ready to push into various Machine Learning models"
      ]
    },
    {
      "cell_type": "code",
      "metadata": {
        "id": "6pqVQ3xCY9mD"
      },
      "source": [
        "# Importing the libraries\n",
        "import numpy as np\n",
        "import pandas as pd\n",
        "from numpy import math\n",
        "\n",
        "from sklearn.preprocessing import StandardScaler\n",
        "from sklearn.model_selection import train_test_split\n",
        "from sklearn.linear_model import LinearRegression\n",
        "from sklearn.metrics import r2_score\n",
        "from sklearn.metrics import mean_squared_error\n",
        "\n",
        "from sklearn import neighbors\n",
        "from math import sqrt\n",
        "import matplotlib.pyplot as plt\n",
        "%matplotlib inline\n",
        "\n",
        "import matplotlib.pyplot as plt\n",
        "import seaborn as sns\n",
        "import calendar\n",
        "import datetime"
      ],
      "execution_count": 1,
      "outputs": []
    },
    {
      "cell_type": "code",
      "metadata": {
        "id": "lsGTUFzPBJ9M"
      },
      "source": [
        "import warnings\n",
        "warnings.filterwarnings('ignore')"
      ],
      "execution_count": 2,
      "outputs": []
    },
    {
      "cell_type": "code",
      "metadata": {
        "id": "Ibdsklv3Y9Uh"
      },
      "source": [
        "# from google.colab import drive\n",
        "# drive.mount('/content/drive')"
      ],
      "execution_count": 3,
      "outputs": []
    },
    {
      "cell_type": "code",
      "metadata": {
        "id": "Tdpq8h9AY9RI"
      },
      "source": [
        "# store_data = pd.read_csv('/content/drive/MyDrive/AlmaBetter ML Regression Deliverables/Rossmann Stores Data.csv', low_memory = False)\n",
        "# stores = pd.read_csv('/content/drive/MyDrive/AlmaBetter ML Regression Deliverables/store.csv')\n",
        "\n",
        "store_data = pd.read_csv('Rossmann Stores Data.csv')\n",
        "stores = pd.read_csv('store.csv')"
      ],
      "execution_count": 4,
      "outputs": []
    },
    {
      "cell_type": "code",
      "metadata": {
        "id": "mIQHKzRpexbH",
        "colab": {
          "base_uri": "https://localhost:8080/",
          "height": 203
        },
        "outputId": "c08b93ff-7411-4f24-d2c9-d071d8626385"
      },
      "source": [
        "store_data.head()"
      ],
      "execution_count": 5,
      "outputs": [
        {
          "output_type": "execute_result",
          "data": {
            "text/html": [
              "<div>\n",
              "<style scoped>\n",
              "    .dataframe tbody tr th:only-of-type {\n",
              "        vertical-align: middle;\n",
              "    }\n",
              "\n",
              "    .dataframe tbody tr th {\n",
              "        vertical-align: top;\n",
              "    }\n",
              "\n",
              "    .dataframe thead th {\n",
              "        text-align: right;\n",
              "    }\n",
              "</style>\n",
              "<table border=\"1\" class=\"dataframe\">\n",
              "  <thead>\n",
              "    <tr style=\"text-align: right;\">\n",
              "      <th></th>\n",
              "      <th>Store</th>\n",
              "      <th>DayOfWeek</th>\n",
              "      <th>Date</th>\n",
              "      <th>Sales</th>\n",
              "      <th>Customers</th>\n",
              "      <th>Open</th>\n",
              "      <th>Promo</th>\n",
              "      <th>StateHoliday</th>\n",
              "      <th>SchoolHoliday</th>\n",
              "    </tr>\n",
              "  </thead>\n",
              "  <tbody>\n",
              "    <tr>\n",
              "      <th>0</th>\n",
              "      <td>1</td>\n",
              "      <td>5</td>\n",
              "      <td>2015-07-31</td>\n",
              "      <td>5263</td>\n",
              "      <td>555.0</td>\n",
              "      <td>1.0</td>\n",
              "      <td>1.0</td>\n",
              "      <td>0</td>\n",
              "      <td>1.0</td>\n",
              "    </tr>\n",
              "    <tr>\n",
              "      <th>1</th>\n",
              "      <td>2</td>\n",
              "      <td>5</td>\n",
              "      <td>2015-07-31</td>\n",
              "      <td>6064</td>\n",
              "      <td>625.0</td>\n",
              "      <td>1.0</td>\n",
              "      <td>1.0</td>\n",
              "      <td>0</td>\n",
              "      <td>1.0</td>\n",
              "    </tr>\n",
              "    <tr>\n",
              "      <th>2</th>\n",
              "      <td>3</td>\n",
              "      <td>5</td>\n",
              "      <td>2015-07-31</td>\n",
              "      <td>8314</td>\n",
              "      <td>821.0</td>\n",
              "      <td>1.0</td>\n",
              "      <td>1.0</td>\n",
              "      <td>0</td>\n",
              "      <td>1.0</td>\n",
              "    </tr>\n",
              "    <tr>\n",
              "      <th>3</th>\n",
              "      <td>4</td>\n",
              "      <td>5</td>\n",
              "      <td>2015-07-31</td>\n",
              "      <td>13995</td>\n",
              "      <td>1498.0</td>\n",
              "      <td>1.0</td>\n",
              "      <td>1.0</td>\n",
              "      <td>0</td>\n",
              "      <td>1.0</td>\n",
              "    </tr>\n",
              "    <tr>\n",
              "      <th>4</th>\n",
              "      <td>5</td>\n",
              "      <td>5</td>\n",
              "      <td>2015-07-31</td>\n",
              "      <td>4822</td>\n",
              "      <td>559.0</td>\n",
              "      <td>1.0</td>\n",
              "      <td>1.0</td>\n",
              "      <td>0</td>\n",
              "      <td>1.0</td>\n",
              "    </tr>\n",
              "  </tbody>\n",
              "</table>\n",
              "</div>"
            ],
            "text/plain": [
              "   Store  DayOfWeek        Date  Sales  ...  Open  Promo  StateHoliday SchoolHoliday\n",
              "0      1          5  2015-07-31   5263  ...   1.0    1.0             0           1.0\n",
              "1      2          5  2015-07-31   6064  ...   1.0    1.0             0           1.0\n",
              "2      3          5  2015-07-31   8314  ...   1.0    1.0             0           1.0\n",
              "3      4          5  2015-07-31  13995  ...   1.0    1.0             0           1.0\n",
              "4      5          5  2015-07-31   4822  ...   1.0    1.0             0           1.0\n",
              "\n",
              "[5 rows x 9 columns]"
            ]
          },
          "metadata": {},
          "execution_count": 5
        }
      ]
    },
    {
      "cell_type": "code",
      "metadata": {
        "id": "VLp0PCTQPvxQ"
      },
      "source": [
        "# Convert the Date column to Datetime\n",
        "store_data['Date']= pd.to_datetime(store_data['Date'])\n",
        "\n",
        "# Extract Year and month from Date column\n",
        "store_data['Year'] = pd.DatetimeIndex(store_data['Date']).year\n",
        "store_data['Month'] = pd.DatetimeIndex(store_data['Date']).month"
      ],
      "execution_count": 6,
      "outputs": []
    },
    {
      "cell_type": "code",
      "metadata": {
        "id": "TZ3voz33moDX",
        "colab": {
          "base_uri": "https://localhost:8080/",
          "height": 203
        },
        "outputId": "ac1f7c54-f5ea-4c4d-d198-a4d6337369d7"
      },
      "source": [
        "# Displaying the data\n",
        "store_data.head()"
      ],
      "execution_count": 7,
      "outputs": [
        {
          "output_type": "execute_result",
          "data": {
            "text/html": [
              "<div>\n",
              "<style scoped>\n",
              "    .dataframe tbody tr th:only-of-type {\n",
              "        vertical-align: middle;\n",
              "    }\n",
              "\n",
              "    .dataframe tbody tr th {\n",
              "        vertical-align: top;\n",
              "    }\n",
              "\n",
              "    .dataframe thead th {\n",
              "        text-align: right;\n",
              "    }\n",
              "</style>\n",
              "<table border=\"1\" class=\"dataframe\">\n",
              "  <thead>\n",
              "    <tr style=\"text-align: right;\">\n",
              "      <th></th>\n",
              "      <th>Store</th>\n",
              "      <th>DayOfWeek</th>\n",
              "      <th>Date</th>\n",
              "      <th>Sales</th>\n",
              "      <th>Customers</th>\n",
              "      <th>Open</th>\n",
              "      <th>Promo</th>\n",
              "      <th>StateHoliday</th>\n",
              "      <th>SchoolHoliday</th>\n",
              "      <th>Year</th>\n",
              "      <th>Month</th>\n",
              "    </tr>\n",
              "  </thead>\n",
              "  <tbody>\n",
              "    <tr>\n",
              "      <th>0</th>\n",
              "      <td>1</td>\n",
              "      <td>5</td>\n",
              "      <td>2015-07-31</td>\n",
              "      <td>5263</td>\n",
              "      <td>555.0</td>\n",
              "      <td>1.0</td>\n",
              "      <td>1.0</td>\n",
              "      <td>0</td>\n",
              "      <td>1.0</td>\n",
              "      <td>2015</td>\n",
              "      <td>7</td>\n",
              "    </tr>\n",
              "    <tr>\n",
              "      <th>1</th>\n",
              "      <td>2</td>\n",
              "      <td>5</td>\n",
              "      <td>2015-07-31</td>\n",
              "      <td>6064</td>\n",
              "      <td>625.0</td>\n",
              "      <td>1.0</td>\n",
              "      <td>1.0</td>\n",
              "      <td>0</td>\n",
              "      <td>1.0</td>\n",
              "      <td>2015</td>\n",
              "      <td>7</td>\n",
              "    </tr>\n",
              "    <tr>\n",
              "      <th>2</th>\n",
              "      <td>3</td>\n",
              "      <td>5</td>\n",
              "      <td>2015-07-31</td>\n",
              "      <td>8314</td>\n",
              "      <td>821.0</td>\n",
              "      <td>1.0</td>\n",
              "      <td>1.0</td>\n",
              "      <td>0</td>\n",
              "      <td>1.0</td>\n",
              "      <td>2015</td>\n",
              "      <td>7</td>\n",
              "    </tr>\n",
              "    <tr>\n",
              "      <th>3</th>\n",
              "      <td>4</td>\n",
              "      <td>5</td>\n",
              "      <td>2015-07-31</td>\n",
              "      <td>13995</td>\n",
              "      <td>1498.0</td>\n",
              "      <td>1.0</td>\n",
              "      <td>1.0</td>\n",
              "      <td>0</td>\n",
              "      <td>1.0</td>\n",
              "      <td>2015</td>\n",
              "      <td>7</td>\n",
              "    </tr>\n",
              "    <tr>\n",
              "      <th>4</th>\n",
              "      <td>5</td>\n",
              "      <td>5</td>\n",
              "      <td>2015-07-31</td>\n",
              "      <td>4822</td>\n",
              "      <td>559.0</td>\n",
              "      <td>1.0</td>\n",
              "      <td>1.0</td>\n",
              "      <td>0</td>\n",
              "      <td>1.0</td>\n",
              "      <td>2015</td>\n",
              "      <td>7</td>\n",
              "    </tr>\n",
              "  </tbody>\n",
              "</table>\n",
              "</div>"
            ],
            "text/plain": [
              "   Store  DayOfWeek       Date  Sales  ...  StateHoliday  SchoolHoliday  Year Month\n",
              "0      1          5 2015-07-31   5263  ...             0            1.0  2015     7\n",
              "1      2          5 2015-07-31   6064  ...             0            1.0  2015     7\n",
              "2      3          5 2015-07-31   8314  ...             0            1.0  2015     7\n",
              "3      4          5 2015-07-31  13995  ...             0            1.0  2015     7\n",
              "4      5          5 2015-07-31   4822  ...             0            1.0  2015     7\n",
              "\n",
              "[5 rows x 11 columns]"
            ]
          },
          "metadata": {},
          "execution_count": 7
        }
      ]
    },
    {
      "cell_type": "code",
      "metadata": {
        "id": "M9KDlPVAAiGU",
        "colab": {
          "base_uri": "https://localhost:8080/",
          "height": 279
        },
        "outputId": "a6cfda74-236d-4736-f28f-e650e9a5e694"
      },
      "source": [
        "sns.distplot(store_data[store_data['Sales']!=0]['Sales']);"
      ],
      "execution_count": 8,
      "outputs": [
        {
          "output_type": "display_data",
          "data": {
            "image/png": "[encoded data removed]",
            "text/plain": [
              "<Figure size 432x288 with 1 Axes>"
            ]
          },
          "metadata": {
            "needs_background": "light"
          }
        }
      ]
    },
    {
      "cell_type": "code",
      "metadata": {
        "id": "l8YRH89eBS0X",
        "colab": {
          "base_uri": "https://localhost:8080/",
          "height": 279
        },
        "outputId": "a68f71ae-7507-4ffc-9363-818a53aaef09"
      },
      "source": [
        "sns.boxplot(store_data[store_data['Sales']!=0]['Sales']);"
      ],
      "execution_count": 9,
      "outputs": [
        {
          "output_type": "display_data",
          "data": {
            "image/png": "[encoded data removed]",
            "text/plain": [
              "<Figure size 432x288 with 1 Axes>"
            ]
          },
          "metadata": {
            "needs_background": "light"
          }
        }
      ]
    },
    {
      "cell_type": "code",
      "metadata": {
        "id": "TkJnQ-mfDsl-"
      },
      "source": [
        "store_data_high_sales=store_data[store_data['Sales']>=20000][['Year','Month','Sales']]"
      ],
      "execution_count": 10,
      "outputs": []
    },
    {
      "cell_type": "code",
      "metadata": {
        "id": "bSwIMnvTBibD",
        "colab": {
          "base_uri": "https://localhost:8080/",
          "height": 357
        },
        "outputId": "8d520316-1a52-4141-9ce2-eda0b401ccf6"
      },
      "source": [
        "# See count of high sales/day in certain months to estimate high sales period\n",
        "pd.pivot_table(data=store_data_high_sales[['Year','Month','Sales']],index='Month',columns='Year',aggfunc='count',fill_value=0)"
      ],
      "execution_count": 11,
      "outputs": [
        {
          "output_type": "execute_result",
          "data": {
            "text/html": [
              "<div>\n",
              "<style scoped>\n",
              "    .dataframe tbody tr th:only-of-type {\n",
              "        vertical-align: middle;\n",
              "    }\n",
              "\n",
              "    .dataframe tbody tr th {\n",
              "        vertical-align: top;\n",
              "    }\n",
              "\n",
              "    .dataframe thead tr th {\n",
              "        text-align: left;\n",
              "    }\n",
              "\n",
              "    .dataframe thead tr:last-of-type th {\n",
              "        text-align: right;\n",
              "    }\n",
              "</style>\n",
              "<table border=\"1\" class=\"dataframe\">\n",
              "  <thead>\n",
              "    <tr>\n",
              "      <th></th>\n",
              "      <th colspan=\"2\" halign=\"left\">Sales</th>\n",
              "    </tr>\n",
              "    <tr>\n",
              "      <th>Year</th>\n",
              "      <th>2014</th>\n",
              "      <th>2015</th>\n",
              "    </tr>\n",
              "    <tr>\n",
              "      <th>Month</th>\n",
              "      <th></th>\n",
              "      <th></th>\n",
              "    </tr>\n",
              "  </thead>\n",
              "  <tbody>\n",
              "    <tr>\n",
              "      <th>1</th>\n",
              "      <td>0</td>\n",
              "      <td>75</td>\n",
              "    </tr>\n",
              "    <tr>\n",
              "      <th>2</th>\n",
              "      <td>0</td>\n",
              "      <td>75</td>\n",
              "    </tr>\n",
              "    <tr>\n",
              "      <th>3</th>\n",
              "      <td>0</td>\n",
              "      <td>124</td>\n",
              "    </tr>\n",
              "    <tr>\n",
              "      <th>4</th>\n",
              "      <td>0</td>\n",
              "      <td>151</td>\n",
              "    </tr>\n",
              "    <tr>\n",
              "      <th>5</th>\n",
              "      <td>0</td>\n",
              "      <td>132</td>\n",
              "    </tr>\n",
              "    <tr>\n",
              "      <th>6</th>\n",
              "      <td>0</td>\n",
              "      <td>186</td>\n",
              "    </tr>\n",
              "    <tr>\n",
              "      <th>7</th>\n",
              "      <td>0</td>\n",
              "      <td>123</td>\n",
              "    </tr>\n",
              "    <tr>\n",
              "      <th>12</th>\n",
              "      <td>257</td>\n",
              "      <td>0</td>\n",
              "    </tr>\n",
              "  </tbody>\n",
              "</table>\n",
              "</div>"
            ],
            "text/plain": [
              "      Sales     \n",
              "Year   2014 2015\n",
              "Month           \n",
              "1         0   75\n",
              "2         0   75\n",
              "3         0  124\n",
              "4         0  151\n",
              "5         0  132\n",
              "6         0  186\n",
              "7         0  123\n",
              "12      257    0"
            ]
          },
          "metadata": {},
          "execution_count": 11
        }
      ]
    },
    {
      "cell_type": "code",
      "metadata": {
        "id": "sBT6OLtMIV0v"
      },
      "source": [
        "# Check total sales monthwise\n",
        "Sales_across_years_monthwise=pd.pivot_table(data=store_data[['Year','Month','Sales']],index='Month',columns='Year',aggfunc='sum',fill_value=0)\n"
      ],
      "execution_count": 12,
      "outputs": []
    },
    {
      "cell_type": "code",
      "metadata": {
        "id": "2i6Ry3PyIwQO",
        "colab": {
          "base_uri": "https://localhost:8080/",
          "height": 706
        },
        "outputId": "dbc36951-613a-4a74-c288-a6058037764c"
      },
      "source": [
        "Sales_across_years_monthwise['diff21']=Sales_across_years_monthwise[('Sales', 2014)]-Sales_across_years_monthwise[('Sales', 2013)]\n",
        "Sales_across_years_monthwise['diff32']=Sales_across_years_monthwise[('Sales', 2015)]-Sales_across_years_monthwise[('Sales', 2014)]\n",
        "Sales_across_years_monthwise['diff31']=Sales_across_years_monthwise[('Sales', 2015)]-Sales_across_years_monthwise[('Sales', 2013)]"
      ],
      "execution_count": 13,
      "outputs": [
        {
          "output_type": "error",
          "ename": "KeyError",
          "evalue": "ignored",
          "traceback": [
            "\u001b[0;31m---------------------------------------------------------------------------\u001b[0m",
            "\u001b[0;31mKeyError\u001b[0m                                  Traceback (most recent call last)",
            "\u001b[0;32m/usr/local/lib/python3.7/dist-packages/pandas/core/indexes/base.py\u001b[0m in \u001b[0;36mget_loc\u001b[0;34m(self, key, method, tolerance)\u001b[0m\n\u001b[1;32m   2897\u001b[0m             \u001b[0;32mtry\u001b[0m\u001b[0;34m:\u001b[0m\u001b[0;34m\u001b[0m\u001b[0;34m\u001b[0m\u001b[0m\n\u001b[0;32m-> 2898\u001b[0;31m                 \u001b[0;32mreturn\u001b[0m \u001b[0mself\u001b[0m\u001b[0;34m.\u001b[0m\u001b[0m_engine\u001b[0m\u001b[0;34m.\u001b[0m\u001b[0mget_loc\u001b[0m\u001b[0;34m(\u001b[0m\u001b[0mcasted_key\u001b[0m\u001b[0;34m)\u001b[0m\u001b[0;34m\u001b[0m\u001b[0;34m\u001b[0m\u001b[0m\n\u001b[0m\u001b[1;32m   2899\u001b[0m             \u001b[0;32mexcept\u001b[0m \u001b[0mKeyError\u001b[0m \u001b[0;32mas\u001b[0m \u001b[0merr\u001b[0m\u001b[0;34m:\u001b[0m\u001b[0;34m\u001b[0m\u001b[0;34m\u001b[0m\u001b[0m\n",
            "\u001b[0;32mpandas/_libs/index.pyx\u001b[0m in \u001b[0;36mpandas._libs.index.IndexEngine.get_loc\u001b[0;34m()\u001b[0m\n",
            "\u001b[0;32mpandas/_libs/index.pyx\u001b[0m in \u001b[0;36mpandas._libs.index.IndexEngine.get_loc\u001b[0;34m()\u001b[0m\n",
            "\u001b[0;32mpandas/_libs/hashtable_class_helper.pxi\u001b[0m in \u001b[0;36mpandas._libs.hashtable.Int64HashTable.get_item\u001b[0;34m()\u001b[0m\n",
            "\u001b[0;32mpandas/_libs/hashtable_class_helper.pxi\u001b[0m in \u001b[0;36mpandas._libs.hashtable.Int64HashTable.get_item\u001b[0;34m()\u001b[0m\n",
            "\u001b[0;31mKeyError\u001b[0m: 2013",
            "\nThe above exception was the direct cause of the following exception:\n",
            "\u001b[0;31mKeyError\u001b[0m                                  Traceback (most recent call last)",
            "\u001b[0;32mpandas/_libs/index.pyx\u001b[0m in \u001b[0;36mpandas._libs.index.BaseMultiIndexCodesEngine.get_loc\u001b[0;34m()\u001b[0m\n",
            "\u001b[0;32m/usr/local/lib/python3.7/dist-packages/pandas/core/indexes/base.py\u001b[0m in \u001b[0;36mget_loc\u001b[0;34m(self, key, method, tolerance)\u001b[0m\n\u001b[1;32m   2899\u001b[0m             \u001b[0;32mexcept\u001b[0m \u001b[0mKeyError\u001b[0m \u001b[0;32mas\u001b[0m \u001b[0merr\u001b[0m\u001b[0;34m:\u001b[0m\u001b[0;34m\u001b[0m\u001b[0;34m\u001b[0m\u001b[0m\n\u001b[0;32m-> 2900\u001b[0;31m                 \u001b[0;32mraise\u001b[0m \u001b[0mKeyError\u001b[0m\u001b[0;34m(\u001b[0m\u001b[0mkey\u001b[0m\u001b[0;34m)\u001b[0m \u001b[0;32mfrom\u001b[0m \u001b[0merr\u001b[0m\u001b[0;34m\u001b[0m\u001b[0;34m\u001b[0m\u001b[0m\n\u001b[0m\u001b[1;32m   2901\u001b[0m \u001b[0;34m\u001b[0m\u001b[0m\n",
            "\u001b[0;31mKeyError\u001b[0m: 2013",
            "\nDuring handling of the above exception, another exception occurred:\n",
            "\u001b[0;31mKeyError\u001b[0m                                  Traceback (most recent call last)",
            "\u001b[0;32m<ipython-input-13-931fa33da88e>\u001b[0m in \u001b[0;36m<module>\u001b[0;34m()\u001b[0m\n\u001b[0;32m----> 1\u001b[0;31m \u001b[0mSales_across_years_monthwise\u001b[0m\u001b[0;34m[\u001b[0m\u001b[0;34m'diff21'\u001b[0m\u001b[0;34m]\u001b[0m\u001b[0;34m=\u001b[0m\u001b[0mSales_across_years_monthwise\u001b[0m\u001b[0;34m[\u001b[0m\u001b[0;34m(\u001b[0m\u001b[0;34m'Sales'\u001b[0m\u001b[0;34m,\u001b[0m \u001b[0;36m2014\u001b[0m\u001b[0;34m)\u001b[0m\u001b[0;34m]\u001b[0m\u001b[0;34m-\u001b[0m\u001b[0mSales_across_years_monthwise\u001b[0m\u001b[0;34m[\u001b[0m\u001b[0;34m(\u001b[0m\u001b[0;34m'Sales'\u001b[0m\u001b[0;34m,\u001b[0m \u001b[0;36m2013\u001b[0m\u001b[0;34m)\u001b[0m\u001b[0;34m]\u001b[0m\u001b[0;34m\u001b[0m\u001b[0;34m\u001b[0m\u001b[0m\n\u001b[0m\u001b[1;32m      2\u001b[0m \u001b[0mSales_across_years_monthwise\u001b[0m\u001b[0;34m[\u001b[0m\u001b[0;34m'diff32'\u001b[0m\u001b[0;34m]\u001b[0m\u001b[0;34m=\u001b[0m\u001b[0mSales_across_years_monthwise\u001b[0m\u001b[0;34m[\u001b[0m\u001b[0;34m(\u001b[0m\u001b[0;34m'Sales'\u001b[0m\u001b[0;34m,\u001b[0m \u001b[0;36m2015\u001b[0m\u001b[0;34m)\u001b[0m\u001b[0;34m]\u001b[0m\u001b[0;34m-\u001b[0m\u001b[0mSales_across_years_monthwise\u001b[0m\u001b[0;34m[\u001b[0m\u001b[0;34m(\u001b[0m\u001b[0;34m'Sales'\u001b[0m\u001b[0;34m,\u001b[0m \u001b[0;36m2014\u001b[0m\u001b[0;34m)\u001b[0m\u001b[0;34m]\u001b[0m\u001b[0;34m\u001b[0m\u001b[0;34m\u001b[0m\u001b[0m\n\u001b[1;32m      3\u001b[0m \u001b[0mSales_across_years_monthwise\u001b[0m\u001b[0;34m[\u001b[0m\u001b[0;34m'diff31'\u001b[0m\u001b[0;34m]\u001b[0m\u001b[0;34m=\u001b[0m\u001b[0mSales_across_years_monthwise\u001b[0m\u001b[0;34m[\u001b[0m\u001b[0;34m(\u001b[0m\u001b[0;34m'Sales'\u001b[0m\u001b[0;34m,\u001b[0m \u001b[0;36m2015\u001b[0m\u001b[0;34m)\u001b[0m\u001b[0;34m]\u001b[0m\u001b[0;34m-\u001b[0m\u001b[0mSales_across_years_monthwise\u001b[0m\u001b[0;34m[\u001b[0m\u001b[0;34m(\u001b[0m\u001b[0;34m'Sales'\u001b[0m\u001b[0;34m,\u001b[0m \u001b[0;36m2013\u001b[0m\u001b[0;34m)\u001b[0m\u001b[0;34m]\u001b[0m\u001b[0;34m\u001b[0m\u001b[0;34m\u001b[0m\u001b[0m\n",
            "\u001b[0;32m/usr/local/lib/python3.7/dist-packages/pandas/core/frame.py\u001b[0m in \u001b[0;36m__getitem__\u001b[0;34m(self, key)\u001b[0m\n\u001b[1;32m   2903\u001b[0m         \u001b[0;32mif\u001b[0m \u001b[0mis_single_key\u001b[0m\u001b[0;34m:\u001b[0m\u001b[0;34m\u001b[0m\u001b[0;34m\u001b[0m\u001b[0m\n\u001b[1;32m   2904\u001b[0m             \u001b[0;32mif\u001b[0m \u001b[0mself\u001b[0m\u001b[0;34m.\u001b[0m\u001b[0mcolumns\u001b[0m\u001b[0;34m.\u001b[0m\u001b[0mnlevels\u001b[0m \u001b[0;34m>\u001b[0m \u001b[0;36m1\u001b[0m\u001b[0;34m:\u001b[0m\u001b[0;34m\u001b[0m\u001b[0;34m\u001b[0m\u001b[0m\n\u001b[0;32m-> 2905\u001b[0;31m                 \u001b[0;32mreturn\u001b[0m \u001b[0mself\u001b[0m\u001b[0;34m.\u001b[0m\u001b[0m_getitem_multilevel\u001b[0m\u001b[0;34m(\u001b[0m\u001b[0mkey\u001b[0m\u001b[0;34m)\u001b[0m\u001b[0;34m\u001b[0m\u001b[0;34m\u001b[0m\u001b[0m\n\u001b[0m\u001b[1;32m   2906\u001b[0m             \u001b[0mindexer\u001b[0m \u001b[0;34m=\u001b[0m \u001b[0mself\u001b[0m\u001b[0;34m.\u001b[0m\u001b[0mcolumns\u001b[0m\u001b[0;34m.\u001b[0m\u001b[0mget_loc\u001b[0m\u001b[0;34m(\u001b[0m\u001b[0mkey\u001b[0m\u001b[0;34m)\u001b[0m\u001b[0;34m\u001b[0m\u001b[0;34m\u001b[0m\u001b[0m\n\u001b[1;32m   2907\u001b[0m             \u001b[0;32mif\u001b[0m \u001b[0mis_integer\u001b[0m\u001b[0;34m(\u001b[0m\u001b[0mindexer\u001b[0m\u001b[0;34m)\u001b[0m\u001b[0;34m:\u001b[0m\u001b[0;34m\u001b[0m\u001b[0;34m\u001b[0m\u001b[0m\n",
            "\u001b[0;32m/usr/local/lib/python3.7/dist-packages/pandas/core/frame.py\u001b[0m in \u001b[0;36m_getitem_multilevel\u001b[0;34m(self, key)\u001b[0m\n\u001b[1;32m   2953\u001b[0m     \u001b[0;32mdef\u001b[0m \u001b[0m_getitem_multilevel\u001b[0m\u001b[0;34m(\u001b[0m\u001b[0mself\u001b[0m\u001b[0;34m,\u001b[0m \u001b[0mkey\u001b[0m\u001b[0;34m)\u001b[0m\u001b[0;34m:\u001b[0m\u001b[0;34m\u001b[0m\u001b[0;34m\u001b[0m\u001b[0m\n\u001b[1;32m   2954\u001b[0m         \u001b[0;31m# self.columns is a MultiIndex\u001b[0m\u001b[0;34m\u001b[0m\u001b[0;34m\u001b[0m\u001b[0;34m\u001b[0m\u001b[0m\n\u001b[0;32m-> 2955\u001b[0;31m         \u001b[0mloc\u001b[0m \u001b[0;34m=\u001b[0m \u001b[0mself\u001b[0m\u001b[0;34m.\u001b[0m\u001b[0mcolumns\u001b[0m\u001b[0;34m.\u001b[0m\u001b[0mget_loc\u001b[0m\u001b[0;34m(\u001b[0m\u001b[0mkey\u001b[0m\u001b[0;34m)\u001b[0m\u001b[0;34m\u001b[0m\u001b[0;34m\u001b[0m\u001b[0m\n\u001b[0m\u001b[1;32m   2956\u001b[0m         \u001b[0;32mif\u001b[0m \u001b[0misinstance\u001b[0m\u001b[0;34m(\u001b[0m\u001b[0mloc\u001b[0m\u001b[0;34m,\u001b[0m \u001b[0;34m(\u001b[0m\u001b[0mslice\u001b[0m\u001b[0;34m,\u001b[0m \u001b[0mnp\u001b[0m\u001b[0;34m.\u001b[0m\u001b[0mndarray\u001b[0m\u001b[0;34m)\u001b[0m\u001b[0;34m)\u001b[0m\u001b[0;34m:\u001b[0m\u001b[0;34m\u001b[0m\u001b[0;34m\u001b[0m\u001b[0m\n\u001b[1;32m   2957\u001b[0m             \u001b[0mnew_columns\u001b[0m \u001b[0;34m=\u001b[0m \u001b[0mself\u001b[0m\u001b[0;34m.\u001b[0m\u001b[0mcolumns\u001b[0m\u001b[0;34m[\u001b[0m\u001b[0mloc\u001b[0m\u001b[0;34m]\u001b[0m\u001b[0;34m\u001b[0m\u001b[0;34m\u001b[0m\u001b[0m\n",
            "\u001b[0;32m/usr/local/lib/python3.7/dist-packages/pandas/core/indexes/multi.py\u001b[0m in \u001b[0;36mget_loc\u001b[0;34m(self, key, method)\u001b[0m\n\u001b[1;32m   2712\u001b[0m \u001b[0;34m\u001b[0m\u001b[0m\n\u001b[1;32m   2713\u001b[0m         \u001b[0;32mif\u001b[0m \u001b[0mkeylen\u001b[0m \u001b[0;34m==\u001b[0m \u001b[0mself\u001b[0m\u001b[0;34m.\u001b[0m\u001b[0mnlevels\u001b[0m \u001b[0;32mand\u001b[0m \u001b[0mself\u001b[0m\u001b[0;34m.\u001b[0m\u001b[0mis_unique\u001b[0m\u001b[0;34m:\u001b[0m\u001b[0;34m\u001b[0m\u001b[0;34m\u001b[0m\u001b[0m\n\u001b[0;32m-> 2714\u001b[0;31m             \u001b[0;32mreturn\u001b[0m \u001b[0mself\u001b[0m\u001b[0;34m.\u001b[0m\u001b[0m_engine\u001b[0m\u001b[0;34m.\u001b[0m\u001b[0mget_loc\u001b[0m\u001b[0;34m(\u001b[0m\u001b[0mkey\u001b[0m\u001b[0;34m)\u001b[0m\u001b[0;34m\u001b[0m\u001b[0;34m\u001b[0m\u001b[0m\n\u001b[0m\u001b[1;32m   2715\u001b[0m \u001b[0;34m\u001b[0m\u001b[0m\n\u001b[1;32m   2716\u001b[0m         \u001b[0;31m# -- partial selection or non-unique index\u001b[0m\u001b[0;34m\u001b[0m\u001b[0;34m\u001b[0m\u001b[0;34m\u001b[0m\u001b[0m\n",
            "\u001b[0;32mpandas/_libs/index.pyx\u001b[0m in \u001b[0;36mpandas._libs.index.BaseMultiIndexCodesEngine.get_loc\u001b[0;34m()\u001b[0m\n",
            "\u001b[0;31mKeyError\u001b[0m: ('Sales', 2013)"
          ]
        }
      ]
    },
    {
      "cell_type": "code",
      "metadata": {
        "id": "YqEIGJHXJhRR",
        "colab": {
          "base_uri": "https://localhost:8080/",
          "height": 357
        },
        "outputId": "58f13e1b-be9a-412e-a654-a9ecb27d473a"
      },
      "source": [
        "Sales_across_years_monthwise"
      ],
      "execution_count": 14,
      "outputs": [
        {
          "output_type": "execute_result",
          "data": {
            "text/html": [
              "<div>\n",
              "<style scoped>\n",
              "    .dataframe tbody tr th:only-of-type {\n",
              "        vertical-align: middle;\n",
              "    }\n",
              "\n",
              "    .dataframe tbody tr th {\n",
              "        vertical-align: top;\n",
              "    }\n",
              "\n",
              "    .dataframe thead tr th {\n",
              "        text-align: left;\n",
              "    }\n",
              "\n",
              "    .dataframe thead tr:last-of-type th {\n",
              "        text-align: right;\n",
              "    }\n",
              "</style>\n",
              "<table border=\"1\" class=\"dataframe\">\n",
              "  <thead>\n",
              "    <tr>\n",
              "      <th></th>\n",
              "      <th colspan=\"2\" halign=\"left\">Sales</th>\n",
              "    </tr>\n",
              "    <tr>\n",
              "      <th>Year</th>\n",
              "      <th>2014</th>\n",
              "      <th>2015</th>\n",
              "    </tr>\n",
              "    <tr>\n",
              "      <th>Month</th>\n",
              "      <th></th>\n",
              "      <th></th>\n",
              "    </tr>\n",
              "  </thead>\n",
              "  <tbody>\n",
              "    <tr>\n",
              "      <th>1</th>\n",
              "      <td>0</td>\n",
              "      <td>198843730</td>\n",
              "    </tr>\n",
              "    <tr>\n",
              "      <th>2</th>\n",
              "      <td>0</td>\n",
              "      <td>178275458</td>\n",
              "    </tr>\n",
              "    <tr>\n",
              "      <th>3</th>\n",
              "      <td>0</td>\n",
              "      <td>205631683</td>\n",
              "    </tr>\n",
              "    <tr>\n",
              "      <th>4</th>\n",
              "      <td>0</td>\n",
              "      <td>197918886</td>\n",
              "    </tr>\n",
              "    <tr>\n",
              "      <th>5</th>\n",
              "      <td>0</td>\n",
              "      <td>189143897</td>\n",
              "    </tr>\n",
              "    <tr>\n",
              "      <th>6</th>\n",
              "      <td>0</td>\n",
              "      <td>207363373</td>\n",
              "    </tr>\n",
              "    <tr>\n",
              "      <th>7</th>\n",
              "      <td>0</td>\n",
              "      <td>212322616</td>\n",
              "    </tr>\n",
              "    <tr>\n",
              "      <th>12</th>\n",
              "      <td>111254415</td>\n",
              "      <td>0</td>\n",
              "    </tr>\n",
              "  </tbody>\n",
              "</table>\n",
              "</div>"
            ],
            "text/plain": [
              "           Sales           \n",
              "Year        2014       2015\n",
              "Month                      \n",
              "1              0  198843730\n",
              "2              0  178275458\n",
              "3              0  205631683\n",
              "4              0  197918886\n",
              "5              0  189143897\n",
              "6              0  207363373\n",
              "7              0  212322616\n",
              "12     111254415          0"
            ]
          },
          "metadata": {},
          "execution_count": 14
        }
      ]
    },
    {
      "cell_type": "code",
      "metadata": {
        "id": "QtqSYSCy7u29",
        "colab": {
          "base_uri": "https://localhost:8080/"
        },
        "outputId": "04b1614c-19fe-4d0b-8efc-2a0a3bdfda6c"
      },
      "source": [
        "df_date_sorted_agg=store_data.copy().sort_values(['Date']).groupby('Date')['Sales'].sum()\n",
        "df_date_sorted_agg"
      ],
      "execution_count": 15,
      "outputs": [
        {
          "output_type": "execute_result",
          "data": {
            "text/plain": [
              "Date\n",
              "2014-12-14           0\n",
              "2014-12-15    12133381\n",
              "2014-12-16    10621060\n",
              "2014-12-17     9483386\n",
              "2014-12-18     9808212\n",
              "                ...   \n",
              "2015-07-27    10707292\n",
              "2015-07-28     9115073\n",
              "2015-07-29     8499962\n",
              "2015-07-30     8798854\n",
              "2015-07-31    10109742\n",
              "Name: Sales, Length: 230, dtype: int64"
            ]
          },
          "metadata": {},
          "execution_count": 15
        }
      ]
    },
    {
      "cell_type": "code",
      "metadata": {
        "id": "bf99NqkU1uB9",
        "colab": {
          "base_uri": "https://localhost:8080/"
        },
        "outputId": "1cd3423f-dd24-4401-ed2f-b984b7bd71df"
      },
      "source": [
        "stores.shape"
      ],
      "execution_count": 16,
      "outputs": [
        {
          "output_type": "execute_result",
          "data": {
            "text/plain": [
              "(1115, 10)"
            ]
          },
          "metadata": {},
          "execution_count": 16
        }
      ]
    },
    {
      "cell_type": "code",
      "metadata": {
        "id": "rqHZrvtK1hzb",
        "colab": {
          "base_uri": "https://localhost:8080/"
        },
        "outputId": "201fac3a-2642-497e-f2c4-da74883e410d"
      },
      "source": [
        "stores.isna().sum()"
      ],
      "execution_count": 17,
      "outputs": [
        {
          "output_type": "execute_result",
          "data": {
            "text/plain": [
              "Store                          0\n",
              "StoreType                      0\n",
              "Assortment                     0\n",
              "CompetitionDistance            3\n",
              "CompetitionOpenSinceMonth    354\n",
              "CompetitionOpenSinceYear     354\n",
              "Promo2                         0\n",
              "Promo2SinceWeek              544\n",
              "Promo2SinceYear              544\n",
              "PromoInterval                544\n",
              "dtype: int64"
            ]
          },
          "metadata": {},
          "execution_count": 17
        }
      ]
    },
    {
      "cell_type": "code",
      "metadata": {
        "id": "EPmPdxKyLdmz",
        "colab": {
          "base_uri": "https://localhost:8080/"
        },
        "outputId": "c7d6b2d8-f528-402a-a7ed-249ea4f65adf"
      },
      "source": [
        "stores[(stores['Promo2']==0) & (stores['Promo2SinceWeek'].isna())].shape"
      ],
      "execution_count": 18,
      "outputs": [
        {
          "output_type": "execute_result",
          "data": {
            "text/plain": [
              "(544, 10)"
            ]
          },
          "metadata": {},
          "execution_count": 18
        }
      ]
    },
    {
      "cell_type": "code",
      "metadata": {
        "id": "sLzNBeCFMSe4",
        "colab": {
          "base_uri": "https://localhost:8080/"
        },
        "outputId": "e259310e-42e2-463d-d743-05d6a2b653fd"
      },
      "source": [
        "stores[stores['CompetitionOpenSinceMonth'].isna()]['Store'].nunique()"
      ],
      "execution_count": 19,
      "outputs": [
        {
          "output_type": "execute_result",
          "data": {
            "text/plain": [
              "354"
            ]
          },
          "metadata": {},
          "execution_count": 19
        }
      ]
    },
    {
      "cell_type": "code",
      "metadata": {
        "id": "UuazJsYzEYLt"
      },
      "source": [
        "## Wherever Promo2 ie continuing and consecutive promotion is zero, implies store didn't participate,\n",
        "# hence Promo2SinceWeek and Promo2SinceYear should be zero, also there won't be PromoInterval\n",
        "stores.loc[(stores['Promo2']==0) & (stores['Promo2SinceWeek'].isna()),['Promo2SinceWeek']]=0\n",
        "stores.loc[(stores['Promo2']==0) & (stores['Promo2SinceYear'].isna()),['Promo2SinceYear','PromoInterval']]=0"
      ],
      "execution_count": 20,
      "outputs": []
    },
    {
      "cell_type": "code",
      "metadata": {
        "id": "YnyJx_pPAA5O"
      },
      "source": [
        "#Impute CompetitionDistance with max distance\n",
        "\n",
        "stores.loc[stores['CompetitionDistance'].isna()]=stores['CompetitionDistance'].max()"
      ],
      "execution_count": 21,
      "outputs": []
    },
    {
      "cell_type": "code",
      "metadata": {
        "id": "9wyUxGq36Nmu",
        "colab": {
          "base_uri": "https://localhost:8080/"
        },
        "outputId": "5917bc10-bb9b-40ee-b35f-dcdba1b8bcdd"
      },
      "source": [
        "stores.isna().sum()"
      ],
      "execution_count": 22,
      "outputs": [
        {
          "output_type": "execute_result",
          "data": {
            "text/plain": [
              "Store                          0\n",
              "StoreType                      0\n",
              "Assortment                     0\n",
              "CompetitionDistance            0\n",
              "CompetitionOpenSinceMonth    351\n",
              "CompetitionOpenSinceYear     351\n",
              "Promo2                         0\n",
              "Promo2SinceWeek                0\n",
              "Promo2SinceYear                0\n",
              "PromoInterval                  0\n",
              "dtype: int64"
            ]
          },
          "metadata": {},
          "execution_count": 22
        }
      ]
    },
    {
      "cell_type": "code",
      "metadata": {
        "id": "jtBqXR3O6ybV"
      },
      "source": [
        "#stores[stores['Promo2SinceYear']!=0]['Promo2SinceYear'].describe()"
      ],
      "execution_count": 23,
      "outputs": []
    },
    {
      "cell_type": "code",
      "metadata": {
        "id": "0ZqwukEo7ecO",
        "colab": {
          "base_uri": "https://localhost:8080/"
        },
        "outputId": "6cee322b-123c-46c6-9b6b-7059d99f9afc"
      },
      "source": [
        "## Check the CompetitionOpenSinceYear year range\n",
        "stores['CompetitionOpenSinceYear'].describe()"
      ],
      "execution_count": 24,
      "outputs": [
        {
          "output_type": "execute_result",
          "data": {
            "text/plain": [
              "count      764.000000\n",
              "mean      2298.660995\n",
              "std       4621.710349\n",
              "min       1900.000000\n",
              "25%       2006.000000\n",
              "50%       2010.000000\n",
              "75%       2013.000000\n",
              "max      75860.000000\n",
              "Name: CompetitionOpenSinceYear, dtype: float64"
            ]
          },
          "metadata": {},
          "execution_count": 24
        }
      ]
    },
    {
      "cell_type": "code",
      "metadata": {
        "id": "fLOgOrIm30fi"
      },
      "source": [
        "#stores[~stores['CompetitionOpenSinceYear'].isin([1900,1961])]['CompetitionOpenSinceYear'].min()"
      ],
      "execution_count": 25,
      "outputs": []
    },
    {
      "cell_type": "code",
      "metadata": {
        "id": "y8n-QPqj2wba",
        "colab": {
          "base_uri": "https://localhost:8080/"
        },
        "outputId": "a9bfb389-919e-411a-dbc3-9d70fd43e659"
      },
      "source": [
        "## This is the day since when we have the sales data\n",
        "store_data['Date'].min()"
      ],
      "execution_count": 26,
      "outputs": [
        {
          "output_type": "execute_result",
          "data": {
            "text/plain": [
              "Timestamp('2014-12-14 00:00:00')"
            ]
          },
          "metadata": {},
          "execution_count": 26
        }
      ]
    },
    {
      "cell_type": "code",
      "metadata": {
        "id": "rJjHmouO3pxk",
        "colab": {
          "base_uri": "https://localhost:8080/"
        },
        "outputId": "a9613599-cfbc-4724-fc8b-ab7f99d865a3"
      },
      "source": [
        "stores[stores['Promo2SinceYear']!=0]['Promo2SinceYear'].min()"
      ],
      "execution_count": 27,
      "outputs": [
        {
          "output_type": "execute_result",
          "data": {
            "text/plain": [
              "2009.0"
            ]
          },
          "metadata": {},
          "execution_count": 27
        }
      ]
    },
    {
      "cell_type": "code",
      "metadata": {
        "id": "Up5hxd21aahF"
      },
      "source": [
        "#### calculate difference in number of days for competion and promo\n",
        "## Function to change data format\n",
        "def competition_open_yr_mnth(cols):\n",
        "  try:\n",
        "    year, month = int(cols[0]), int(cols[1])\n",
        "    date = pd.to_datetime(\"{}-{}-01\".format(year, month), format='%Y-%m')\n",
        "    return date\n",
        "  except:\n",
        "    return '1813-01-01'  ## Dummy date to identify this data and do transformation afterwards\n",
        "\n",
        "stores['CompetitionOpen']=stores[['CompetitionOpenSinceYear','CompetitionOpenSinceMonth']].apply(competition_open_yr_mnth,axis=1)\n",
        "stores['CompetitionOpen']= stores['CompetitionOpen'].dt.strftime('%Y-%m-%d')\n",
        "stores['CompetitionOpen']= pd.to_datetime(stores['CompetitionOpen'])\n",
        "\n",
        "\n",
        "\n",
        "\n",
        "def promo_yr_wk(cols):\n",
        "  try:\n",
        "    year, week = int(cols[1]), int(cols[0])\n",
        "    date = pd.to_datetime(\"{}{}0\".format(year, week), format='%Y%W%w')\n",
        "    return date\n",
        "  except:\n",
        "    return '1909-01-01' ## dummy date\n",
        "\n",
        "\n",
        "stores['promoYearWeek'] =stores[['Promo2SinceWeek', 'Promo2SinceYear']].apply(promo_yr_wk,axis=1)\n",
        "stores['promoYearWeek'] = stores['promoYearWeek'].dt.strftime('%Y%m%d')\n",
        "stores['promoYearWeek']= pd.to_datetime(stores['promoYearWeek'])"
      ],
      "execution_count": 28,
      "outputs": []
    },
    {
      "cell_type": "code",
      "metadata": {
        "id": "_Y_I3sxHjPXS",
        "colab": {
          "base_uri": "https://localhost:8080/",
          "height": 223
        },
        "outputId": "b0cc0269-dc6d-403e-c22f-b6b746a1b6fa"
      },
      "source": [
        "stores.head()"
      ],
      "execution_count": 29,
      "outputs": [
        {
          "output_type": "execute_result",
          "data": {
            "text/html": [
              "<div>\n",
              "<style scoped>\n",
              "    .dataframe tbody tr th:only-of-type {\n",
              "        vertical-align: middle;\n",
              "    }\n",
              "\n",
              "    .dataframe tbody tr th {\n",
              "        vertical-align: top;\n",
              "    }\n",
              "\n",
              "    .dataframe thead th {\n",
              "        text-align: right;\n",
              "    }\n",
              "</style>\n",
              "<table border=\"1\" class=\"dataframe\">\n",
              "  <thead>\n",
              "    <tr style=\"text-align: right;\">\n",
              "      <th></th>\n",
              "      <th>Store</th>\n",
              "      <th>StoreType</th>\n",
              "      <th>Assortment</th>\n",
              "      <th>CompetitionDistance</th>\n",
              "      <th>CompetitionOpenSinceMonth</th>\n",
              "      <th>CompetitionOpenSinceYear</th>\n",
              "      <th>Promo2</th>\n",
              "      <th>Promo2SinceWeek</th>\n",
              "      <th>Promo2SinceYear</th>\n",
              "      <th>PromoInterval</th>\n",
              "      <th>CompetitionOpen</th>\n",
              "      <th>promoYearWeek</th>\n",
              "    </tr>\n",
              "  </thead>\n",
              "  <tbody>\n",
              "    <tr>\n",
              "      <th>0</th>\n",
              "      <td>1</td>\n",
              "      <td>c</td>\n",
              "      <td>a</td>\n",
              "      <td>1270.0</td>\n",
              "      <td>9.0</td>\n",
              "      <td>2008.0</td>\n",
              "      <td>0</td>\n",
              "      <td>0.0</td>\n",
              "      <td>0.0</td>\n",
              "      <td>0</td>\n",
              "      <td>2008-09-01</td>\n",
              "      <td>1909-01-01</td>\n",
              "    </tr>\n",
              "    <tr>\n",
              "      <th>1</th>\n",
              "      <td>2</td>\n",
              "      <td>a</td>\n",
              "      <td>a</td>\n",
              "      <td>570.0</td>\n",
              "      <td>11.0</td>\n",
              "      <td>2007.0</td>\n",
              "      <td>1</td>\n",
              "      <td>13.0</td>\n",
              "      <td>2010.0</td>\n",
              "      <td>Jan,Apr,Jul,Oct</td>\n",
              "      <td>2007-11-01</td>\n",
              "      <td>2010-04-04</td>\n",
              "    </tr>\n",
              "    <tr>\n",
              "      <th>2</th>\n",
              "      <td>3</td>\n",
              "      <td>a</td>\n",
              "      <td>a</td>\n",
              "      <td>14130.0</td>\n",
              "      <td>12.0</td>\n",
              "      <td>2006.0</td>\n",
              "      <td>1</td>\n",
              "      <td>14.0</td>\n",
              "      <td>2011.0</td>\n",
              "      <td>Jan,Apr,Jul,Oct</td>\n",
              "      <td>2006-12-01</td>\n",
              "      <td>2011-04-10</td>\n",
              "    </tr>\n",
              "    <tr>\n",
              "      <th>3</th>\n",
              "      <td>4</td>\n",
              "      <td>c</td>\n",
              "      <td>c</td>\n",
              "      <td>620.0</td>\n",
              "      <td>9.0</td>\n",
              "      <td>2009.0</td>\n",
              "      <td>0</td>\n",
              "      <td>0.0</td>\n",
              "      <td>0.0</td>\n",
              "      <td>0</td>\n",
              "      <td>2009-09-01</td>\n",
              "      <td>1909-01-01</td>\n",
              "    </tr>\n",
              "    <tr>\n",
              "      <th>4</th>\n",
              "      <td>5</td>\n",
              "      <td>a</td>\n",
              "      <td>a</td>\n",
              "      <td>29910.0</td>\n",
              "      <td>4.0</td>\n",
              "      <td>2015.0</td>\n",
              "      <td>0</td>\n",
              "      <td>0.0</td>\n",
              "      <td>0.0</td>\n",
              "      <td>0</td>\n",
              "      <td>2015-04-01</td>\n",
              "      <td>1909-01-01</td>\n",
              "    </tr>\n",
              "  </tbody>\n",
              "</table>\n",
              "</div>"
            ],
            "text/plain": [
              "   Store StoreType Assortment  ...    PromoInterval  CompetitionOpen  promoYearWeek\n",
              "0      1         c          a  ...                0       2008-09-01     1909-01-01\n",
              "1      2         a          a  ...  Jan,Apr,Jul,Oct       2007-11-01     2010-04-04\n",
              "2      3         a          a  ...  Jan,Apr,Jul,Oct       2006-12-01     2011-04-10\n",
              "3      4         c          c  ...                0       2009-09-01     1909-01-01\n",
              "4      5         a          a  ...                0       2015-04-01     1909-01-01\n",
              "\n",
              "[5 rows x 12 columns]"
            ]
          },
          "metadata": {},
          "execution_count": 29
        }
      ]
    },
    {
      "cell_type": "code",
      "metadata": {
        "id": "8c46KtSCWhuW"
      },
      "source": [
        "#stores['CompetitionOpen'].astype(int).describe()"
      ],
      "execution_count": 30,
      "outputs": []
    },
    {
      "cell_type": "code",
      "metadata": {
        "id": "PST_x7vjLgTK",
        "colab": {
          "base_uri": "https://localhost:8080/",
          "height": 223
        },
        "outputId": "97f9d446-ea3c-40c5-9795-6bd1367e4a07"
      },
      "source": [
        "stores.head()"
      ],
      "execution_count": 31,
      "outputs": [
        {
          "output_type": "execute_result",
          "data": {
            "text/html": [
              "<div>\n",
              "<style scoped>\n",
              "    .dataframe tbody tr th:only-of-type {\n",
              "        vertical-align: middle;\n",
              "    }\n",
              "\n",
              "    .dataframe tbody tr th {\n",
              "        vertical-align: top;\n",
              "    }\n",
              "\n",
              "    .dataframe thead th {\n",
              "        text-align: right;\n",
              "    }\n",
              "</style>\n",
              "<table border=\"1\" class=\"dataframe\">\n",
              "  <thead>\n",
              "    <tr style=\"text-align: right;\">\n",
              "      <th></th>\n",
              "      <th>Store</th>\n",
              "      <th>StoreType</th>\n",
              "      <th>Assortment</th>\n",
              "      <th>CompetitionDistance</th>\n",
              "      <th>CompetitionOpenSinceMonth</th>\n",
              "      <th>CompetitionOpenSinceYear</th>\n",
              "      <th>Promo2</th>\n",
              "      <th>Promo2SinceWeek</th>\n",
              "      <th>Promo2SinceYear</th>\n",
              "      <th>PromoInterval</th>\n",
              "      <th>CompetitionOpen</th>\n",
              "      <th>promoYearWeek</th>\n",
              "    </tr>\n",
              "  </thead>\n",
              "  <tbody>\n",
              "    <tr>\n",
              "      <th>0</th>\n",
              "      <td>1</td>\n",
              "      <td>c</td>\n",
              "      <td>a</td>\n",
              "      <td>1270.0</td>\n",
              "      <td>9.0</td>\n",
              "      <td>2008.0</td>\n",
              "      <td>0</td>\n",
              "      <td>0.0</td>\n",
              "      <td>0.0</td>\n",
              "      <td>0</td>\n",
              "      <td>2008-09-01</td>\n",
              "      <td>1909-01-01</td>\n",
              "    </tr>\n",
              "    <tr>\n",
              "      <th>1</th>\n",
              "      <td>2</td>\n",
              "      <td>a</td>\n",
              "      <td>a</td>\n",
              "      <td>570.0</td>\n",
              "      <td>11.0</td>\n",
              "      <td>2007.0</td>\n",
              "      <td>1</td>\n",
              "      <td>13.0</td>\n",
              "      <td>2010.0</td>\n",
              "      <td>Jan,Apr,Jul,Oct</td>\n",
              "      <td>2007-11-01</td>\n",
              "      <td>2010-04-04</td>\n",
              "    </tr>\n",
              "    <tr>\n",
              "      <th>2</th>\n",
              "      <td>3</td>\n",
              "      <td>a</td>\n",
              "      <td>a</td>\n",
              "      <td>14130.0</td>\n",
              "      <td>12.0</td>\n",
              "      <td>2006.0</td>\n",
              "      <td>1</td>\n",
              "      <td>14.0</td>\n",
              "      <td>2011.0</td>\n",
              "      <td>Jan,Apr,Jul,Oct</td>\n",
              "      <td>2006-12-01</td>\n",
              "      <td>2011-04-10</td>\n",
              "    </tr>\n",
              "    <tr>\n",
              "      <th>3</th>\n",
              "      <td>4</td>\n",
              "      <td>c</td>\n",
              "      <td>c</td>\n",
              "      <td>620.0</td>\n",
              "      <td>9.0</td>\n",
              "      <td>2009.0</td>\n",
              "      <td>0</td>\n",
              "      <td>0.0</td>\n",
              "      <td>0.0</td>\n",
              "      <td>0</td>\n",
              "      <td>2009-09-01</td>\n",
              "      <td>1909-01-01</td>\n",
              "    </tr>\n",
              "    <tr>\n",
              "      <th>4</th>\n",
              "      <td>5</td>\n",
              "      <td>a</td>\n",
              "      <td>a</td>\n",
              "      <td>29910.0</td>\n",
              "      <td>4.0</td>\n",
              "      <td>2015.0</td>\n",
              "      <td>0</td>\n",
              "      <td>0.0</td>\n",
              "      <td>0.0</td>\n",
              "      <td>0</td>\n",
              "      <td>2015-04-01</td>\n",
              "      <td>1909-01-01</td>\n",
              "    </tr>\n",
              "  </tbody>\n",
              "</table>\n",
              "</div>"
            ],
            "text/plain": [
              "   Store StoreType Assortment  ...    PromoInterval  CompetitionOpen  promoYearWeek\n",
              "0      1         c          a  ...                0       2008-09-01     1909-01-01\n",
              "1      2         a          a  ...  Jan,Apr,Jul,Oct       2007-11-01     2010-04-04\n",
              "2      3         a          a  ...  Jan,Apr,Jul,Oct       2006-12-01     2011-04-10\n",
              "3      4         c          c  ...                0       2009-09-01     1909-01-01\n",
              "4      5         a          a  ...                0       2015-04-01     1909-01-01\n",
              "\n",
              "[5 rows x 12 columns]"
            ]
          },
          "metadata": {},
          "execution_count": 31
        }
      ]
    },
    {
      "cell_type": "code",
      "metadata": {
        "id": "gwAfBVW5IHmD"
      },
      "source": [
        "## Check the CompetitionOpenSinceMonth values\n",
        "#stores['CompetitionOpenSinceMonth'].describe() ## 1 to 12\n",
        "#stores[stores['CompetitionOpenSinceMonth']<=3]"
      ],
      "execution_count": 32,
      "outputs": []
    },
    {
      "cell_type": "code",
      "metadata": {
        "id": "OtrewREeH5s2"
      },
      "source": [
        "#stores[stores['CompetitionOpenSinceYear']==1900]"
      ],
      "execution_count": 33,
      "outputs": []
    },
    {
      "cell_type": "code",
      "metadata": {
        "id": "FcmGPx-z6q3O"
      },
      "source": [
        "## For interval, will think afterwards\n",
        "#join_with = stores['PromoInterval'].str.split(',').apply(pd.Series)\n",
        "#join_with.columns = join_with.columns.map(lambda x: str(x) + '_PromoInterval')"
      ],
      "execution_count": 34,
      "outputs": []
    },
    {
      "cell_type": "code",
      "metadata": {
        "id": "7BvdzCTgpsDp",
        "colab": {
          "base_uri": "https://localhost:8080/"
        },
        "outputId": "cc11e5e1-a581-4b7a-a38d-f5d541773048"
      },
      "source": [
        "store_data.info()"
      ],
      "execution_count": 35,
      "outputs": [
        {
          "output_type": "stream",
          "name": "stdout",
          "text": [
            "<class 'pandas.core.frame.DataFrame'>\n",
            "RangeIndex: 252322 entries, 0 to 252321\n",
            "Data columns (total 11 columns):\n",
            " #   Column         Non-Null Count   Dtype         \n",
            "---  ------         --------------   -----         \n",
            " 0   Store          252322 non-null  int64         \n",
            " 1   DayOfWeek      252322 non-null  int64         \n",
            " 2   Date           252322 non-null  datetime64[ns]\n",
            " 3   Sales          252322 non-null  int64         \n",
            " 4   Customers      252321 non-null  float64       \n",
            " 5   Open           252321 non-null  float64       \n",
            " 6   Promo          252321 non-null  float64       \n",
            " 7   StateHoliday   252321 non-null  object        \n",
            " 8   SchoolHoliday  252321 non-null  float64       \n",
            " 9   Year           252322 non-null  int64         \n",
            " 10  Month          252322 non-null  int64         \n",
            "dtypes: datetime64[ns](1), float64(4), int64(5), object(1)\n",
            "memory usage: 21.2+ MB\n"
          ]
        }
      ]
    },
    {
      "cell_type": "code",
      "metadata": {
        "id": "_y0s7hFI3Z68"
      },
      "source": [
        "store_data_merged=pd.merge(store_data,stores,on='Store')"
      ],
      "execution_count": 36,
      "outputs": []
    },
    {
      "cell_type": "code",
      "metadata": {
        "id": "kqbhjKGg_U2l"
      },
      "source": [
        "## Calculate the number of days since when the promo started\n",
        "store_data_merged['day_diff_comp']=(store_data_merged['Date']-store_data_merged['CompetitionOpen']).dt.days\n",
        "store_data_merged['day_diff_promo']=(store_data_merged['Date']-store_data_merged['promoYearWeek']).dt.days\n",
        "\n",
        "## Identifying the data based on teh dummy dates and changing them to zero\n",
        "store_data_merged.loc[store_data_merged['day_diff_comp']>=73000,'day_diff_comp']=0\n",
        "store_data_merged.loc[store_data_merged['day_diff_promo']>=36500,'day_diff_promo']=0"
      ],
      "execution_count": 37,
      "outputs": []
    },
    {
      "cell_type": "code",
      "metadata": {
        "id": "Pr_XrKm3NcaD"
      },
      "source": [
        "## Sort data in ascending order of date\n",
        "store_data_merged=store_data_merged.sort_values(['Date']).reset_index()"
      ],
      "execution_count": 38,
      "outputs": []
    },
    {
      "cell_type": "code",
      "metadata": {
        "id": "1RFr28N8NcWp",
        "colab": {
          "base_uri": "https://localhost:8080/",
          "height": 307
        },
        "outputId": "5d34b09e-a7cc-4607-8e67-e86ac6bdb141"
      },
      "source": [
        "store_data_merged.head()"
      ],
      "execution_count": 39,
      "outputs": [
        {
          "output_type": "execute_result",
          "data": {
            "text/html": [
              "<div>\n",
              "<style scoped>\n",
              "    .dataframe tbody tr th:only-of-type {\n",
              "        vertical-align: middle;\n",
              "    }\n",
              "\n",
              "    .dataframe tbody tr th {\n",
              "        vertical-align: top;\n",
              "    }\n",
              "\n",
              "    .dataframe thead th {\n",
              "        text-align: right;\n",
              "    }\n",
              "</style>\n",
              "<table border=\"1\" class=\"dataframe\">\n",
              "  <thead>\n",
              "    <tr style=\"text-align: right;\">\n",
              "      <th></th>\n",
              "      <th>index</th>\n",
              "      <th>Store</th>\n",
              "      <th>DayOfWeek</th>\n",
              "      <th>Date</th>\n",
              "      <th>Sales</th>\n",
              "      <th>Customers</th>\n",
              "      <th>Open</th>\n",
              "      <th>Promo</th>\n",
              "      <th>StateHoliday</th>\n",
              "      <th>SchoolHoliday</th>\n",
              "      <th>Year</th>\n",
              "      <th>Month</th>\n",
              "      <th>StoreType</th>\n",
              "      <th>Assortment</th>\n",
              "      <th>CompetitionDistance</th>\n",
              "      <th>CompetitionOpenSinceMonth</th>\n",
              "      <th>CompetitionOpenSinceYear</th>\n",
              "      <th>Promo2</th>\n",
              "      <th>Promo2SinceWeek</th>\n",
              "      <th>Promo2SinceYear</th>\n",
              "      <th>PromoInterval</th>\n",
              "      <th>CompetitionOpen</th>\n",
              "      <th>promoYearWeek</th>\n",
              "      <th>day_diff_comp</th>\n",
              "      <th>day_diff_promo</th>\n",
              "    </tr>\n",
              "  </thead>\n",
              "  <tbody>\n",
              "    <tr>\n",
              "      <th>0</th>\n",
              "      <td>11373</td>\n",
              "      <td>50</td>\n",
              "      <td>7</td>\n",
              "      <td>2014-12-14</td>\n",
              "      <td>0</td>\n",
              "      <td>0.0</td>\n",
              "      <td>0.0</td>\n",
              "      <td>0.0</td>\n",
              "      <td>0</td>\n",
              "      <td>0.0</td>\n",
              "      <td>2014</td>\n",
              "      <td>12</td>\n",
              "      <td>d</td>\n",
              "      <td>a</td>\n",
              "      <td>6260.0</td>\n",
              "      <td>11.0</td>\n",
              "      <td>2009.0</td>\n",
              "      <td>0</td>\n",
              "      <td>0.0</td>\n",
              "      <td>0.0</td>\n",
              "      <td>0</td>\n",
              "      <td>2009-11-01</td>\n",
              "      <td>1909-01-01</td>\n",
              "      <td>1869</td>\n",
              "      <td>0</td>\n",
              "    </tr>\n",
              "    <tr>\n",
              "      <th>1</th>\n",
              "      <td>6155</td>\n",
              "      <td>27</td>\n",
              "      <td>7</td>\n",
              "      <td>2014-12-14</td>\n",
              "      <td>0</td>\n",
              "      <td>0.0</td>\n",
              "      <td>0.0</td>\n",
              "      <td>0.0</td>\n",
              "      <td>0</td>\n",
              "      <td>0.0</td>\n",
              "      <td>2014</td>\n",
              "      <td>12</td>\n",
              "      <td>a</td>\n",
              "      <td>a</td>\n",
              "      <td>60.0</td>\n",
              "      <td>1.0</td>\n",
              "      <td>2005.0</td>\n",
              "      <td>1</td>\n",
              "      <td>5.0</td>\n",
              "      <td>2011.0</td>\n",
              "      <td>Jan,Apr,Jul,Oct</td>\n",
              "      <td>2005-01-01</td>\n",
              "      <td>2011-02-06</td>\n",
              "      <td>3634</td>\n",
              "      <td>1407</td>\n",
              "    </tr>\n",
              "    <tr>\n",
              "      <th>2</th>\n",
              "      <td>10683</td>\n",
              "      <td>47</td>\n",
              "      <td>7</td>\n",
              "      <td>2014-12-14</td>\n",
              "      <td>0</td>\n",
              "      <td>0.0</td>\n",
              "      <td>0.0</td>\n",
              "      <td>0.0</td>\n",
              "      <td>0</td>\n",
              "      <td>0.0</td>\n",
              "      <td>2014</td>\n",
              "      <td>12</td>\n",
              "      <td>a</td>\n",
              "      <td>c</td>\n",
              "      <td>270.0</td>\n",
              "      <td>4.0</td>\n",
              "      <td>2013.0</td>\n",
              "      <td>1</td>\n",
              "      <td>14.0</td>\n",
              "      <td>2013.0</td>\n",
              "      <td>Jan,Apr,Jul,Oct</td>\n",
              "      <td>2013-04-01</td>\n",
              "      <td>2013-04-14</td>\n",
              "      <td>622</td>\n",
              "      <td>609</td>\n",
              "    </tr>\n",
              "    <tr>\n",
              "      <th>3</th>\n",
              "      <td>4351</td>\n",
              "      <td>19</td>\n",
              "      <td>7</td>\n",
              "      <td>2014-12-14</td>\n",
              "      <td>0</td>\n",
              "      <td>0.0</td>\n",
              "      <td>0.0</td>\n",
              "      <td>0.0</td>\n",
              "      <td>0</td>\n",
              "      <td>0.0</td>\n",
              "      <td>2014</td>\n",
              "      <td>12</td>\n",
              "      <td>a</td>\n",
              "      <td>c</td>\n",
              "      <td>3240.0</td>\n",
              "      <td>NaN</td>\n",
              "      <td>NaN</td>\n",
              "      <td>1</td>\n",
              "      <td>22.0</td>\n",
              "      <td>2011.0</td>\n",
              "      <td>Mar,Jun,Sept,Dec</td>\n",
              "      <td>1813-01-01</td>\n",
              "      <td>2011-06-05</td>\n",
              "      <td>0</td>\n",
              "      <td>1288</td>\n",
              "    </tr>\n",
              "    <tr>\n",
              "      <th>4</th>\n",
              "      <td>9551</td>\n",
              "      <td>42</td>\n",
              "      <td>7</td>\n",
              "      <td>2014-12-14</td>\n",
              "      <td>0</td>\n",
              "      <td>0.0</td>\n",
              "      <td>0.0</td>\n",
              "      <td>0.0</td>\n",
              "      <td>0</td>\n",
              "      <td>0.0</td>\n",
              "      <td>2014</td>\n",
              "      <td>12</td>\n",
              "      <td>a</td>\n",
              "      <td>c</td>\n",
              "      <td>290.0</td>\n",
              "      <td>NaN</td>\n",
              "      <td>NaN</td>\n",
              "      <td>1</td>\n",
              "      <td>40.0</td>\n",
              "      <td>2011.0</td>\n",
              "      <td>Jan,Apr,Jul,Oct</td>\n",
              "      <td>1813-01-01</td>\n",
              "      <td>2011-10-09</td>\n",
              "      <td>0</td>\n",
              "      <td>1162</td>\n",
              "    </tr>\n",
              "  </tbody>\n",
              "</table>\n",
              "</div>"
            ],
            "text/plain": [
              "   index  Store  DayOfWeek  ... promoYearWeek  day_diff_comp  day_diff_promo\n",
              "0  11373     50          7  ...    1909-01-01           1869               0\n",
              "1   6155     27          7  ...    2011-02-06           3634            1407\n",
              "2  10683     47          7  ...    2013-04-14            622             609\n",
              "3   4351     19          7  ...    2011-06-05              0            1288\n",
              "4   9551     42          7  ...    2011-10-09              0            1162\n",
              "\n",
              "[5 rows x 25 columns]"
            ]
          },
          "metadata": {},
          "execution_count": 39
        }
      ]
    },
    {
      "cell_type": "code",
      "metadata": {
        "id": "hURjt2fVOi4Y",
        "colab": {
          "base_uri": "https://localhost:8080/",
          "height": 164
        },
        "outputId": "b4a131c1-17a8-4a5e-fbd3-a97d6610b353"
      },
      "source": [
        "## Get index of data for last year from March to test\n",
        "store_data_merged[(store_data_merged['Year']==2015) & (store_data_merged['Month']>=3)].head(2) ## 844431"
      ],
      "execution_count": 40,
      "outputs": [
        {
          "output_type": "execute_result",
          "data": {
            "text/html": [
              "<div>\n",
              "<style scoped>\n",
              "    .dataframe tbody tr th:only-of-type {\n",
              "        vertical-align: middle;\n",
              "    }\n",
              "\n",
              "    .dataframe tbody tr th {\n",
              "        vertical-align: top;\n",
              "    }\n",
              "\n",
              "    .dataframe thead th {\n",
              "        text-align: right;\n",
              "    }\n",
              "</style>\n",
              "<table border=\"1\" class=\"dataframe\">\n",
              "  <thead>\n",
              "    <tr style=\"text-align: right;\">\n",
              "      <th></th>\n",
              "      <th>index</th>\n",
              "      <th>Store</th>\n",
              "      <th>DayOfWeek</th>\n",
              "      <th>Date</th>\n",
              "      <th>Sales</th>\n",
              "      <th>Customers</th>\n",
              "      <th>Open</th>\n",
              "      <th>Promo</th>\n",
              "      <th>StateHoliday</th>\n",
              "      <th>SchoolHoliday</th>\n",
              "      <th>Year</th>\n",
              "      <th>Month</th>\n",
              "      <th>StoreType</th>\n",
              "      <th>Assortment</th>\n",
              "      <th>CompetitionDistance</th>\n",
              "      <th>CompetitionOpenSinceMonth</th>\n",
              "      <th>CompetitionOpenSinceYear</th>\n",
              "      <th>Promo2</th>\n",
              "      <th>Promo2SinceWeek</th>\n",
              "      <th>Promo2SinceYear</th>\n",
              "      <th>PromoInterval</th>\n",
              "      <th>CompetitionOpen</th>\n",
              "      <th>promoYearWeek</th>\n",
              "      <th>day_diff_comp</th>\n",
              "      <th>day_diff_promo</th>\n",
              "    </tr>\n",
              "  </thead>\n",
              "  <tbody>\n",
              "    <tr>\n",
              "      <th>81516</th>\n",
              "      <td>141149</td>\n",
              "      <td>626</td>\n",
              "      <td>7</td>\n",
              "      <td>2015-03-01</td>\n",
              "      <td>0</td>\n",
              "      <td>0.0</td>\n",
              "      <td>0.0</td>\n",
              "      <td>0.0</td>\n",
              "      <td>0</td>\n",
              "      <td>0.0</td>\n",
              "      <td>2015</td>\n",
              "      <td>3</td>\n",
              "      <td>c</td>\n",
              "      <td>c</td>\n",
              "      <td>10740.0</td>\n",
              "      <td>11.0</td>\n",
              "      <td>2013.0</td>\n",
              "      <td>0</td>\n",
              "      <td>0.0</td>\n",
              "      <td>0.0</td>\n",
              "      <td>0</td>\n",
              "      <td>2013-11-01</td>\n",
              "      <td>1909-01-01</td>\n",
              "      <td>485</td>\n",
              "      <td>0</td>\n",
              "    </tr>\n",
              "    <tr>\n",
              "      <th>81517</th>\n",
              "      <td>111541</td>\n",
              "      <td>494</td>\n",
              "      <td>7</td>\n",
              "      <td>2015-03-01</td>\n",
              "      <td>9862</td>\n",
              "      <td>1274.0</td>\n",
              "      <td>1.0</td>\n",
              "      <td>0.0</td>\n",
              "      <td>0</td>\n",
              "      <td>0.0</td>\n",
              "      <td>2015</td>\n",
              "      <td>3</td>\n",
              "      <td>b</td>\n",
              "      <td>a</td>\n",
              "      <td>1260.0</td>\n",
              "      <td>6.0</td>\n",
              "      <td>2011.0</td>\n",
              "      <td>0</td>\n",
              "      <td>0.0</td>\n",
              "      <td>0.0</td>\n",
              "      <td>0</td>\n",
              "      <td>2011-06-01</td>\n",
              "      <td>1909-01-01</td>\n",
              "      <td>1369</td>\n",
              "      <td>0</td>\n",
              "    </tr>\n",
              "  </tbody>\n",
              "</table>\n",
              "</div>"
            ],
            "text/plain": [
              "        index  Store  DayOfWeek  ... promoYearWeek  day_diff_comp  day_diff_promo\n",
              "81516  141149    626          7  ...    1909-01-01            485               0\n",
              "81517  111541    494          7  ...    1909-01-01           1369               0\n",
              "\n",
              "[2 rows x 25 columns]"
            ]
          },
          "metadata": {},
          "execution_count": 40
        }
      ]
    },
    {
      "cell_type": "code",
      "metadata": {
        "id": "Bo8gs2tjPFlX",
        "colab": {
          "base_uri": "https://localhost:8080/"
        },
        "outputId": "d35c68f9-3123-4895-e08d-63c3f0259e4e"
      },
      "source": [
        "170136/len(store_data_merged) ## 16 % of data to test"
      ],
      "execution_count": 41,
      "outputs": [
        {
          "output_type": "execute_result",
          "data": {
            "text/plain": [
              "0.6760764865767012"
            ]
          },
          "metadata": {},
          "execution_count": 41
        }
      ]
    },
    {
      "cell_type": "code",
      "metadata": {
        "id": "a_NVlAFaQHmA",
        "colab": {
          "base_uri": "https://localhost:8080/"
        },
        "outputId": "e06b1632-b9af-4c00-9120-9b5ec464f6fa"
      },
      "source": [
        "store_data_merged.columns"
      ],
      "execution_count": 42,
      "outputs": [
        {
          "output_type": "execute_result",
          "data": {
            "text/plain": [
              "Index(['index', 'Store', 'DayOfWeek', 'Date', 'Sales', 'Customers', 'Open',\n",
              "       'Promo', 'StateHoliday', 'SchoolHoliday', 'Year', 'Month', 'StoreType',\n",
              "       'Assortment', 'CompetitionDistance', 'CompetitionOpenSinceMonth',\n",
              "       'CompetitionOpenSinceYear', 'Promo2', 'Promo2SinceWeek',\n",
              "       'Promo2SinceYear', 'PromoInterval', 'CompetitionOpen', 'promoYearWeek',\n",
              "       'day_diff_comp', 'day_diff_promo'],\n",
              "      dtype='object')"
            ]
          },
          "metadata": {},
          "execution_count": 42
        }
      ]
    },
    {
      "cell_type": "code",
      "metadata": {
        "id": "5hDdDMnX_aZV"
      },
      "source": [
        "store_data_merged.drop(columns=['index','Date','CompetitionOpenSinceYear','CompetitionOpenSinceMonth','Promo2SinceWeek','Promo2SinceYear','PromoInterval','CompetitionOpen','promoYearWeek'],inplace=True)"
      ],
      "execution_count": 43,
      "outputs": []
    },
    {
      "cell_type": "code",
      "metadata": {
        "id": "6YRZJ8gz_aWE",
        "colab": {
          "base_uri": "https://localhost:8080/",
          "height": 203
        },
        "outputId": "c5ced671-d30c-4a7b-9565-9cdb67c91a78"
      },
      "source": [
        "#store_data.drop(columns='Date',inplace=True)\n",
        "store_data_merged.head()"
      ],
      "execution_count": 44,
      "outputs": [
        {
          "output_type": "execute_result",
          "data": {
            "text/html": [
              "<div>\n",
              "<style scoped>\n",
              "    .dataframe tbody tr th:only-of-type {\n",
              "        vertical-align: middle;\n",
              "    }\n",
              "\n",
              "    .dataframe tbody tr th {\n",
              "        vertical-align: top;\n",
              "    }\n",
              "\n",
              "    .dataframe thead th {\n",
              "        text-align: right;\n",
              "    }\n",
              "</style>\n",
              "<table border=\"1\" class=\"dataframe\">\n",
              "  <thead>\n",
              "    <tr style=\"text-align: right;\">\n",
              "      <th></th>\n",
              "      <th>Store</th>\n",
              "      <th>DayOfWeek</th>\n",
              "      <th>Sales</th>\n",
              "      <th>Customers</th>\n",
              "      <th>Open</th>\n",
              "      <th>Promo</th>\n",
              "      <th>StateHoliday</th>\n",
              "      <th>SchoolHoliday</th>\n",
              "      <th>Year</th>\n",
              "      <th>Month</th>\n",
              "      <th>StoreType</th>\n",
              "      <th>Assortment</th>\n",
              "      <th>CompetitionDistance</th>\n",
              "      <th>Promo2</th>\n",
              "      <th>day_diff_comp</th>\n",
              "      <th>day_diff_promo</th>\n",
              "    </tr>\n",
              "  </thead>\n",
              "  <tbody>\n",
              "    <tr>\n",
              "      <th>0</th>\n",
              "      <td>50</td>\n",
              "      <td>7</td>\n",
              "      <td>0</td>\n",
              "      <td>0.0</td>\n",
              "      <td>0.0</td>\n",
              "      <td>0.0</td>\n",
              "      <td>0</td>\n",
              "      <td>0.0</td>\n",
              "      <td>2014</td>\n",
              "      <td>12</td>\n",
              "      <td>d</td>\n",
              "      <td>a</td>\n",
              "      <td>6260.0</td>\n",
              "      <td>0</td>\n",
              "      <td>1869</td>\n",
              "      <td>0</td>\n",
              "    </tr>\n",
              "    <tr>\n",
              "      <th>1</th>\n",
              "      <td>27</td>\n",
              "      <td>7</td>\n",
              "      <td>0</td>\n",
              "      <td>0.0</td>\n",
              "      <td>0.0</td>\n",
              "      <td>0.0</td>\n",
              "      <td>0</td>\n",
              "      <td>0.0</td>\n",
              "      <td>2014</td>\n",
              "      <td>12</td>\n",
              "      <td>a</td>\n",
              "      <td>a</td>\n",
              "      <td>60.0</td>\n",
              "      <td>1</td>\n",
              "      <td>3634</td>\n",
              "      <td>1407</td>\n",
              "    </tr>\n",
              "    <tr>\n",
              "      <th>2</th>\n",
              "      <td>47</td>\n",
              "      <td>7</td>\n",
              "      <td>0</td>\n",
              "      <td>0.0</td>\n",
              "      <td>0.0</td>\n",
              "      <td>0.0</td>\n",
              "      <td>0</td>\n",
              "      <td>0.0</td>\n",
              "      <td>2014</td>\n",
              "      <td>12</td>\n",
              "      <td>a</td>\n",
              "      <td>c</td>\n",
              "      <td>270.0</td>\n",
              "      <td>1</td>\n",
              "      <td>622</td>\n",
              "      <td>609</td>\n",
              "    </tr>\n",
              "    <tr>\n",
              "      <th>3</th>\n",
              "      <td>19</td>\n",
              "      <td>7</td>\n",
              "      <td>0</td>\n",
              "      <td>0.0</td>\n",
              "      <td>0.0</td>\n",
              "      <td>0.0</td>\n",
              "      <td>0</td>\n",
              "      <td>0.0</td>\n",
              "      <td>2014</td>\n",
              "      <td>12</td>\n",
              "      <td>a</td>\n",
              "      <td>c</td>\n",
              "      <td>3240.0</td>\n",
              "      <td>1</td>\n",
              "      <td>0</td>\n",
              "      <td>1288</td>\n",
              "    </tr>\n",
              "    <tr>\n",
              "      <th>4</th>\n",
              "      <td>42</td>\n",
              "      <td>7</td>\n",
              "      <td>0</td>\n",
              "      <td>0.0</td>\n",
              "      <td>0.0</td>\n",
              "      <td>0.0</td>\n",
              "      <td>0</td>\n",
              "      <td>0.0</td>\n",
              "      <td>2014</td>\n",
              "      <td>12</td>\n",
              "      <td>a</td>\n",
              "      <td>c</td>\n",
              "      <td>290.0</td>\n",
              "      <td>1</td>\n",
              "      <td>0</td>\n",
              "      <td>1162</td>\n",
              "    </tr>\n",
              "  </tbody>\n",
              "</table>\n",
              "</div>"
            ],
            "text/plain": [
              "   Store  DayOfWeek  Sales  ...  Promo2  day_diff_comp  day_diff_promo\n",
              "0     50          7      0  ...       0           1869               0\n",
              "1     27          7      0  ...       1           3634            1407\n",
              "2     47          7      0  ...       1            622             609\n",
              "3     19          7      0  ...       1              0            1288\n",
              "4     42          7      0  ...       1              0            1162\n",
              "\n",
              "[5 rows x 16 columns]"
            ]
          },
          "metadata": {},
          "execution_count": 44
        }
      ]
    },
    {
      "cell_type": "code",
      "metadata": {
        "id": "2EutY3SO_aTN",
        "colab": {
          "base_uri": "https://localhost:8080/"
        },
        "outputId": "265f4bff-00a0-4e1d-8f35-fd466ac99445"
      },
      "source": [
        "store_data_merged.info()"
      ],
      "execution_count": 45,
      "outputs": [
        {
          "output_type": "stream",
          "name": "stdout",
          "text": [
            "<class 'pandas.core.frame.DataFrame'>\n",
            "RangeIndex: 251652 entries, 0 to 251651\n",
            "Data columns (total 16 columns):\n",
            " #   Column               Non-Null Count   Dtype  \n",
            "---  ------               --------------   -----  \n",
            " 0   Store                251652 non-null  int64  \n",
            " 1   DayOfWeek            251652 non-null  int64  \n",
            " 2   Sales                251652 non-null  int64  \n",
            " 3   Customers            251651 non-null  float64\n",
            " 4   Open                 251651 non-null  float64\n",
            " 5   Promo                251651 non-null  float64\n",
            " 6   StateHoliday         251651 non-null  object \n",
            " 7   SchoolHoliday        251651 non-null  float64\n",
            " 8   Year                 251652 non-null  int64  \n",
            " 9   Month                251652 non-null  int64  \n",
            " 10  StoreType            251652 non-null  object \n",
            " 11  Assortment           251652 non-null  object \n",
            " 12  CompetitionDistance  251652 non-null  float64\n",
            " 13  Promo2               251652 non-null  int64  \n",
            " 14  day_diff_comp        251652 non-null  int64  \n",
            " 15  day_diff_promo       251652 non-null  int64  \n",
            "dtypes: float64(5), int64(8), object(3)\n",
            "memory usage: 30.7+ MB\n"
          ]
        }
      ]
    },
    {
      "cell_type": "code",
      "metadata": {
        "id": "l6rSeIxAponv"
      },
      "source": [
        "store_data_merged =store_data_merged[~store_data_merged.isin([np.nan, np.inf, -np.inf]).any(1)]"
      ],
      "execution_count": 46,
      "outputs": []
    },
    {
      "cell_type": "code",
      "metadata": {
        "colab": {
          "base_uri": "https://localhost:8080/",
          "height": 417
        },
        "id": "rv1_2MCSpvnc",
        "outputId": "2fc159e6-b45b-4f50-ac6d-2b113fcef569"
      },
      "source": [
        "store_data_merged.fillna(0)"
      ],
      "execution_count": 47,
      "outputs": [
        {
          "output_type": "execute_result",
          "data": {
            "text/html": [
              "<div>\n",
              "<style scoped>\n",
              "    .dataframe tbody tr th:only-of-type {\n",
              "        vertical-align: middle;\n",
              "    }\n",
              "\n",
              "    .dataframe tbody tr th {\n",
              "        vertical-align: top;\n",
              "    }\n",
              "\n",
              "    .dataframe thead th {\n",
              "        text-align: right;\n",
              "    }\n",
              "</style>\n",
              "<table border=\"1\" class=\"dataframe\">\n",
              "  <thead>\n",
              "    <tr style=\"text-align: right;\">\n",
              "      <th></th>\n",
              "      <th>Store</th>\n",
              "      <th>DayOfWeek</th>\n",
              "      <th>Sales</th>\n",
              "      <th>Customers</th>\n",
              "      <th>Open</th>\n",
              "      <th>Promo</th>\n",
              "      <th>StateHoliday</th>\n",
              "      <th>SchoolHoliday</th>\n",
              "      <th>Year</th>\n",
              "      <th>Month</th>\n",
              "      <th>StoreType</th>\n",
              "      <th>Assortment</th>\n",
              "      <th>CompetitionDistance</th>\n",
              "      <th>Promo2</th>\n",
              "      <th>day_diff_comp</th>\n",
              "      <th>day_diff_promo</th>\n",
              "    </tr>\n",
              "  </thead>\n",
              "  <tbody>\n",
              "    <tr>\n",
              "      <th>0</th>\n",
              "      <td>50</td>\n",
              "      <td>7</td>\n",
              "      <td>0</td>\n",
              "      <td>0.0</td>\n",
              "      <td>0.0</td>\n",
              "      <td>0.0</td>\n",
              "      <td>0</td>\n",
              "      <td>0.0</td>\n",
              "      <td>2014</td>\n",
              "      <td>12</td>\n",
              "      <td>d</td>\n",
              "      <td>a</td>\n",
              "      <td>6260.0</td>\n",
              "      <td>0</td>\n",
              "      <td>1869</td>\n",
              "      <td>0</td>\n",
              "    </tr>\n",
              "    <tr>\n",
              "      <th>1</th>\n",
              "      <td>27</td>\n",
              "      <td>7</td>\n",
              "      <td>0</td>\n",
              "      <td>0.0</td>\n",
              "      <td>0.0</td>\n",
              "      <td>0.0</td>\n",
              "      <td>0</td>\n",
              "      <td>0.0</td>\n",
              "      <td>2014</td>\n",
              "      <td>12</td>\n",
              "      <td>a</td>\n",
              "      <td>a</td>\n",
              "      <td>60.0</td>\n",
              "      <td>1</td>\n",
              "      <td>3634</td>\n",
              "      <td>1407</td>\n",
              "    </tr>\n",
              "    <tr>\n",
              "      <th>2</th>\n",
              "      <td>47</td>\n",
              "      <td>7</td>\n",
              "      <td>0</td>\n",
              "      <td>0.0</td>\n",
              "      <td>0.0</td>\n",
              "      <td>0.0</td>\n",
              "      <td>0</td>\n",
              "      <td>0.0</td>\n",
              "      <td>2014</td>\n",
              "      <td>12</td>\n",
              "      <td>a</td>\n",
              "      <td>c</td>\n",
              "      <td>270.0</td>\n",
              "      <td>1</td>\n",
              "      <td>622</td>\n",
              "      <td>609</td>\n",
              "    </tr>\n",
              "    <tr>\n",
              "      <th>3</th>\n",
              "      <td>19</td>\n",
              "      <td>7</td>\n",
              "      <td>0</td>\n",
              "      <td>0.0</td>\n",
              "      <td>0.0</td>\n",
              "      <td>0.0</td>\n",
              "      <td>0</td>\n",
              "      <td>0.0</td>\n",
              "      <td>2014</td>\n",
              "      <td>12</td>\n",
              "      <td>a</td>\n",
              "      <td>c</td>\n",
              "      <td>3240.0</td>\n",
              "      <td>1</td>\n",
              "      <td>0</td>\n",
              "      <td>1288</td>\n",
              "    </tr>\n",
              "    <tr>\n",
              "      <th>4</th>\n",
              "      <td>42</td>\n",
              "      <td>7</td>\n",
              "      <td>0</td>\n",
              "      <td>0.0</td>\n",
              "      <td>0.0</td>\n",
              "      <td>0.0</td>\n",
              "      <td>0</td>\n",
              "      <td>0.0</td>\n",
              "      <td>2014</td>\n",
              "      <td>12</td>\n",
              "      <td>a</td>\n",
              "      <td>c</td>\n",
              "      <td>290.0</td>\n",
              "      <td>1</td>\n",
              "      <td>0</td>\n",
              "      <td>1162</td>\n",
              "    </tr>\n",
              "    <tr>\n",
              "      <th>...</th>\n",
              "      <td>...</td>\n",
              "      <td>...</td>\n",
              "      <td>...</td>\n",
              "      <td>...</td>\n",
              "      <td>...</td>\n",
              "      <td>...</td>\n",
              "      <td>...</td>\n",
              "      <td>...</td>\n",
              "      <td>...</td>\n",
              "      <td>...</td>\n",
              "      <td>...</td>\n",
              "      <td>...</td>\n",
              "      <td>...</td>\n",
              "      <td>...</td>\n",
              "      <td>...</td>\n",
              "      <td>...</td>\n",
              "    </tr>\n",
              "    <tr>\n",
              "      <th>251647</th>\n",
              "      <td>619</td>\n",
              "      <td>5</td>\n",
              "      <td>7384</td>\n",
              "      <td>614.0</td>\n",
              "      <td>1.0</td>\n",
              "      <td>1.0</td>\n",
              "      <td>0</td>\n",
              "      <td>0.0</td>\n",
              "      <td>2015</td>\n",
              "      <td>7</td>\n",
              "      <td>a</td>\n",
              "      <td>a</td>\n",
              "      <td>1600.0</td>\n",
              "      <td>1</td>\n",
              "      <td>3347</td>\n",
              "      <td>2084</td>\n",
              "    </tr>\n",
              "    <tr>\n",
              "      <th>251648</th>\n",
              "      <td>620</td>\n",
              "      <td>5</td>\n",
              "      <td>12074</td>\n",
              "      <td>937.0</td>\n",
              "      <td>1.0</td>\n",
              "      <td>1.0</td>\n",
              "      <td>0</td>\n",
              "      <td>0.0</td>\n",
              "      <td>2015</td>\n",
              "      <td>7</td>\n",
              "      <td>d</td>\n",
              "      <td>c</td>\n",
              "      <td>5440.0</td>\n",
              "      <td>1</td>\n",
              "      <td>0</td>\n",
              "      <td>292</td>\n",
              "    </tr>\n",
              "    <tr>\n",
              "      <th>251649</th>\n",
              "      <td>621</td>\n",
              "      <td>5</td>\n",
              "      <td>7296</td>\n",
              "      <td>870.0</td>\n",
              "      <td>1.0</td>\n",
              "      <td>1.0</td>\n",
              "      <td>0</td>\n",
              "      <td>1.0</td>\n",
              "      <td>2015</td>\n",
              "      <td>7</td>\n",
              "      <td>a</td>\n",
              "      <td>a</td>\n",
              "      <td>30.0</td>\n",
              "      <td>0</td>\n",
              "      <td>4778</td>\n",
              "      <td>0</td>\n",
              "    </tr>\n",
              "    <tr>\n",
              "      <th>251650</th>\n",
              "      <td>612</td>\n",
              "      <td>5</td>\n",
              "      <td>8161</td>\n",
              "      <td>493.0</td>\n",
              "      <td>1.0</td>\n",
              "      <td>1.0</td>\n",
              "      <td>0</td>\n",
              "      <td>0.0</td>\n",
              "      <td>2015</td>\n",
              "      <td>7</td>\n",
              "      <td>d</td>\n",
              "      <td>c</td>\n",
              "      <td>2490.0</td>\n",
              "      <td>1</td>\n",
              "      <td>1002</td>\n",
              "      <td>2182</td>\n",
              "    </tr>\n",
              "    <tr>\n",
              "      <th>251651</th>\n",
              "      <td>1</td>\n",
              "      <td>5</td>\n",
              "      <td>5263</td>\n",
              "      <td>555.0</td>\n",
              "      <td>1.0</td>\n",
              "      <td>1.0</td>\n",
              "      <td>0</td>\n",
              "      <td>1.0</td>\n",
              "      <td>2015</td>\n",
              "      <td>7</td>\n",
              "      <td>c</td>\n",
              "      <td>a</td>\n",
              "      <td>1270.0</td>\n",
              "      <td>0</td>\n",
              "      <td>2524</td>\n",
              "      <td>0</td>\n",
              "    </tr>\n",
              "  </tbody>\n",
              "</table>\n",
              "<p>251651 rows × 16 columns</p>\n",
              "</div>"
            ],
            "text/plain": [
              "        Store  DayOfWeek  Sales  ...  Promo2  day_diff_comp  day_diff_promo\n",
              "0          50          7      0  ...       0           1869               0\n",
              "1          27          7      0  ...       1           3634            1407\n",
              "2          47          7      0  ...       1            622             609\n",
              "3          19          7      0  ...       1              0            1288\n",
              "4          42          7      0  ...       1              0            1162\n",
              "...       ...        ...    ...  ...     ...            ...             ...\n",
              "251647    619          5   7384  ...       1           3347            2084\n",
              "251648    620          5  12074  ...       1              0             292\n",
              "251649    621          5   7296  ...       0           4778               0\n",
              "251650    612          5   8161  ...       1           1002            2182\n",
              "251651      1          5   5263  ...       0           2524               0\n",
              "\n",
              "[251651 rows x 16 columns]"
            ]
          },
          "metadata": {},
          "execution_count": 47
        }
      ]
    },
    {
      "cell_type": "code",
      "metadata": {
        "id": "DjZr7By-CddJ"
      },
      "source": [
        "## Convert datatype of CompetitionDistance from \n",
        "store_data_merged['CompetitionDistance']=store_data_merged['CompetitionDistance'].astype(int)"
      ],
      "execution_count": 48,
      "outputs": []
    },
    {
      "cell_type": "code",
      "metadata": {
        "id": "dXN7o86qp5Yx"
      },
      "source": [
        "## Encoding Assortment with numerical values\n",
        "store_data_merged['Assortment']=store_data_merged['Assortment'].apply(lambda x: 1 if x=='a' else (2 if x=='b' else 3))"
      ],
      "execution_count": 49,
      "outputs": []
    },
    {
      "cell_type": "code",
      "metadata": {
        "id": "27ks5IG-p5VV"
      },
      "source": [
        "\n",
        "## Create Dummy variables for object type data\n",
        "store_data_final=pd.get_dummies(store_data_merged,drop_first=True)"
      ],
      "execution_count": 50,
      "outputs": []
    },
    {
      "cell_type": "code",
      "metadata": {
        "id": "-_BLHL5Xp5S2",
        "colab": {
          "base_uri": "https://localhost:8080/"
        },
        "outputId": "ff455062-a188-4ebf-e35d-bab6ecf48193"
      },
      "source": [
        "## Check presence of null in data\n",
        "store_data_final.isna().sum().sum()\n"
      ],
      "execution_count": 51,
      "outputs": [
        {
          "output_type": "execute_result",
          "data": {
            "text/plain": [
              "0"
            ]
          },
          "metadata": {},
          "execution_count": 51
        }
      ]
    },
    {
      "cell_type": "code",
      "metadata": {
        "id": "THBAyGWxYrxN"
      },
      "source": [
        "## Converting Day of Week to object type\n",
        "store_data_merged['DayOfWeek']=store_data_merged['DayOfWeek'].astype(object)"
      ],
      "execution_count": 52,
      "outputs": []
    },
    {
      "cell_type": "markdown",
      "metadata": {
        "id": "8eHq6tluPUha"
      },
      "source": [
        "Since the Day of Week is in number, a regression model will fit coefficients based on number. So instead of that it can be converted to object type so as to get categories out of it. Our model can then predict based on the categories."
      ]
    },
    {
      "cell_type": "code",
      "metadata": {
        "id": "jcECUtMAYrsA"
      },
      "source": [
        "dataset = pd.get_dummies(store_data_merged,drop_first=True)"
      ],
      "execution_count": 53,
      "outputs": []
    },
    {
      "cell_type": "code",
      "metadata": {
        "colab": {
          "base_uri": "https://localhost:8080/"
        },
        "id": "-KVNC4LnHfAu",
        "outputId": "efb21014-af08-4faf-cc51-866a94501560"
      },
      "source": [
        "dataset.columns"
      ],
      "execution_count": 54,
      "outputs": [
        {
          "output_type": "execute_result",
          "data": {
            "text/plain": [
              "Index(['Store', 'Sales', 'Customers', 'Open', 'Promo', 'SchoolHoliday', 'Year',\n",
              "       'Month', 'Assortment', 'CompetitionDistance', 'Promo2', 'day_diff_comp',\n",
              "       'day_diff_promo', 'DayOfWeek_2', 'DayOfWeek_3', 'DayOfWeek_4',\n",
              "       'DayOfWeek_5', 'DayOfWeek_6', 'DayOfWeek_7', 'StateHoliday_a',\n",
              "       'StateHoliday_b', 'StateHoliday_c', 'StoreType_b', 'StoreType_c',\n",
              "       'StoreType_d'],\n",
              "      dtype='object')"
            ]
          },
          "metadata": {},
          "execution_count": 54
        }
      ]
    },
    {
      "cell_type": "code",
      "metadata": {
        "id": "8OC3KDHgHhp0"
      },
      "source": [
        "#re-ordering dataset, keeping target value at the end of independent variables\n",
        "dataset = dataset[['Store', 'Customers', 'Open', 'Promo', 'SchoolHoliday', 'Year',\n",
        "       'Month', 'Assortment', 'CompetitionDistance', 'Promo2', 'day_diff_comp',\n",
        "       'day_diff_promo', 'DayOfWeek_2', 'DayOfWeek_3', 'DayOfWeek_4',\n",
        "       'DayOfWeek_5', 'DayOfWeek_6', 'DayOfWeek_7', 'StateHoliday_a',\n",
        "       'StateHoliday_b', 'StateHoliday_c', 'StoreType_b', 'StoreType_c',\n",
        "       'StoreType_d', 'Sales']]"
      ],
      "execution_count": 55,
      "outputs": []
    },
    {
      "cell_type": "code",
      "metadata": {
        "colab": {
          "base_uri": "https://localhost:8080/",
          "height": 223
        },
        "id": "7VyXKTOcH8I3",
        "outputId": "84a9e45d-928d-446c-ef72-6bc918d3bced"
      },
      "source": [
        "dataset.head()"
      ],
      "execution_count": 56,
      "outputs": [
        {
          "output_type": "execute_result",
          "data": {
            "text/html": [
              "<div>\n",
              "<style scoped>\n",
              "    .dataframe tbody tr th:only-of-type {\n",
              "        vertical-align: middle;\n",
              "    }\n",
              "\n",
              "    .dataframe tbody tr th {\n",
              "        vertical-align: top;\n",
              "    }\n",
              "\n",
              "    .dataframe thead th {\n",
              "        text-align: right;\n",
              "    }\n",
              "</style>\n",
              "<table border=\"1\" class=\"dataframe\">\n",
              "  <thead>\n",
              "    <tr style=\"text-align: right;\">\n",
              "      <th></th>\n",
              "      <th>Store</th>\n",
              "      <th>Customers</th>\n",
              "      <th>Open</th>\n",
              "      <th>Promo</th>\n",
              "      <th>SchoolHoliday</th>\n",
              "      <th>Year</th>\n",
              "      <th>Month</th>\n",
              "      <th>Assortment</th>\n",
              "      <th>CompetitionDistance</th>\n",
              "      <th>Promo2</th>\n",
              "      <th>day_diff_comp</th>\n",
              "      <th>day_diff_promo</th>\n",
              "      <th>DayOfWeek_2</th>\n",
              "      <th>DayOfWeek_3</th>\n",
              "      <th>DayOfWeek_4</th>\n",
              "      <th>DayOfWeek_5</th>\n",
              "      <th>DayOfWeek_6</th>\n",
              "      <th>DayOfWeek_7</th>\n",
              "      <th>StateHoliday_a</th>\n",
              "      <th>StateHoliday_b</th>\n",
              "      <th>StateHoliday_c</th>\n",
              "      <th>StoreType_b</th>\n",
              "      <th>StoreType_c</th>\n",
              "      <th>StoreType_d</th>\n",
              "      <th>Sales</th>\n",
              "    </tr>\n",
              "  </thead>\n",
              "  <tbody>\n",
              "    <tr>\n",
              "      <th>0</th>\n",
              "      <td>50</td>\n",
              "      <td>0.0</td>\n",
              "      <td>0.0</td>\n",
              "      <td>0.0</td>\n",
              "      <td>0.0</td>\n",
              "      <td>2014</td>\n",
              "      <td>12</td>\n",
              "      <td>1</td>\n",
              "      <td>6260</td>\n",
              "      <td>0</td>\n",
              "      <td>1869</td>\n",
              "      <td>0</td>\n",
              "      <td>0</td>\n",
              "      <td>0</td>\n",
              "      <td>0</td>\n",
              "      <td>0</td>\n",
              "      <td>0</td>\n",
              "      <td>1</td>\n",
              "      <td>0</td>\n",
              "      <td>0</td>\n",
              "      <td>0</td>\n",
              "      <td>0</td>\n",
              "      <td>0</td>\n",
              "      <td>1</td>\n",
              "      <td>0</td>\n",
              "    </tr>\n",
              "    <tr>\n",
              "      <th>1</th>\n",
              "      <td>27</td>\n",
              "      <td>0.0</td>\n",
              "      <td>0.0</td>\n",
              "      <td>0.0</td>\n",
              "      <td>0.0</td>\n",
              "      <td>2014</td>\n",
              "      <td>12</td>\n",
              "      <td>1</td>\n",
              "      <td>60</td>\n",
              "      <td>1</td>\n",
              "      <td>3634</td>\n",
              "      <td>1407</td>\n",
              "      <td>0</td>\n",
              "      <td>0</td>\n",
              "      <td>0</td>\n",
              "      <td>0</td>\n",
              "      <td>0</td>\n",
              "      <td>1</td>\n",
              "      <td>0</td>\n",
              "      <td>0</td>\n",
              "      <td>0</td>\n",
              "      <td>0</td>\n",
              "      <td>0</td>\n",
              "      <td>0</td>\n",
              "      <td>0</td>\n",
              "    </tr>\n",
              "    <tr>\n",
              "      <th>2</th>\n",
              "      <td>47</td>\n",
              "      <td>0.0</td>\n",
              "      <td>0.0</td>\n",
              "      <td>0.0</td>\n",
              "      <td>0.0</td>\n",
              "      <td>2014</td>\n",
              "      <td>12</td>\n",
              "      <td>3</td>\n",
              "      <td>270</td>\n",
              "      <td>1</td>\n",
              "      <td>622</td>\n",
              "      <td>609</td>\n",
              "      <td>0</td>\n",
              "      <td>0</td>\n",
              "      <td>0</td>\n",
              "      <td>0</td>\n",
              "      <td>0</td>\n",
              "      <td>1</td>\n",
              "      <td>0</td>\n",
              "      <td>0</td>\n",
              "      <td>0</td>\n",
              "      <td>0</td>\n",
              "      <td>0</td>\n",
              "      <td>0</td>\n",
              "      <td>0</td>\n",
              "    </tr>\n",
              "    <tr>\n",
              "      <th>3</th>\n",
              "      <td>19</td>\n",
              "      <td>0.0</td>\n",
              "      <td>0.0</td>\n",
              "      <td>0.0</td>\n",
              "      <td>0.0</td>\n",
              "      <td>2014</td>\n",
              "      <td>12</td>\n",
              "      <td>3</td>\n",
              "      <td>3240</td>\n",
              "      <td>1</td>\n",
              "      <td>0</td>\n",
              "      <td>1288</td>\n",
              "      <td>0</td>\n",
              "      <td>0</td>\n",
              "      <td>0</td>\n",
              "      <td>0</td>\n",
              "      <td>0</td>\n",
              "      <td>1</td>\n",
              "      <td>0</td>\n",
              "      <td>0</td>\n",
              "      <td>0</td>\n",
              "      <td>0</td>\n",
              "      <td>0</td>\n",
              "      <td>0</td>\n",
              "      <td>0</td>\n",
              "    </tr>\n",
              "    <tr>\n",
              "      <th>4</th>\n",
              "      <td>42</td>\n",
              "      <td>0.0</td>\n",
              "      <td>0.0</td>\n",
              "      <td>0.0</td>\n",
              "      <td>0.0</td>\n",
              "      <td>2014</td>\n",
              "      <td>12</td>\n",
              "      <td>3</td>\n",
              "      <td>290</td>\n",
              "      <td>1</td>\n",
              "      <td>0</td>\n",
              "      <td>1162</td>\n",
              "      <td>0</td>\n",
              "      <td>0</td>\n",
              "      <td>0</td>\n",
              "      <td>0</td>\n",
              "      <td>0</td>\n",
              "      <td>1</td>\n",
              "      <td>0</td>\n",
              "      <td>0</td>\n",
              "      <td>0</td>\n",
              "      <td>0</td>\n",
              "      <td>0</td>\n",
              "      <td>0</td>\n",
              "      <td>0</td>\n",
              "    </tr>\n",
              "  </tbody>\n",
              "</table>\n",
              "</div>"
            ],
            "text/plain": [
              "   Store  Customers  Open  Promo  ...  StoreType_b  StoreType_c  StoreType_d  Sales\n",
              "0     50        0.0   0.0    0.0  ...            0            0            1      0\n",
              "1     27        0.0   0.0    0.0  ...            0            0            0      0\n",
              "2     47        0.0   0.0    0.0  ...            0            0            0      0\n",
              "3     19        0.0   0.0    0.0  ...            0            0            0      0\n",
              "4     42        0.0   0.0    0.0  ...            0            0            0      0\n",
              "\n",
              "[5 rows x 25 columns]"
            ]
          },
          "metadata": {},
          "execution_count": 56
        }
      ]
    },
    {
      "cell_type": "markdown",
      "metadata": {
        "id": "DZmuwVczG83X"
      },
      "source": [
        "# EDA"
      ]
    },
    {
      "cell_type": "code",
      "metadata": {
        "colab": {
          "base_uri": "https://localhost:8080/",
          "height": 839
        },
        "id": "9g13YqcFHBUe",
        "outputId": "e0918889-f5e1-4620-868a-76e7c09b0149"
      },
      "source": [
        "dataset.corr()"
      ],
      "execution_count": 57,
      "outputs": [
        {
          "output_type": "execute_result",
          "data": {
            "text/html": [
              "<div>\n",
              "<style scoped>\n",
              "    .dataframe tbody tr th:only-of-type {\n",
              "        vertical-align: middle;\n",
              "    }\n",
              "\n",
              "    .dataframe tbody tr th {\n",
              "        vertical-align: top;\n",
              "    }\n",
              "\n",
              "    .dataframe thead th {\n",
              "        text-align: right;\n",
              "    }\n",
              "</style>\n",
              "<table border=\"1\" class=\"dataframe\">\n",
              "  <thead>\n",
              "    <tr style=\"text-align: right;\">\n",
              "      <th></th>\n",
              "      <th>Store</th>\n",
              "      <th>Customers</th>\n",
              "      <th>Open</th>\n",
              "      <th>Promo</th>\n",
              "      <th>SchoolHoliday</th>\n",
              "      <th>Year</th>\n",
              "      <th>Month</th>\n",
              "      <th>Assortment</th>\n",
              "      <th>CompetitionDistance</th>\n",
              "      <th>Promo2</th>\n",
              "      <th>day_diff_comp</th>\n",
              "      <th>day_diff_promo</th>\n",
              "      <th>DayOfWeek_2</th>\n",
              "      <th>DayOfWeek_3</th>\n",
              "      <th>DayOfWeek_4</th>\n",
              "      <th>DayOfWeek_5</th>\n",
              "      <th>DayOfWeek_6</th>\n",
              "      <th>DayOfWeek_7</th>\n",
              "      <th>StateHoliday_a</th>\n",
              "      <th>StateHoliday_b</th>\n",
              "      <th>StateHoliday_c</th>\n",
              "      <th>StoreType_b</th>\n",
              "      <th>StoreType_c</th>\n",
              "      <th>StoreType_d</th>\n",
              "      <th>Sales</th>\n",
              "    </tr>\n",
              "  </thead>\n",
              "  <tbody>\n",
              "    <tr>\n",
              "      <th>Store</th>\n",
              "      <td>1.000000</td>\n",
              "      <td>0.022548</td>\n",
              "      <td>0.000902</td>\n",
              "      <td>0.000128</td>\n",
              "      <td>0.003316</td>\n",
              "      <td>-0.001003</td>\n",
              "      <td>0.000710</td>\n",
              "      <td>0.004014</td>\n",
              "      <td>-0.026894</td>\n",
              "      <td>0.006487</td>\n",
              "      <td>0.001844</td>\n",
              "      <td>-0.012852</td>\n",
              "      <td>0.000176</td>\n",
              "      <td>0.000176</td>\n",
              "      <td>0.000081</td>\n",
              "      <td>0.000081</td>\n",
              "      <td>0.000085</td>\n",
              "      <td>-0.000783</td>\n",
              "      <td>0.000425</td>\n",
              "      <td>-0.000025</td>\n",
              "      <td>0.000748</td>\n",
              "      <td>0.001440</td>\n",
              "      <td>0.061109</td>\n",
              "      <td>-0.051007</td>\n",
              "      <td>0.003121</td>\n",
              "    </tr>\n",
              "    <tr>\n",
              "      <th>Customers</th>\n",
              "      <td>0.022548</td>\n",
              "      <td>1.000000</td>\n",
              "      <td>0.625906</td>\n",
              "      <td>0.310944</td>\n",
              "      <td>0.068393</td>\n",
              "      <td>-0.042959</td>\n",
              "      <td>0.040879</td>\n",
              "      <td>0.023567</td>\n",
              "      <td>-0.098915</td>\n",
              "      <td>-0.152307</td>\n",
              "      <td>-0.009918</td>\n",
              "      <td>-0.135109</td>\n",
              "      <td>0.132211</td>\n",
              "      <td>0.090930</td>\n",
              "      <td>0.041090</td>\n",
              "      <td>0.067048</td>\n",
              "      <td>0.027873</td>\n",
              "      <td>-0.517551</td>\n",
              "      <td>-0.188154</td>\n",
              "      <td>-0.120666</td>\n",
              "      <td>-0.111967</td>\n",
              "      <td>0.388695</td>\n",
              "      <td>0.034324</td>\n",
              "      <td>-0.177050</td>\n",
              "      <td>0.890557</td>\n",
              "    </tr>\n",
              "    <tr>\n",
              "      <th>Open</th>\n",
              "      <td>0.000902</td>\n",
              "      <td>0.625906</td>\n",
              "      <td>1.000000</td>\n",
              "      <td>0.300507</td>\n",
              "      <td>0.051278</td>\n",
              "      <td>0.039410</td>\n",
              "      <td>-0.025268</td>\n",
              "      <td>0.002825</td>\n",
              "      <td>0.007592</td>\n",
              "      <td>-0.008094</td>\n",
              "      <td>-0.002149</td>\n",
              "      <td>-0.006442</td>\n",
              "      <td>0.178414</td>\n",
              "      <td>0.187397</td>\n",
              "      <td>0.075664</td>\n",
              "      <td>0.095856</td>\n",
              "      <td>0.184871</td>\n",
              "      <td>-0.851638</td>\n",
              "      <td>-0.310788</td>\n",
              "      <td>-0.199848</td>\n",
              "      <td>-0.183672</td>\n",
              "      <td>0.057519</td>\n",
              "      <td>-0.004396</td>\n",
              "      <td>-0.005688</td>\n",
              "      <td>0.689753</td>\n",
              "    </tr>\n",
              "    <tr>\n",
              "      <th>Promo</th>\n",
              "      <td>0.000128</td>\n",
              "      <td>0.310944</td>\n",
              "      <td>0.300507</td>\n",
              "      <td>1.000000</td>\n",
              "      <td>0.055101</td>\n",
              "      <td>0.053620</td>\n",
              "      <td>-0.053098</td>\n",
              "      <td>-0.000510</td>\n",
              "      <td>-0.000243</td>\n",
              "      <td>0.001766</td>\n",
              "      <td>-0.000057</td>\n",
              "      <td>0.000325</td>\n",
              "      <td>0.129485</td>\n",
              "      <td>0.129485</td>\n",
              "      <td>0.127587</td>\n",
              "      <td>0.127587</td>\n",
              "      <td>-0.325398</td>\n",
              "      <td>-0.325645</td>\n",
              "      <td>0.001256</td>\n",
              "      <td>0.020456</td>\n",
              "      <td>-0.069712</td>\n",
              "      <td>-0.000177</td>\n",
              "      <td>-0.000398</td>\n",
              "      <td>0.000736</td>\n",
              "      <td>0.447373</td>\n",
              "    </tr>\n",
              "    <tr>\n",
              "      <th>SchoolHoliday</th>\n",
              "      <td>0.003316</td>\n",
              "      <td>0.068393</td>\n",
              "      <td>0.051278</td>\n",
              "      <td>0.055101</td>\n",
              "      <td>1.000000</td>\n",
              "      <td>-0.217887</td>\n",
              "      <td>0.241225</td>\n",
              "      <td>-0.002787</td>\n",
              "      <td>-0.003927</td>\n",
              "      <td>-0.015027</td>\n",
              "      <td>0.000640</td>\n",
              "      <td>-0.009637</td>\n",
              "      <td>0.074189</td>\n",
              "      <td>0.052684</td>\n",
              "      <td>0.067408</td>\n",
              "      <td>0.077567</td>\n",
              "      <td>-0.170045</td>\n",
              "      <td>-0.170191</td>\n",
              "      <td>0.030432</td>\n",
              "      <td>0.189259</td>\n",
              "      <td>0.190592</td>\n",
              "      <td>-0.000956</td>\n",
              "      <td>0.000760</td>\n",
              "      <td>-0.013402</td>\n",
              "      <td>0.091118</td>\n",
              "    </tr>\n",
              "    <tr>\n",
              "      <th>Year</th>\n",
              "      <td>-0.001003</td>\n",
              "      <td>-0.042959</td>\n",
              "      <td>0.039410</td>\n",
              "      <td>0.053620</td>\n",
              "      <td>-0.217887</td>\n",
              "      <td>1.000000</td>\n",
              "      <td>-0.707454</td>\n",
              "      <td>-0.009717</td>\n",
              "      <td>-0.004670</td>\n",
              "      <td>0.032979</td>\n",
              "      <td>0.013198</td>\n",
              "      <td>0.037540</td>\n",
              "      <td>-0.023900</td>\n",
              "      <td>-0.023900</td>\n",
              "      <td>0.020021</td>\n",
              "      <td>0.020021</td>\n",
              "      <td>0.016974</td>\n",
              "      <td>0.014938</td>\n",
              "      <td>0.038771</td>\n",
              "      <td>0.024528</td>\n",
              "      <td>-0.332735</td>\n",
              "      <td>-0.003580</td>\n",
              "      <td>-0.007500</td>\n",
              "      <td>0.013716</td>\n",
              "      <td>-0.067303</td>\n",
              "    </tr>\n",
              "    <tr>\n",
              "      <th>Month</th>\n",
              "      <td>0.000710</td>\n",
              "      <td>0.040879</td>\n",
              "      <td>-0.025268</td>\n",
              "      <td>-0.053098</td>\n",
              "      <td>0.241225</td>\n",
              "      <td>-0.707454</td>\n",
              "      <td>1.000000</td>\n",
              "      <td>0.006874</td>\n",
              "      <td>0.003304</td>\n",
              "      <td>-0.023331</td>\n",
              "      <td>0.004068</td>\n",
              "      <td>0.003657</td>\n",
              "      <td>0.018899</td>\n",
              "      <td>0.028077</td>\n",
              "      <td>-0.016843</td>\n",
              "      <td>-0.012263</td>\n",
              "      <td>-0.023913</td>\n",
              "      <td>-0.013192</td>\n",
              "      <td>-0.021396</td>\n",
              "      <td>-0.018002</td>\n",
              "      <td>0.235395</td>\n",
              "      <td>0.002533</td>\n",
              "      <td>0.005306</td>\n",
              "      <td>-0.009703</td>\n",
              "      <td>0.067948</td>\n",
              "    </tr>\n",
              "    <tr>\n",
              "      <th>Assortment</th>\n",
              "      <td>0.004014</td>\n",
              "      <td>0.023567</td>\n",
              "      <td>0.002825</td>\n",
              "      <td>-0.000510</td>\n",
              "      <td>-0.002787</td>\n",
              "      <td>-0.009717</td>\n",
              "      <td>0.006874</td>\n",
              "      <td>1.000000</td>\n",
              "      <td>0.145491</td>\n",
              "      <td>0.003934</td>\n",
              "      <td>-0.104471</td>\n",
              "      <td>-0.014110</td>\n",
              "      <td>0.000241</td>\n",
              "      <td>0.000241</td>\n",
              "      <td>-0.000188</td>\n",
              "      <td>-0.000188</td>\n",
              "      <td>-0.000159</td>\n",
              "      <td>-0.000191</td>\n",
              "      <td>-0.002196</td>\n",
              "      <td>-0.000238</td>\n",
              "      <td>0.003258</td>\n",
              "      <td>-0.035997</td>\n",
              "      <td>0.011737</td>\n",
              "      <td>0.231539</td>\n",
              "      <td>0.098033</td>\n",
              "    </tr>\n",
              "    <tr>\n",
              "      <th>CompetitionDistance</th>\n",
              "      <td>-0.026894</td>\n",
              "      <td>-0.098915</td>\n",
              "      <td>0.007592</td>\n",
              "      <td>-0.000243</td>\n",
              "      <td>-0.003927</td>\n",
              "      <td>-0.004670</td>\n",
              "      <td>0.003304</td>\n",
              "      <td>0.145491</td>\n",
              "      <td>1.000000</td>\n",
              "      <td>-0.143557</td>\n",
              "      <td>-0.017886</td>\n",
              "      <td>-0.077463</td>\n",
              "      <td>0.000117</td>\n",
              "      <td>0.000117</td>\n",
              "      <td>-0.000090</td>\n",
              "      <td>-0.000090</td>\n",
              "      <td>-0.000075</td>\n",
              "      <td>-0.000099</td>\n",
              "      <td>-0.001746</td>\n",
              "      <td>-0.000115</td>\n",
              "      <td>0.001570</td>\n",
              "      <td>-0.070864</td>\n",
              "      <td>-0.096912</td>\n",
              "      <td>0.132162</td>\n",
              "      <td>-0.014258</td>\n",
              "    </tr>\n",
              "    <tr>\n",
              "      <th>Promo2</th>\n",
              "      <td>0.006487</td>\n",
              "      <td>-0.152307</td>\n",
              "      <td>-0.008094</td>\n",
              "      <td>0.001766</td>\n",
              "      <td>-0.015027</td>\n",
              "      <td>0.032979</td>\n",
              "      <td>-0.023331</td>\n",
              "      <td>0.003934</td>\n",
              "      <td>-0.143557</td>\n",
              "      <td>1.000000</td>\n",
              "      <td>0.008439</td>\n",
              "      <td>0.793882</td>\n",
              "      <td>-0.000790</td>\n",
              "      <td>-0.000790</td>\n",
              "      <td>0.000659</td>\n",
              "      <td>0.000659</td>\n",
              "      <td>0.000558</td>\n",
              "      <td>0.000504</td>\n",
              "      <td>0.009606</td>\n",
              "      <td>0.000809</td>\n",
              "      <td>-0.010979</td>\n",
              "      <td>-0.054361</td>\n",
              "      <td>-0.003611</td>\n",
              "      <td>0.092375</td>\n",
              "      <td>-0.087088</td>\n",
              "    </tr>\n",
              "    <tr>\n",
              "      <th>day_diff_comp</th>\n",
              "      <td>0.001844</td>\n",
              "      <td>-0.009918</td>\n",
              "      <td>-0.002149</td>\n",
              "      <td>-0.000057</td>\n",
              "      <td>0.000640</td>\n",
              "      <td>0.013198</td>\n",
              "      <td>0.004068</td>\n",
              "      <td>-0.104471</td>\n",
              "      <td>-0.017886</td>\n",
              "      <td>0.008439</td>\n",
              "      <td>1.000000</td>\n",
              "      <td>-0.010098</td>\n",
              "      <td>-0.000203</td>\n",
              "      <td>-0.000070</td>\n",
              "      <td>0.000185</td>\n",
              "      <td>0.000317</td>\n",
              "      <td>-0.000026</td>\n",
              "      <td>0.000133</td>\n",
              "      <td>0.001635</td>\n",
              "      <td>-0.000043</td>\n",
              "      <td>-0.004348</td>\n",
              "      <td>-0.009174</td>\n",
              "      <td>0.024739</td>\n",
              "      <td>-0.061872</td>\n",
              "      <td>-0.010294</td>\n",
              "    </tr>\n",
              "    <tr>\n",
              "      <th>day_diff_promo</th>\n",
              "      <td>-0.012852</td>\n",
              "      <td>-0.135109</td>\n",
              "      <td>-0.006442</td>\n",
              "      <td>0.000325</td>\n",
              "      <td>-0.009637</td>\n",
              "      <td>0.037540</td>\n",
              "      <td>0.003657</td>\n",
              "      <td>-0.014110</td>\n",
              "      <td>-0.077463</td>\n",
              "      <td>0.793882</td>\n",
              "      <td>-0.010098</td>\n",
              "      <td>1.000000</td>\n",
              "      <td>-0.000631</td>\n",
              "      <td>-0.000335</td>\n",
              "      <td>0.000583</td>\n",
              "      <td>0.000881</td>\n",
              "      <td>0.000081</td>\n",
              "      <td>0.000349</td>\n",
              "      <td>0.006713</td>\n",
              "      <td>0.000094</td>\n",
              "      <td>-0.012379</td>\n",
              "      <td>-0.062326</td>\n",
              "      <td>0.022871</td>\n",
              "      <td>0.095867</td>\n",
              "      <td>-0.069443</td>\n",
              "    </tr>\n",
              "    <tr>\n",
              "      <th>DayOfWeek_2</th>\n",
              "      <td>0.000176</td>\n",
              "      <td>0.132211</td>\n",
              "      <td>0.178414</td>\n",
              "      <td>0.129485</td>\n",
              "      <td>0.074189</td>\n",
              "      <td>-0.023900</td>\n",
              "      <td>0.018899</td>\n",
              "      <td>0.000241</td>\n",
              "      <td>0.000117</td>\n",
              "      <td>-0.000790</td>\n",
              "      <td>-0.000203</td>\n",
              "      <td>-0.000631</td>\n",
              "      <td>1.000000</td>\n",
              "      <td>-0.167797</td>\n",
              "      <td>-0.168282</td>\n",
              "      <td>-0.168282</td>\n",
              "      <td>-0.165261</td>\n",
              "      <td>-0.165387</td>\n",
              "      <td>-0.037242</td>\n",
              "      <td>-0.038680</td>\n",
              "      <td>-0.035405</td>\n",
              "      <td>0.000098</td>\n",
              "      <td>0.000183</td>\n",
              "      <td>-0.000327</td>\n",
              "      <td>0.154017</td>\n",
              "    </tr>\n",
              "    <tr>\n",
              "      <th>DayOfWeek_3</th>\n",
              "      <td>0.000176</td>\n",
              "      <td>0.090930</td>\n",
              "      <td>0.187397</td>\n",
              "      <td>0.129485</td>\n",
              "      <td>0.052684</td>\n",
              "      <td>-0.023900</td>\n",
              "      <td>0.028077</td>\n",
              "      <td>0.000241</td>\n",
              "      <td>0.000117</td>\n",
              "      <td>-0.000790</td>\n",
              "      <td>-0.000070</td>\n",
              "      <td>-0.000335</td>\n",
              "      <td>-0.167797</td>\n",
              "      <td>1.000000</td>\n",
              "      <td>-0.168282</td>\n",
              "      <td>-0.168282</td>\n",
              "      <td>-0.165261</td>\n",
              "      <td>-0.165387</td>\n",
              "      <td>-0.061140</td>\n",
              "      <td>-0.038680</td>\n",
              "      <td>-0.035405</td>\n",
              "      <td>0.000098</td>\n",
              "      <td>0.000183</td>\n",
              "      <td>-0.000327</td>\n",
              "      <td>0.096719</td>\n",
              "    </tr>\n",
              "    <tr>\n",
              "      <th>DayOfWeek_4</th>\n",
              "      <td>0.000081</td>\n",
              "      <td>0.041090</td>\n",
              "      <td>0.075664</td>\n",
              "      <td>0.127587</td>\n",
              "      <td>0.067408</td>\n",
              "      <td>0.020021</td>\n",
              "      <td>-0.016843</td>\n",
              "      <td>-0.000188</td>\n",
              "      <td>-0.000090</td>\n",
              "      <td>0.000659</td>\n",
              "      <td>0.000185</td>\n",
              "      <td>0.000583</td>\n",
              "      <td>-0.168282</td>\n",
              "      <td>-0.168282</td>\n",
              "      <td>1.000000</td>\n",
              "      <td>-0.168768</td>\n",
              "      <td>-0.165738</td>\n",
              "      <td>-0.165864</td>\n",
              "      <td>0.167262</td>\n",
              "      <td>-0.038792</td>\n",
              "      <td>0.087442</td>\n",
              "      <td>-0.000063</td>\n",
              "      <td>-0.000148</td>\n",
              "      <td>0.000275</td>\n",
              "      <td>0.034289</td>\n",
              "    </tr>\n",
              "    <tr>\n",
              "      <th>DayOfWeek_5</th>\n",
              "      <td>0.000081</td>\n",
              "      <td>0.067048</td>\n",
              "      <td>0.095856</td>\n",
              "      <td>0.127587</td>\n",
              "      <td>0.077567</td>\n",
              "      <td>0.020021</td>\n",
              "      <td>-0.012263</td>\n",
              "      <td>-0.000188</td>\n",
              "      <td>-0.000090</td>\n",
              "      <td>0.000659</td>\n",
              "      <td>0.000317</td>\n",
              "      <td>0.000881</td>\n",
              "      <td>-0.168282</td>\n",
              "      <td>-0.168282</td>\n",
              "      <td>-0.168768</td>\n",
              "      <td>1.000000</td>\n",
              "      <td>-0.165738</td>\n",
              "      <td>-0.165864</td>\n",
              "      <td>0.024787</td>\n",
              "      <td>0.095531</td>\n",
              "      <td>0.087442</td>\n",
              "      <td>-0.000063</td>\n",
              "      <td>-0.000148</td>\n",
              "      <td>0.000275</td>\n",
              "      <td>0.065497</td>\n",
              "    </tr>\n",
              "    <tr>\n",
              "      <th>DayOfWeek_6</th>\n",
              "      <td>0.000085</td>\n",
              "      <td>0.027873</td>\n",
              "      <td>0.184871</td>\n",
              "      <td>-0.325398</td>\n",
              "      <td>-0.170045</td>\n",
              "      <td>0.016974</td>\n",
              "      <td>-0.023913</td>\n",
              "      <td>-0.000159</td>\n",
              "      <td>-0.000075</td>\n",
              "      <td>0.000558</td>\n",
              "      <td>-0.000026</td>\n",
              "      <td>0.000081</td>\n",
              "      <td>-0.165261</td>\n",
              "      <td>-0.165261</td>\n",
              "      <td>-0.165738</td>\n",
              "      <td>-0.165738</td>\n",
              "      <td>1.000000</td>\n",
              "      <td>-0.162887</td>\n",
              "      <td>-0.060216</td>\n",
              "      <td>-0.038095</td>\n",
              "      <td>-0.034870</td>\n",
              "      <td>-0.000052</td>\n",
              "      <td>-0.000125</td>\n",
              "      <td>0.000233</td>\n",
              "      <td>0.015421</td>\n",
              "    </tr>\n",
              "    <tr>\n",
              "      <th>DayOfWeek_7</th>\n",
              "      <td>-0.000783</td>\n",
              "      <td>-0.517551</td>\n",
              "      <td>-0.851638</td>\n",
              "      <td>-0.325645</td>\n",
              "      <td>-0.170191</td>\n",
              "      <td>0.014938</td>\n",
              "      <td>-0.013192</td>\n",
              "      <td>-0.000191</td>\n",
              "      <td>-0.000099</td>\n",
              "      <td>0.000504</td>\n",
              "      <td>0.000133</td>\n",
              "      <td>0.000349</td>\n",
              "      <td>-0.165387</td>\n",
              "      <td>-0.165387</td>\n",
              "      <td>-0.165864</td>\n",
              "      <td>-0.165864</td>\n",
              "      <td>-0.162887</td>\n",
              "      <td>1.000000</td>\n",
              "      <td>-0.060262</td>\n",
              "      <td>-0.038124</td>\n",
              "      <td>-0.034896</td>\n",
              "      <td>-0.000118</td>\n",
              "      <td>-0.000130</td>\n",
              "      <td>0.000202</td>\n",
              "      <td>-0.583560</td>\n",
              "    </tr>\n",
              "    <tr>\n",
              "      <th>StateHoliday_a</th>\n",
              "      <td>0.000425</td>\n",
              "      <td>-0.188154</td>\n",
              "      <td>-0.310788</td>\n",
              "      <td>0.001256</td>\n",
              "      <td>0.030432</td>\n",
              "      <td>0.038771</td>\n",
              "      <td>-0.021396</td>\n",
              "      <td>-0.002196</td>\n",
              "      <td>-0.001746</td>\n",
              "      <td>0.009606</td>\n",
              "      <td>0.001635</td>\n",
              "      <td>0.006713</td>\n",
              "      <td>-0.037242</td>\n",
              "      <td>-0.061140</td>\n",
              "      <td>0.167262</td>\n",
              "      <td>0.024787</td>\n",
              "      <td>-0.060216</td>\n",
              "      <td>-0.060262</td>\n",
              "      <td>1.000000</td>\n",
              "      <td>-0.014094</td>\n",
              "      <td>-0.012900</td>\n",
              "      <td>-0.000766</td>\n",
              "      <td>-0.002201</td>\n",
              "      <td>0.004338</td>\n",
              "      <td>-0.211898</td>\n",
              "    </tr>\n",
              "    <tr>\n",
              "      <th>StateHoliday_b</th>\n",
              "      <td>-0.000025</td>\n",
              "      <td>-0.120666</td>\n",
              "      <td>-0.199848</td>\n",
              "      <td>0.020456</td>\n",
              "      <td>0.189259</td>\n",
              "      <td>0.024528</td>\n",
              "      <td>-0.018002</td>\n",
              "      <td>-0.000238</td>\n",
              "      <td>-0.000115</td>\n",
              "      <td>0.000809</td>\n",
              "      <td>-0.000043</td>\n",
              "      <td>0.000094</td>\n",
              "      <td>-0.038680</td>\n",
              "      <td>-0.038680</td>\n",
              "      <td>-0.038792</td>\n",
              "      <td>0.095531</td>\n",
              "      <td>-0.038095</td>\n",
              "      <td>-0.038124</td>\n",
              "      <td>-0.014094</td>\n",
              "      <td>1.000000</td>\n",
              "      <td>-0.008161</td>\n",
              "      <td>-0.000088</td>\n",
              "      <td>-0.000184</td>\n",
              "      <td>0.000336</td>\n",
              "      <td>-0.136111</td>\n",
              "    </tr>\n",
              "    <tr>\n",
              "      <th>StateHoliday_c</th>\n",
              "      <td>0.000748</td>\n",
              "      <td>-0.111967</td>\n",
              "      <td>-0.183672</td>\n",
              "      <td>-0.069712</td>\n",
              "      <td>0.190592</td>\n",
              "      <td>-0.332735</td>\n",
              "      <td>0.235395</td>\n",
              "      <td>0.003258</td>\n",
              "      <td>0.001570</td>\n",
              "      <td>-0.010979</td>\n",
              "      <td>-0.004348</td>\n",
              "      <td>-0.012379</td>\n",
              "      <td>-0.035405</td>\n",
              "      <td>-0.035405</td>\n",
              "      <td>0.087442</td>\n",
              "      <td>0.087442</td>\n",
              "      <td>-0.034870</td>\n",
              "      <td>-0.034896</td>\n",
              "      <td>-0.012900</td>\n",
              "      <td>-0.008161</td>\n",
              "      <td>1.000000</td>\n",
              "      <td>0.001226</td>\n",
              "      <td>0.002505</td>\n",
              "      <td>-0.004562</td>\n",
              "      <td>-0.125425</td>\n",
              "    </tr>\n",
              "    <tr>\n",
              "      <th>StoreType_b</th>\n",
              "      <td>0.001440</td>\n",
              "      <td>0.388695</td>\n",
              "      <td>0.057519</td>\n",
              "      <td>-0.000177</td>\n",
              "      <td>-0.000956</td>\n",
              "      <td>-0.003580</td>\n",
              "      <td>0.002533</td>\n",
              "      <td>-0.035997</td>\n",
              "      <td>-0.070864</td>\n",
              "      <td>-0.054361</td>\n",
              "      <td>-0.009174</td>\n",
              "      <td>-0.062326</td>\n",
              "      <td>0.000098</td>\n",
              "      <td>0.000098</td>\n",
              "      <td>-0.000063</td>\n",
              "      <td>-0.000063</td>\n",
              "      <td>-0.000052</td>\n",
              "      <td>-0.000118</td>\n",
              "      <td>-0.000766</td>\n",
              "      <td>-0.000088</td>\n",
              "      <td>0.001226</td>\n",
              "      <td>1.000000</td>\n",
              "      <td>-0.049147</td>\n",
              "      <td>-0.083737</td>\n",
              "      <td>0.152669</td>\n",
              "    </tr>\n",
              "    <tr>\n",
              "      <th>StoreType_c</th>\n",
              "      <td>0.061109</td>\n",
              "      <td>0.034324</td>\n",
              "      <td>-0.004396</td>\n",
              "      <td>-0.000398</td>\n",
              "      <td>0.000760</td>\n",
              "      <td>-0.007500</td>\n",
              "      <td>0.005306</td>\n",
              "      <td>0.011737</td>\n",
              "      <td>-0.096912</td>\n",
              "      <td>-0.003611</td>\n",
              "      <td>0.024739</td>\n",
              "      <td>0.022871</td>\n",
              "      <td>0.000183</td>\n",
              "      <td>0.000183</td>\n",
              "      <td>-0.000148</td>\n",
              "      <td>-0.000148</td>\n",
              "      <td>-0.000125</td>\n",
              "      <td>-0.000130</td>\n",
              "      <td>-0.002201</td>\n",
              "      <td>-0.000184</td>\n",
              "      <td>0.002505</td>\n",
              "      <td>-0.049147</td>\n",
              "      <td>1.000000</td>\n",
              "      <td>-0.263082</td>\n",
              "      <td>-0.005566</td>\n",
              "    </tr>\n",
              "    <tr>\n",
              "      <th>StoreType_d</th>\n",
              "      <td>-0.051007</td>\n",
              "      <td>-0.177050</td>\n",
              "      <td>-0.005688</td>\n",
              "      <td>0.000736</td>\n",
              "      <td>-0.013402</td>\n",
              "      <td>0.013716</td>\n",
              "      <td>-0.009703</td>\n",
              "      <td>0.231539</td>\n",
              "      <td>0.132162</td>\n",
              "      <td>0.092375</td>\n",
              "      <td>-0.061872</td>\n",
              "      <td>0.095867</td>\n",
              "      <td>-0.000327</td>\n",
              "      <td>-0.000327</td>\n",
              "      <td>0.000275</td>\n",
              "      <td>0.000275</td>\n",
              "      <td>0.000233</td>\n",
              "      <td>0.000202</td>\n",
              "      <td>0.004338</td>\n",
              "      <td>0.000336</td>\n",
              "      <td>-0.004562</td>\n",
              "      <td>-0.083737</td>\n",
              "      <td>-0.263082</td>\n",
              "      <td>1.000000</td>\n",
              "      <td>-0.005518</td>\n",
              "    </tr>\n",
              "    <tr>\n",
              "      <th>Sales</th>\n",
              "      <td>0.003121</td>\n",
              "      <td>0.890557</td>\n",
              "      <td>0.689753</td>\n",
              "      <td>0.447373</td>\n",
              "      <td>0.091118</td>\n",
              "      <td>-0.067303</td>\n",
              "      <td>0.067948</td>\n",
              "      <td>0.098033</td>\n",
              "      <td>-0.014258</td>\n",
              "      <td>-0.087088</td>\n",
              "      <td>-0.010294</td>\n",
              "      <td>-0.069443</td>\n",
              "      <td>0.154017</td>\n",
              "      <td>0.096719</td>\n",
              "      <td>0.034289</td>\n",
              "      <td>0.065497</td>\n",
              "      <td>0.015421</td>\n",
              "      <td>-0.583560</td>\n",
              "      <td>-0.211898</td>\n",
              "      <td>-0.136111</td>\n",
              "      <td>-0.125425</td>\n",
              "      <td>0.152669</td>\n",
              "      <td>-0.005566</td>\n",
              "      <td>-0.005518</td>\n",
              "      <td>1.000000</td>\n",
              "    </tr>\n",
              "  </tbody>\n",
              "</table>\n",
              "</div>"
            ],
            "text/plain": [
              "                        Store  Customers  ...  StoreType_d     Sales\n",
              "Store                1.000000   0.022548  ...    -0.051007  0.003121\n",
              "Customers            0.022548   1.000000  ...    -0.177050  0.890557\n",
              "Open                 0.000902   0.625906  ...    -0.005688  0.689753\n",
              "Promo                0.000128   0.310944  ...     0.000736  0.447373\n",
              "SchoolHoliday        0.003316   0.068393  ...    -0.013402  0.091118\n",
              "Year                -0.001003  -0.042959  ...     0.013716 -0.067303\n",
              "Month                0.000710   0.040879  ...    -0.009703  0.067948\n",
              "Assortment           0.004014   0.023567  ...     0.231539  0.098033\n",
              "CompetitionDistance -0.026894  -0.098915  ...     0.132162 -0.014258\n",
              "Promo2               0.006487  -0.152307  ...     0.092375 -0.087088\n",
              "day_diff_comp        0.001844  -0.009918  ...    -0.061872 -0.010294\n",
              "day_diff_promo      -0.012852  -0.135109  ...     0.095867 -0.069443\n",
              "DayOfWeek_2          0.000176   0.132211  ...    -0.000327  0.154017\n",
              "DayOfWeek_3          0.000176   0.090930  ...    -0.000327  0.096719\n",
              "DayOfWeek_4          0.000081   0.041090  ...     0.000275  0.034289\n",
              "DayOfWeek_5          0.000081   0.067048  ...     0.000275  0.065497\n",
              "DayOfWeek_6          0.000085   0.027873  ...     0.000233  0.015421\n",
              "DayOfWeek_7         -0.000783  -0.517551  ...     0.000202 -0.583560\n",
              "StateHoliday_a       0.000425  -0.188154  ...     0.004338 -0.211898\n",
              "StateHoliday_b      -0.000025  -0.120666  ...     0.000336 -0.136111\n",
              "StateHoliday_c       0.000748  -0.111967  ...    -0.004562 -0.125425\n",
              "StoreType_b          0.001440   0.388695  ...    -0.083737  0.152669\n",
              "StoreType_c          0.061109   0.034324  ...    -0.263082 -0.005566\n",
              "StoreType_d         -0.051007  -0.177050  ...     1.000000 -0.005518\n",
              "Sales                0.003121   0.890557  ...    -0.005518  1.000000\n",
              "\n",
              "[25 rows x 25 columns]"
            ]
          },
          "metadata": {},
          "execution_count": 57
        }
      ]
    },
    {
      "cell_type": "code",
      "metadata": {
        "colab": {
          "base_uri": "https://localhost:8080/",
          "height": 1000
        },
        "id": "Qah4WbKUHY4m",
        "outputId": "3fd24fc3-e111-4c76-e4a3-463494de03a9"
      },
      "source": [
        "corrmat = dataset.corr()\n",
        "top_corr_features=corrmat.index\n",
        "plt.figure(figsize=(20,20))\n",
        "g=sns.heatmap(dataset[top_corr_features].corr(),annot=True,cmap=\"RdYlGn\")"
      ],
      "execution_count": 58,
      "outputs": [
        {
          "output_type": "display_data",
          "data": {
            "image/png": "[encoded data removed]",
            "text/plain": [
              "<Figure size 1440x1440 with 2 Axes>"
            ]
          },
          "metadata": {
            "needs_background": "light"
          }
        }
      ]
    },
    {
      "cell_type": "markdown",
      "metadata": {
        "id": "1Wc5yFwBH2g8"
      },
      "source": [
        "**from above correlation matrix we can see that there is no high correlation between independent variable**"
      ]
    },
    {
      "cell_type": "markdown",
      "metadata": {
        "id": "45u5OHKYIL7B"
      },
      "source": [
        "**Sales vs SchoolHoliday**"
      ]
    },
    {
      "cell_type": "code",
      "metadata": {
        "colab": {
          "base_uri": "https://localhost:8080/",
          "height": 296
        },
        "id": "wnbQQ9qTIKmp",
        "outputId": "2657fe64-3373-4e15-99d3-d14845708dce"
      },
      "source": [
        "sales_on_schoolholiday = sns.barplot(x='SchoolHoliday', y='Sales', data= dataset, palette='Reds')\n",
        "sales_on_schoolholiday "
      ],
      "execution_count": 59,
      "outputs": [
        {
          "output_type": "execute_result",
          "data": {
            "text/plain": [
              "<matplotlib.axes._subplots.AxesSubplot at 0x7f3314ab0f50>"
            ]
          },
          "metadata": {},
          "execution_count": 59
        },
        {
          "output_type": "display_data",
          "data": {
            "image/png": "[encoded data removed]",
            "text/plain": [
              "<Figure size 432x288 with 1 Axes>"
            ]
          },
          "metadata": {
            "needs_background": "light"
          }
        }
      ]
    },
    {
      "cell_type": "markdown",
      "metadata": {
        "id": "7S7tm-MeNb5m"
      },
      "source": [
        "Sales on School Holiday are just slightly higher than that of non-School Holiday. "
      ]
    },
    {
      "cell_type": "markdown",
      "metadata": {
        "id": "qPaPuJOGayEm"
      },
      "source": [
        "**Assortment vs Sales**"
      ]
    },
    {
      "cell_type": "code",
      "metadata": {
        "colab": {
          "base_uri": "https://localhost:8080/",
          "height": 296
        },
        "id": "q8Wx2465L6Uh",
        "outputId": "b97fc196-87c3-46c7-bdd1-a220d5a3efa2"
      },
      "source": [
        "assortment_sales = sns.barplot(x='Assortment', y='Sales', data= dataset, palette='Reds')\n",
        "assortment_sales"
      ],
      "execution_count": 60,
      "outputs": [
        {
          "output_type": "execute_result",
          "data": {
            "text/plain": [
              "<matplotlib.axes._subplots.AxesSubplot at 0x7f3314a082d0>"
            ]
          },
          "metadata": {},
          "execution_count": 60
        },
        {
          "output_type": "display_data",
          "data": {
            "image/png": "[encoded data removed]",
            "text/plain": [
              "<Figure size 432x288 with 1 Axes>"
            ]
          },
          "metadata": {
            "needs_background": "light"
          }
        }
      ]
    },
    {
      "cell_type": "markdown",
      "metadata": {
        "id": "W1RRv2OYNz1g"
      },
      "source": [
        "We can see that assortment 2 has the best sales among three assortments. "
      ]
    },
    {
      "cell_type": "markdown",
      "metadata": {
        "id": "0ixBbNNgZIun"
      },
      "source": [
        "**Sales by Year**"
      ]
    },
    {
      "cell_type": "code",
      "metadata": {
        "colab": {
          "base_uri": "https://localhost:8080/",
          "height": 301
        },
        "id": "R2KGBbb-NvZk",
        "outputId": "d5d437b5-6861-4183-e782-0c4f5bb9610c"
      },
      "source": [
        "#sales_per_year = sns.barplot(x='Year', y='Sales', data= dataset, palette='Reds')\n",
        "#sales_per_year\n",
        "dataset.boxplot(column='Sales', by='Year')\n",
        "plt.show()"
      ],
      "execution_count": 61,
      "outputs": [
        {
          "output_type": "display_data",
          "data": {
            "image/png": "[encoded data removed]",
            "text/plain": [
              "<Figure size 432x288 with 1 Axes>"
            ]
          },
          "metadata": {
            "needs_background": "light"
          }
        }
      ]
    },
    {
      "cell_type": "markdown",
      "metadata": {
        "id": "2EylJtu6bx8h"
      },
      "source": [
        "From above boxplot we can say that average sales of year 2015 is higher than other years."
      ]
    },
    {
      "cell_type": "markdown",
      "metadata": {
        "id": "IwR7gciwbrkO"
      },
      "source": [
        "**Sales by Month**"
      ]
    },
    {
      "cell_type": "code",
      "metadata": {
        "colab": {
          "base_uri": "https://localhost:8080/",
          "height": 301
        },
        "id": "yomy90TrTXkC",
        "outputId": "afc0d72c-e669-42d9-bf4f-48fafb728602"
      },
      "source": [
        "#sales_per_year = sns.barplot(x='Month', y='Sales', data= dataset, palette='Reds')\n",
        "#sales_per_year\n",
        "dataset.boxplot(column='Sales', by='Month')\n",
        "plt.show()"
      ],
      "execution_count": 62,
      "outputs": [
        {
          "output_type": "display_data",
          "data": {
            "image/png": "[encoded data removed]",
            "text/plain": [
              "<Figure size 432x288 with 1 Axes>"
            ]
          },
          "metadata": {
            "needs_background": "light"
          }
        }
      ]
    },
    {
      "cell_type": "markdown",
      "metadata": {
        "id": "E_JN5PBNcVMl"
      },
      "source": [
        "Average sales of month 12 or december is comparatively higher than other months"
      ]
    },
    {
      "cell_type": "markdown",
      "metadata": {
        "id": "YvxIPVyMhmKp"
      },
      "source": [
        "## Splitting the dataset into the Training set and Test set"
      ]
    },
    {
      "cell_type": "code",
      "metadata": {
        "id": "0dy-5Yb87iGa"
      },
      "source": [
        "X = dataset.iloc[:, :-1].values\n",
        "y = dataset.iloc[:, -1].values"
      ],
      "execution_count": 63,
      "outputs": []
    },
    {
      "cell_type": "code",
      "metadata": {
        "id": "AVzJWAXIhxoC"
      },
      "source": [
        "from sklearn.model_selection import train_test_split\n",
        "X_train, X_test, y_train, y_test = train_test_split(X, y, test_size = 0.20, shuffle=False )"
      ],
      "execution_count": 64,
      "outputs": []
    },
    {
      "cell_type": "code",
      "metadata": {
        "id": "P3nS3-6r1i2B",
        "colab": {
          "base_uri": "https://localhost:8080/"
        },
        "outputId": "270c0d3e-07b9-4742-ee8b-98032c6d45ed"
      },
      "source": [
        "print(X_train)"
      ],
      "execution_count": 65,
      "outputs": [
        {
          "output_type": "stream",
          "name": "stdout",
          "text": [
            "[[5.000e+01 0.000e+00 0.000e+00 ... 0.000e+00 0.000e+00 1.000e+00]\n",
            " [2.700e+01 0.000e+00 0.000e+00 ... 0.000e+00 0.000e+00 0.000e+00]\n",
            " [4.700e+01 0.000e+00 0.000e+00 ... 0.000e+00 0.000e+00 0.000e+00]\n",
            " ...\n",
            " [2.920e+02 9.060e+02 1.000e+00 ... 0.000e+00 0.000e+00 0.000e+00]\n",
            " [2.500e+01 1.680e+03 1.000e+00 ... 0.000e+00 1.000e+00 0.000e+00]\n",
            " [1.450e+02 1.297e+03 1.000e+00 ... 0.000e+00 0.000e+00 0.000e+00]]\n"
          ]
        }
      ]
    },
    {
      "cell_type": "code",
      "metadata": {
        "id": "8dpDLojm1mVG",
        "colab": {
          "base_uri": "https://localhost:8080/"
        },
        "outputId": "7dcb247d-e901-4496-928b-f96e4540fa22"
      },
      "source": [
        "print(y_train)"
      ],
      "execution_count": 66,
      "outputs": [
        {
          "output_type": "stream",
          "name": "stdout",
          "text": [
            "[    0     0     0 ...  7817 12278  9711]\n"
          ]
        }
      ]
    },
    {
      "cell_type": "code",
      "metadata": {
        "id": "qbb7i0DH1qui",
        "colab": {
          "base_uri": "https://localhost:8080/"
        },
        "outputId": "4f6897d2-6433-49dc-c03e-0741c9c3b802"
      },
      "source": [
        "print(X_test)"
      ],
      "execution_count": 67,
      "outputs": [
        {
          "output_type": "stream",
          "name": "stdout",
          "text": [
            "[[3.930e+02 6.480e+02 1.000e+00 ... 0.000e+00 0.000e+00 1.000e+00]\n",
            " [7.870e+02 1.226e+03 1.000e+00 ... 0.000e+00 1.000e+00 0.000e+00]\n",
            " [4.800e+02 7.400e+02 1.000e+00 ... 0.000e+00 0.000e+00 0.000e+00]\n",
            " ...\n",
            " [6.210e+02 8.700e+02 1.000e+00 ... 0.000e+00 0.000e+00 0.000e+00]\n",
            " [6.120e+02 4.930e+02 1.000e+00 ... 0.000e+00 0.000e+00 1.000e+00]\n",
            " [1.000e+00 5.550e+02 1.000e+00 ... 0.000e+00 1.000e+00 0.000e+00]]\n"
          ]
        }
      ]
    },
    {
      "cell_type": "code",
      "metadata": {
        "id": "kj1hnFAR1s5w",
        "colab": {
          "base_uri": "https://localhost:8080/"
        },
        "outputId": "8602e5b0-0995-4df3-aa24-f120635ab5de"
      },
      "source": [
        "print(y_test)"
      ],
      "execution_count": 68,
      "outputs": [
        {
          "output_type": "stream",
          "name": "stdout",
          "text": [
            "[ 7514 12227  6405 ...  7296  8161  5263]\n"
          ]
        }
      ]
    },
    {
      "cell_type": "markdown",
      "metadata": {
        "id": "QHTKNlRJIh-3"
      },
      "source": [
        "##KNN Model"
      ]
    },
    {
      "cell_type": "markdown",
      "metadata": {
        "id": "-3zyUqzeJbSA"
      },
      "source": [
        "## Feature Scaling"
      ]
    },
    {
      "cell_type": "code",
      "metadata": {
        "id": "LIwFZJOPJbSB"
      },
      "source": [
        "from sklearn.preprocessing import StandardScaler\n",
        "sc = StandardScaler()\n",
        "X_train_scaled = sc.fit_transform(X_train)\n",
        "X_test_scaled = sc.transform(X_test)"
      ],
      "execution_count": 69,
      "outputs": []
    },
    {
      "cell_type": "code",
      "metadata": {
        "colab": {
          "base_uri": "https://localhost:8080/"
        },
        "id": "_i_Dn2HwJbSB",
        "outputId": "c4f0f2bd-a537-4fdd-819d-c679e8e2c304"
      },
      "source": [
        "print(X_train_scaled)"
      ],
      "execution_count": 70,
      "outputs": [
        {
          "output_type": "stream",
          "name": "stdout",
          "text": [
            "[[-1.57691811 -1.33652476 -2.09363787 ... -0.12513866 -0.39322925\n",
            "   1.49514533]\n",
            " [-1.64831411 -1.33652476 -2.09363787 ... -0.12513866 -0.39322925\n",
            "  -0.6688313 ]\n",
            " [-1.58623064 -1.33652476 -2.09363787 ... -0.12513866 -0.39322925\n",
            "  -0.6688313 ]\n",
            " ...\n",
            " [-0.82570805  0.5949888   0.47763752 ... -0.12513866 -0.39322925\n",
            "  -0.6688313 ]\n",
            " [-1.65452246  2.24508979  0.47763752 ... -0.12513866  2.54304583\n",
            "  -0.6688313 ]\n",
            " [-1.2820216   1.42856695  0.47763752 ... -0.12513866 -0.39322925\n",
            "  -0.6688313 ]]\n"
          ]
        }
      ]
    },
    {
      "cell_type": "code",
      "metadata": {
        "colab": {
          "base_uri": "https://localhost:8080/"
        },
        "id": "Q3pPR2JwJbSB",
        "outputId": "ef85d983-8fcb-4d3d-8343-0f1736c3f70c"
      },
      "source": [
        "print(X_test_scaled)"
      ],
      "execution_count": 71,
      "outputs": [
        {
          "output_type": "stream",
          "name": "stdout",
          "text": [
            "[[-0.51218649  0.04495514  0.47763752 ... -0.12513866 -0.39322925\n",
            "   1.49514533]\n",
            " [ 0.710858    1.2772011   0.47763752 ... -0.12513866  2.54304583\n",
            "  -0.6688313 ]\n",
            " [-0.24212337  0.24109118  0.47763752 ... -0.12513866 -0.39322925\n",
            "  -0.6688313 ]\n",
            " ...\n",
            " [ 0.19556514  0.51823992  0.47763752 ... -0.12513866 -0.39322925\n",
            "  -0.6688313 ]\n",
            " [ 0.16762758 -0.28549144  0.47763752 ... -0.12513866 -0.39322925\n",
            "   1.49514533]\n",
            " [-1.72902263 -0.15331281  0.47763752 ... -0.12513866  2.54304583\n",
            "  -0.6688313 ]]\n"
          ]
        }
      ]
    },
    {
      "cell_type": "markdown",
      "metadata": {
        "id": "bb6jCOCQiAmP"
      },
      "source": [
        "## Training the K-NN model on the Training set and Predicting the Test set results"
      ]
    },
    {
      "cell_type": "code",
      "metadata": {
        "id": "e0pFVAmciHQs",
        "colab": {
          "base_uri": "https://localhost:8080/"
        },
        "outputId": "1590bf65-0658-4c1b-958d-804ff27b3978"
      },
      "source": [
        "#to store rmse values for different k\n",
        "rmse_val = [] \n",
        "for K in range(5):\n",
        "    K = K+1\n",
        "    model = neighbors.KNeighborsRegressor(n_neighbors = K, weights='uniform', algorithm='auto', leaf_size=30, p=2, metric='minkowski', metric_params=None, n_jobs=-1)\n",
        "    #fit the model\n",
        "    model.fit(X_train_scaled, y_train)\n",
        "    #make prediction on test set  \n",
        "    pred=model.predict(X_test_scaled) \n",
        "    #calculate rmse\n",
        "    error = sqrt(mean_squared_error(y_test,pred)) \n",
        "    #store rmse values\n",
        "    rmse_val.append(error) \n",
        "    print('RMSE value for k= ' , K , 'is:', error)"
      ],
      "execution_count": 72,
      "outputs": [
        {
          "output_type": "stream",
          "name": "stdout",
          "text": [
            "RMSE value for k=  1 is: 1386.3516645325174\n",
            "RMSE value for k=  2 is: 1249.7664917060713\n",
            "RMSE value for k=  3 is: 1219.178983570803\n",
            "RMSE value for k=  4 is: 1219.3820709412591\n",
            "RMSE value for k=  5 is: 1233.4901580124472\n"
          ]
        }
      ]
    },
    {
      "cell_type": "code",
      "metadata": {
        "id": "i01gm33FJbSC",
        "colab": {
          "base_uri": "https://localhost:8080/",
          "height": 282
        },
        "outputId": "10c4fad6-e104-4a50-f86e-d5e17bebbfc7"
      },
      "source": [
        "#plotting the rmse values against k values\n",
        "curve = pd.DataFrame(rmse_val) #elbow curve \n",
        "curve.plot()"
      ],
      "execution_count": 73,
      "outputs": [
        {
          "output_type": "execute_result",
          "data": {
            "text/plain": [
              "<matplotlib.axes._subplots.AxesSubplot at 0x7f331390b490>"
            ]
          },
          "metadata": {},
          "execution_count": 73
        },
        {
          "output_type": "display_data",
          "data": {
            "image/png": "[encoded data removed]",
            "text/plain": [
              "<Figure size 432x288 with 1 Axes>"
            ]
          },
          "metadata": {
            "needs_background": "light"
          }
        }
      ]
    },
    {
      "cell_type": "code",
      "metadata": {
        "colab": {
          "base_uri": "https://localhost:8080/"
        },
        "id": "XFo9XR1y1Zxp",
        "outputId": "80440638-12af-4101-d3da-368921c0db92"
      },
      "source": [
        "#For deciding the value of k, plotting the elbow curve every time is be a tedious process. we can simply use gridsearch to find the best value.\n",
        "\n",
        "from sklearn.model_selection import GridSearchCV\n",
        "params = {'n_neighbors':[2,3,4,5,6,7,8,9]}\n",
        "\n",
        "knn = neighbors.KNeighborsRegressor()\n",
        "\n",
        "model = GridSearchCV(knn, params, cv=5)\n",
        "model.fit(X_train,y_train)\n",
        "model.best_params_"
      ],
      "execution_count": 74,
      "outputs": [
        {
          "output_type": "execute_result",
          "data": {
            "text/plain": [
              "{'n_neighbors': 6}"
            ]
          },
          "metadata": {},
          "execution_count": 74
        }
      ]
    },
    {
      "cell_type": "markdown",
      "metadata": {
        "id": "X5REIBRiJbSD"
      },
      "source": [
        "## Evaluating the Model Performance"
      ]
    },
    {
      "cell_type": "markdown",
      "metadata": {
        "id": "HApuy7h9earn"
      },
      "source": [
        "**Checking R2 Score**"
      ]
    },
    {
      "cell_type": "code",
      "metadata": {
        "id": "vhvRSg1KJbSE",
        "colab": {
          "base_uri": "https://localhost:8080/"
        },
        "outputId": "2e3c8a1c-05d8-4a49-af51-00926f2052ed"
      },
      "source": [
        "#R2 Score\n",
        "from sklearn.metrics import r2_score\n",
        "r2_score(y_test, pred)"
      ],
      "execution_count": 76,
      "outputs": [
        {
          "output_type": "execute_result",
          "data": {
            "text/plain": [
              "0.8879443004253998"
            ]
          },
          "metadata": {},
          "execution_count": 76
        }
      ]
    },
    {
      "cell_type": "code",
      "metadata": {
        "id": "0w9QvSjip7VZ",
        "colab": {
          "base_uri": "https://localhost:8080/",
          "height": 282
        },
        "outputId": "76ce4807-cef6-4a2b-f849-f729d9808a98"
      },
      "source": [
        "\n",
        "sns.distplot(y_test-pred)"
      ],
      "execution_count": 77,
      "outputs": [
        {
          "output_type": "execute_result",
          "data": {
            "text/plain": [
              "<matplotlib.axes._subplots.AxesSubplot at 0x7f33137976d0>"
            ]
          },
          "metadata": {},
          "execution_count": 77
        },
        {
          "output_type": "display_data",
          "data": {
            "image/png": "[encoded data removed]",
            "text/plain": [
              "<Figure size 432x288 with 1 Axes>"
            ]
          },
          "metadata": {
            "needs_background": "light"
          }
        }
      ]
    },
    {
      "cell_type": "markdown",
      "metadata": {
        "id": "OOQ93nz0e2bA"
      },
      "source": [
        "from below plot we can  see the difference between actual and predicted value. since it is minimal so we are getting closed minimal gaussian distribution graph. "
      ]
    },
    {
      "cell_type": "code",
      "metadata": {
        "colab": {
          "base_uri": "https://localhost:8080/",
          "height": 282
        },
        "id": "lRryuqLZeR4-",
        "outputId": "22ac1fb4-8bdc-4e69-b99d-b61a43881ad5"
      },
      "source": [
        "plt.scatter(y_test,pred)"
      ],
      "execution_count": 78,
      "outputs": [
        {
          "output_type": "execute_result",
          "data": {
            "text/plain": [
              "<matplotlib.collections.PathCollection at 0x7f331365c8d0>"
            ]
          },
          "metadata": {},
          "execution_count": 78
        },
        {
          "output_type": "display_data",
          "data": {
            "image/png": "[encoded data removed]",
            "text/plain": [
              "<Figure size 432x288 with 1 Axes>"
            ]
          },
          "metadata": {
            "needs_background": "light"
          }
        }
      ]
    },
    {
      "cell_type": "markdown",
      "metadata": {
        "id": "h7hoMbsMe-Sd"
      },
      "source": [
        "From above plot we can see that the values of actual and prediction are almost  align in a line itself. so that's why we can say this model is good."
      ]
    },
    {
      "cell_type": "code",
      "metadata": {
        "id": "WTc3KvS9eXCP"
      },
      "source": [
        ""
      ],
      "execution_count": null,
      "outputs": []
    }
  ]
}